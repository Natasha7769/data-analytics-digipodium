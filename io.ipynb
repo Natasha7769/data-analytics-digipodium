{
 "cells": [
  {
   "cell_type": "markdown",
   "metadata": {},
   "source": [
    "* display simple data\n",
    "* formatted display"
   ]
  },
  {
   "cell_type": "code",
   "execution_count": 1,
   "metadata": {},
   "outputs": [],
   "source": [
    "name= \"Alexander\"\n",
    "age  = 23"
   ]
  },
  {
   "cell_type": "code",
   "execution_count": 2,
   "metadata": {},
   "outputs": [
    {
     "data": {
      "text/plain": [
       "23"
      ]
     },
     "execution_count": 2,
     "metadata": {},
     "output_type": "execute_result"
    }
   ],
   "source": [
    "name\n",
    "age"
   ]
  },
  {
   "cell_type": "code",
   "execution_count": 3,
   "metadata": {},
   "outputs": [
    {
     "name": "stdout",
     "output_type": "stream",
     "text": [
      "Alexander\n",
      "23\n"
     ]
    }
   ],
   "source": [
    "print(name)\n",
    "print(age)"
   ]
  },
  {
   "cell_type": "code",
   "execution_count": 4,
   "metadata": {},
   "outputs": [
    {
     "name": "stdout",
     "output_type": "stream",
     "text": [
      "Your name is Alexander\n",
      "you are 23 years old\n"
     ]
    }
   ],
   "source": [
    "print(\"Your name is\", name)\n",
    "print(\"you are\",age,\"years old\")"
   ]
  },
  {
   "cell_type": "code",
   "execution_count": 5,
   "metadata": {},
   "outputs": [
    {
     "name": "stdout",
     "output_type": "stream",
     "text": [
      "Amaan Nishant Ayush Kratagya\n"
     ]
    }
   ],
   "source": [
    "print(\"Amaan\",\"Nishant\",\"Ayush\",\"Kratagya\")"
   ]
  },
  {
   "cell_type": "code",
   "execution_count": 7,
   "metadata": {},
   "outputs": [
    {
     "name": "stdout",
     "output_type": "stream",
     "text": [
      "Amaan\n",
      "Nishant\n",
      "Ayush\n",
      "Kratagya\n"
     ]
    }
   ],
   "source": [
    "print(\"Amaan\",\"Nishant\",\"Ayush\",\"Kratagya\",sep=\"\\n\")"
   ]
  },
  {
   "cell_type": "code",
   "execution_count": 8,
   "metadata": {},
   "outputs": [
    {
     "name": "stdout",
     "output_type": "stream",
     "text": [
      "Amaan aur Nishant aur Ayush aur Kratagya\n"
     ]
    }
   ],
   "source": [
    "print(\"Amaan\",\"Nishant\",\"Ayush\",\"Kratagya\",sep=\" aur \")"
   ]
  },
  {
   "cell_type": "code",
   "execution_count": 9,
   "metadata": {},
   "outputs": [
    {
     "name": "stdout",
     "output_type": "stream",
     "text": [
      "1\n",
      "2\n",
      "3\n"
     ]
    }
   ],
   "source": [
    "print(1)\n",
    "print(2)\n",
    "print(3)\n"
   ]
  },
  {
   "cell_type": "code",
   "execution_count": 10,
   "metadata": {},
   "outputs": [
    {
     "name": "stdout",
     "output_type": "stream",
     "text": [
      "1 2\n",
      "3\n"
     ]
    }
   ],
   "source": [
    "print(1, end=\" \")\n",
    "print(2)\n",
    "print(3)\n"
   ]
  },
  {
   "cell_type": "markdown",
   "metadata": {},
   "source": [
    "### f-string = formatted string literals"
   ]
  },
  {
   "cell_type": "code",
   "execution_count": 11,
   "metadata": {},
   "outputs": [
    {
     "name": "stdout",
     "output_type": "stream",
     "text": [
      "5 + 10 = 15\n"
     ]
    }
   ],
   "source": [
    "x = 5\n",
    "y = 10\n",
    "z = 20\n",
    "\n",
    "print(x,\"+\",y,\"=\",x+y)"
   ]
  },
  {
   "cell_type": "code",
   "execution_count": 12,
   "metadata": {},
   "outputs": [
    {
     "name": "stdout",
     "output_type": "stream",
     "text": [
      "5+10=15\n"
     ]
    }
   ],
   "source": [
    "print(f'{x}+{y}={x+y}')"
   ]
  },
  {
   "cell_type": "code",
   "execution_count": 14,
   "metadata": {},
   "outputs": [
    {
     "data": {
      "text/plain": [
       "5"
      ]
     },
     "execution_count": 14,
     "metadata": {},
     "output_type": "execute_result"
    }
   ],
   "source": [
    "p1= \"Natasha\"\n",
    "p2 = \"Mehak\"\n",
    "len(p1)\n",
    "len(p2)"
   ]
  },
  {
   "cell_type": "code",
   "execution_count": 1,
   "metadata": {},
   "outputs": [
    {
     "name": "stdout",
     "output_type": "stream",
     "text": [
      "Natasha has 7 Chars\n",
      "Mehak has 5 Chars\n"
     ]
    }
   ],
   "source": [
    "p1= \"Natasha\"\n",
    "p2 = \"Mehak\"\n",
    "print(f'{p1} has {len(p1)} Chars')\n",
    "print(f\"{p2} has {len(p2)} Chars\")"
   ]
  },
  {
   "cell_type": "code",
   "execution_count": 16,
   "metadata": {},
   "outputs": [
    {
     "name": "stdout",
     "output_type": "stream",
     "text": [
      "Natasha = 7 Chars\n",
      "Mehak = 5 Chars\n"
     ]
    }
   ],
   "source": [
    "print(f\"{p1} = {len(p1)} Chars\")\n",
    "print(f\"{p2} = {len(p2)} Chars\")"
   ]
  },
  {
   "cell_type": "code",
   "execution_count": 17,
   "metadata": {},
   "outputs": [
    {
     "name": "stdout",
     "output_type": "stream",
     "text": [
      "Natasha    = 7 Chars\n",
      "Mehak      = 5 Chars\n",
      "Sam        = 3 Chars\n"
     ]
    }
   ],
   "source": [
    "p3 =\"Sam\"\n",
    "print(f\"{p1:10} = {len(p1)} Chars\")\n",
    "print(f\"{p2:10} = {len(p2)} Chars\")\n",
    "print(f\"{p3:10} = {len(p3)} Chars\")\n"
   ]
  },
  {
   "cell_type": "code",
   "execution_count": 18,
   "metadata": {},
   "outputs": [
    {
     "name": "stdout",
     "output_type": "stream",
     "text": [
      "   Natasha = 7 Chars\n",
      "     Mehak = 5 Chars\n",
      "       Sam = 3 Chars\n"
     ]
    }
   ],
   "source": [
    "print(f\"{p1:>10} = {len(p1)} Chars\")\n",
    "print(f\"{p2:>10} = {len(p2)} Chars\")\n",
    "print(f\"{p3:>10} = {len(p3)} Chars\")"
   ]
  },
  {
   "cell_type": "code",
   "execution_count": 19,
   "metadata": {},
   "outputs": [
    {
     "name": "stdout",
     "output_type": "stream",
     "text": [
      " Natasha   = 7 Chars\n",
      "  Mehak    = 5 Chars\n",
      "   Sam     = 3 Chars\n"
     ]
    }
   ],
   "source": [
    "print(f\"{p1:^10} = {len(p1)} Chars\")\n",
    "print(f\"{p2:^10} = {len(p2)} Chars\")\n",
    "print(f\"{p3:^10} = {len(p3)} Chars\")"
   ]
  },
  {
   "cell_type": "code",
   "execution_count": 20,
   "metadata": {},
   "outputs": [
    {
     "name": "stdout",
     "output_type": "stream",
     "text": [
      "Natasha    = 7 Chars\n",
      "Mehak      = 5 Chars\n",
      "Sam        = 3 Chars\n"
     ]
    }
   ],
   "source": [
    "print(f\"{p1:<10} = {len(p1)} Chars\")\n",
    "print(f\"{p2:<10} = {len(p2)} Chars\")\n",
    "print(f\"{p3:<10} = {len(p3)} Chars\")"
   ]
  },
  {
   "cell_type": "code",
   "execution_count": 24,
   "metadata": {},
   "outputs": [
    {
     "name": "stdout",
     "output_type": "stream",
     "text": [
      "the value of pi is 3.142857142857143\n",
      "the value of pi is 3.14\n",
      "the value of pi is 3.14286\n",
      "😊\n"
     ]
    }
   ],
   "source": [
    "pi = 22/7\n",
    "print(f'the value of pi is {pi}') \n",
    "print(f'the value of pi is {pi:.2f}') \n",
    "print(f'the value of pi is {pi:.5f}') \n",
    "print('😊') # wind + ."
   ]
  },
  {
   "cell_type": "markdown",
   "metadata": {},
   "source": [
    "### input()"
   ]
  },
  {
   "cell_type": "code",
   "execution_count": 25,
   "metadata": {},
   "outputs": [],
   "source": [
    "city = input(\"Which city do you live in? \")"
   ]
  },
  {
   "cell_type": "code",
   "execution_count": 26,
   "metadata": {},
   "outputs": [
    {
     "name": "stdout",
     "output_type": "stream",
     "text": [
      "I live in lucknow\n"
     ]
    }
   ],
   "source": [
    "print(f'I live in {city}')"
   ]
  },
  {
   "cell_type": "markdown",
   "metadata": {},
   "source": [
    "### type casting"
   ]
  },
  {
   "cell_type": "code",
   "execution_count": 29,
   "metadata": {},
   "outputs": [
    {
     "name": "stdout",
     "output_type": "stream",
     "text": [
      "<class 'int'>\n",
      "True <class 'bool'>\n",
      "1 <class 'int'>\n"
     ]
    }
   ],
   "source": [
    "a = 10\n",
    "print(type(a))\n",
    "a = bool(a) # convert  a to boolean\n",
    "print (a, type(a))\n",
    "a = int(a) # convert a to integer\n",
    "print(a,type(a)) "
   ]
  },
  {
   "cell_type": "code",
   "execution_count": 30,
   "metadata": {},
   "outputs": [
    {
     "name": "stdout",
     "output_type": "stream",
     "text": [
      "100001 <class 'str'>\n",
      "100001 <class 'int'>\n"
     ]
    }
   ],
   "source": [
    "a ='100001'\n",
    "print(a,type(a))\n",
    "a = int(a)\n",
    "print(a,type(a))"
   ]
  },
  {
   "cell_type": "code",
   "execution_count": 31,
   "metadata": {},
   "outputs": [
    {
     "name": "stdout",
     "output_type": "stream",
     "text": [
      "3 <class 'int'>\n",
      "3.0 <class 'float'>\n"
     ]
    }
   ],
   "source": [
    "pi = int(pi)\n",
    "print(pi,type(pi))\n",
    "pi= float(pi)\n",
    "print(pi,type(pi))"
   ]
  },
  {
   "cell_type": "code",
   "execution_count": 32,
   "metadata": {},
   "outputs": [
    {
     "name": "stdout",
     "output_type": "stream",
     "text": [
      "3.000000000000000\n"
     ]
    }
   ],
   "source": [
    "print(f'{pi:.15f}')"
   ]
  },
  {
   "cell_type": "code",
   "execution_count": 34,
   "metadata": {},
   "outputs": [
    {
     "name": "stdout",
     "output_type": "stream",
     "text": [
      "64\n"
     ]
    }
   ],
   "source": [
    "a = int(input('Enter a: '))\n",
    "b = int(input('Enter b: '))\n",
    "print(a ** b)\n"
   ]
  },
  {
   "cell_type": "markdown",
   "metadata": {},
   "source": []
  },
  {
   "cell_type": "code",
   "execution_count": null,
   "metadata": {},
   "outputs": [],
   "source": []
  }
 ],
 "metadata": {
  "kernelspec": {
   "display_name": "Python 3",
   "language": "python",
   "name": "python3"
  },
  "language_info": {
   "codemirror_mode": {
    "name": "ipython",
    "version": 3
   },
   "file_extension": ".py",
   "mimetype": "text/x-python",
   "name": "python",
   "nbconvert_exporter": "python",
   "pygments_lexer": "ipython3",
   "version": "3.11.5"
  }
 },
 "nbformat": 4,
 "nbformat_minor": 2
}
