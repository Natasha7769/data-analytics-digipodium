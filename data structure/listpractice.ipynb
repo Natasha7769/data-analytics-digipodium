{
 "cells": [
  {
   "cell_type": "markdown",
   "metadata": {},
   "source": [
    "### Write a program that creates an empty list and then asks the user to input integers to add to the list. Print the final list."
   ]
  },
  {
   "cell_type": "code",
   "execution_count": 8,
   "metadata": {},
   "outputs": [
    {
     "name": "stdout",
     "output_type": "stream",
     "text": [
      "[1, 2, 3]\n"
     ]
    }
   ],
   "source": [
    "integers=[]\n",
    "integers.append(1)\n",
    "integers.append(2)\n",
    "integers.append(3)\n",
    "print(integers)"
   ]
  },
  {
   "cell_type": "markdown",
   "metadata": {},
   "source": [
    "Write a program that creates a list of integers and then asks the user to input an integer to check if it exists in the list. Print a message indicating whether the integer is in the list or not."
   ]
  },
  {
   "cell_type": "code",
   "execution_count": null,
   "metadata": {},
   "outputs": [],
   "source": []
  },
  {
   "cell_type": "markdown",
   "metadata": {},
   "source": [
    "Write a program that creates a list of strings and then sorts the list alphabetically. Print the sorted list."
   ]
  },
  {
   "cell_type": "code",
   "execution_count": 11,
   "metadata": {},
   "outputs": [
    {
     "name": "stdout",
     "output_type": "stream",
     "text": [
      "['black', 'blue', 'green', 'orange', 'red']\n"
     ]
    }
   ],
   "source": [
    "a=['red','green','blue','orange','black']\n",
    "a.sort()\n",
    "print(a)"
   ]
  },
  {
   "cell_type": "markdown",
   "metadata": {},
   "source": [
    "Write a program that creates a list of integers and then finds the maximum value in the list. Print the maximum value."
   ]
  },
  {
   "cell_type": "code",
   "execution_count": 20,
   "metadata": {},
   "outputs": [
    {
     "name": "stdout",
     "output_type": "stream",
     "text": [
      "80\n"
     ]
    }
   ],
   "source": [
    "b = [10,20,30,80,40,50,60]\n",
    "b.sort(reverse=True)\n",
    "print(b[0])\n",
    "\n"
   ]
  },
  {
   "cell_type": "markdown",
   "metadata": {},
   "source": [
    "Write a program that creates two lists of integers and then finds the common elements between those two lists. Print the common elements."
   ]
  },
  {
   "cell_type": "code",
   "execution_count": null,
   "metadata": {},
   "outputs": [],
   "source": [
    "c=[10,20,30,40,50,60]\n",
    "d=[30,70,80,10,20,30]\n"
   ]
  },
  {
   "cell_type": "markdown",
   "metadata": {},
   "source": [
    "Write a program that creates a list of strings and then removes all elements that contain a specific substring. Print the final list."
   ]
  },
  {
   "cell_type": "markdown",
   "metadata": {},
   "source": [
    "Write a program that creates a list of strings and then finds the longest string in the list. Print the longest string."
   ]
  },
  {
   "cell_type": "markdown",
   "metadata": {},
   "source": [
    "Write a program that creates a list of strings and then finds the longest string in the list. Print the longest string."
   ]
  },
  {
   "cell_type": "markdown",
   "metadata": {},
   "source": [
    "Write a program that creates a list of integers and then asks the user to input a position to remove an element from the list. Print the final list."
   ]
  },
  {
   "cell_type": "markdown",
   "metadata": {},
   "source": [
    "Write a program that creates a list of strings and then concatenates all the strings into a single string. Print the final string."
   ]
  },
  {
   "cell_type": "markdown",
   "metadata": {},
   "source": [
    "Write a program that creates a list of integers and then finds the median value of the list. Print the median."
   ]
  },
  {
   "cell_type": "markdown",
   "metadata": {},
   "source": [
    "Write a program that creates a list of strings and then reverses the order of the strings in the list. Print the reversed list."
   ]
  },
  {
   "cell_type": "markdown",
   "metadata": {},
   "source": [
    "Write a program that creates a list of integers and then calculates the average of all the numbers in the list. Print the average."
   ]
  },
  {
   "cell_type": "markdown",
   "metadata": {},
   "source": [
    "Write a program that creates a list of integers and then finds the index of a specific element in the list. Print the index."
   ]
  },
  {
   "cell_type": "markdown",
   "metadata": {},
   "source": [
    "Write a program that creates a list of strings and then removes all whitespace characters from each string in the list. Print the final list."
   ]
  },
  {
   "cell_type": "markdown",
   "metadata": {},
   "source": [
    "Write a program that creates a list of integers and then sorts the list in descending order. Print the sorted list."
   ]
  },
  {
   "cell_type": "markdown",
   "metadata": {},
   "source": [
    "Write a program that creates a list of integers and then asks the user to input a value to add to the list. Add the value to the beginning of the list and print the final list."
   ]
  },
  {
   "cell_type": "markdown",
   "metadata": {},
   "source": [
    "Write a program that creates two lists of integers and then concatenates those two lists into a single list. Print the final list."
   ]
  },
  {
   "cell_type": "markdown",
   "metadata": {},
   "source": [
    "Write a program that uses the map function to create a new list that contains the squares of each element in a user inputted list of integers."
   ]
  },
  {
   "cell_type": "markdown",
   "metadata": {},
   "source": [
    "Write a program that uses a lambda expression and the map function to convert a list of integers to a list of strings. Print the new list."
   ]
  },
  {
   "cell_type": "markdown",
   "metadata": {},
   "source": [
    "Write a program that uses a lambda expression and the map function to add 10 to each element in a list of integers. Print the new list."
   ]
  },
  {
   "cell_type": "markdown",
   "metadata": {},
   "source": [
    "Write a program that uses the map function to create a new list that contains the uppercase version of each string in a user inputted list of strings.\n"
   ]
  },
  {
   "cell_type": "markdown",
   "metadata": {},
   "source": [
    "Write a program that uses the filter function to create a new list that contains only the even numbers from a user inputted list of integers."
   ]
  },
  {
   "cell_type": "markdown",
   "metadata": {},
   "source": [
    "Write a program that uses a lambda expression and the filter function to create a new list that contains only the strings that start with a vowel from a user inputted list of strings."
   ]
  },
  {
   "cell_type": "markdown",
   "metadata": {},
   "source": [
    "Write a program that uses the filter function to create a new list that contains only the strings with a length greater than 5 from a user inputted list of strings."
   ]
  },
  {
   "cell_type": "markdown",
   "metadata": {},
   "source": [
    "Write a program that uses a lambda expression and the filter function to create a new list that contains only the positive numbers from a user inputted list of integers."
   ]
  },
  {
   "cell_type": "markdown",
   "metadata": {},
   "source": [
    "Write a program that use\n",
    "s the filter function to create a new list that contains only the strings that contain the letter \"e\" from a user inputted list of strings."
   ]
  },
  {
   "cell_type": "markdown",
   "metadata": {},
   "source": [
    "Write a program that creates a nested list from two user inputted lists of integers. The resulting nested list should contain each element of the first list paired with the corresponding element of the second list.\n",
    "Example input: [1, 2, 3], [4, 5, 6]\n",
    "Example output: [[1, 4], [2, 5], [3, 6]]"
   ]
  },
  {
   "cell_type": "markdown",
   "metadata": {},
   "source": [
    "Write a program that creates a nested list of strings from a user inputted list of strings. The resulting nested list should contain each string split into its individual characters.\n",
    "Example input: ['hello', 'world']\n",
    "Example output: [['h', 'e', 'l', 'l', 'o'], ['w', 'o', 'r', 'l', 'd']]"
   ]
  },
  {
   "cell_type": "markdown",
   "metadata": {},
   "source": [
    "Write a program that creates a nested list of integers from a user inputted list of integers. The resulting nested list should contain each integer along with its square.\n",
    "Example input: [1, 2, 3, 4, 5]\n",
    "Example output: [[1, 1], [2, 4], [3, 9], [4, 16], [5, 25]]"
   ]
  },
  {
   "cell_type": "markdown",
   "metadata": {},
   "source": [
    "Write a program that creates a nested list from a user inputted list of strings. The resulting nested list should contain the unique characters from each string.\n",
    "Example input: ['apple', 'banana', 'cherry']\n",
    "Example output: [['a', 'p', 'l', 'e'], ['b', 'a', 'n'], ['c', 'h', 'e', 'r', 'y']]"
   ]
  },
  {
   "cell_type": "markdown",
   "metadata": {},
   "source": [
    "Write a program that creates a nested list of integers from a user inputted list of integers. The resulting nested list should contain each integer along with all of its divisors.\n",
    "Example input: [2, 3, 4, 5]\n",
    "Example output: [[2, [1, 2]], [3, [1, 3]], [4, [1, 2, 4]], [5, [1, 5]]]"
   ]
  },
  {
   "cell_type": "markdown",
   "metadata": {},
   "source": []
  },
  {
   "cell_type": "markdown",
   "metadata": {},
   "source": []
  },
  {
   "cell_type": "code",
   "execution_count": null,
   "metadata": {},
   "outputs": [],
   "source": []
  },
  {
   "cell_type": "code",
   "execution_count": null,
   "metadata": {},
   "outputs": [],
   "source": []
  }
 ],
 "metadata": {
  "kernelspec": {
   "display_name": "Python 3",
   "language": "python",
   "name": "python3"
  },
  "language_info": {
   "codemirror_mode": {
    "name": "ipython",
    "version": 3
   },
   "file_extension": ".py",
   "mimetype": "text/x-python",
   "name": "python",
   "nbconvert_exporter": "python",
   "pygments_lexer": "ipython3",
   "version": "3.11.5"
  }
 },
 "nbformat": 4,
 "nbformat_minor": 2
}
