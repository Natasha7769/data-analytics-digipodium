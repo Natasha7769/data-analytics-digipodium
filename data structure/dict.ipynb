{
 "cells": [
  {
   "cell_type": "markdown",
   "metadata": {},
   "source": [
    "### dictionary\n",
    " * create\n",
    " * access\n",
    " * change\n",
    " * methods"
   ]
  },
  {
   "cell_type": "code",
   "execution_count": 2,
   "metadata": {},
   "outputs": [
    {
     "name": "stdout",
     "output_type": "stream",
     "text": [
      "{'temp': 33, 'humidity': 100, 'weather': 'sunny', 'wind': 6, 'location': 'lucknow'}\n"
     ]
    }
   ],
   "source": [
    "# data=[33,100,'sunny',6,'lucknow']\n",
    "data={'temp':33,'humidity':100,'weather':'sunny','wind': 6,'location': 'lucknow'}\n",
    "print(data)\n"
   ]
  },
  {
   "cell_type": "code",
   "execution_count": 3,
   "metadata": {},
   "outputs": [
    {
     "data": {
      "text/plain": [
       "{'names': ['mahek', 'natasha', 'Aditya', 'Yusuf'],\n",
       " 'academic': ['btech', 'bca', 'bba', 'bcom']}"
      ]
     },
     "execution_count": 3,
     "metadata": {},
     "output_type": "execute_result"
    }
   ],
   "source": [
    "students={'names':['mahek','natasha','Aditya','Yusuf'],'academic':['btech','bca','bba','bcom']}\n",
    "students"
   ]
  },
  {
   "cell_type": "code",
   "execution_count": 4,
   "metadata": {},
   "outputs": [],
   "source": [
    "# nested dictionary\n",
    "products={\n",
    "    'fruits':[{'name':'apple','qty':10},{'name':'banana','qty':50},{'name':'cherry','qty':25}],\n",
    "          'vegetable':[{'name':'potato','qty':100},{'name':'tomato','qty': 50},{'name': 'onion','qty':50},\n",
    "        ]\n",
    "}"
   ]
  },
  {
   "cell_type": "code",
   "execution_count": 5,
   "metadata": {},
   "outputs": [
    {
     "data": {
      "text/plain": [
       "'sunny'"
      ]
     },
     "execution_count": 5,
     "metadata": {},
     "output_type": "execute_result"
    }
   ],
   "source": [
    "data['weather']"
   ]
  },
  {
   "cell_type": "code",
   "execution_count": 6,
   "metadata": {},
   "outputs": [
    {
     "data": {
      "text/plain": [
       "'lucknow'"
      ]
     },
     "execution_count": 6,
     "metadata": {},
     "output_type": "execute_result"
    }
   ],
   "source": [
    "data['location']"
   ]
  },
  {
   "cell_type": "code",
   "execution_count": 10,
   "metadata": {},
   "outputs": [
    {
     "data": {
      "text/plain": [
       "['mahek', 'natasha', 'Aditya', 'Yusuf']"
      ]
     },
     "execution_count": 10,
     "metadata": {},
     "output_type": "execute_result"
    }
   ],
   "source": [
    "students['names']"
   ]
  },
  {
   "cell_type": "code",
   "execution_count": 12,
   "metadata": {},
   "outputs": [
    {
     "data": {
      "text/plain": [
       "'mahek'"
      ]
     },
     "execution_count": 12,
     "metadata": {},
     "output_type": "execute_result"
    }
   ],
   "source": [
    "students['names'][0]"
   ]
  },
  {
   "cell_type": "code",
   "execution_count": 14,
   "metadata": {},
   "outputs": [
    {
     "ename": "KeyError",
     "evalue": "'names'",
     "output_type": "error",
     "traceback": [
      "\u001b[1;31m---------------------------------------------------------------------------\u001b[0m",
      "\u001b[1;31mKeyError\u001b[0m                                  Traceback (most recent call last)",
      "\u001b[1;32mc:\\Users\\Natasha\\Documents\\data-analytics-digipodium\\data structure\\dict.ipynb Cell 9\u001b[0m line \u001b[0;36m1\n\u001b[1;32m----> <a href='vscode-notebook-cell:/c%3A/Users/Natasha/Documents/data-analytics-digipodium/data%20structure/dict.ipynb#X12sZmlsZQ%3D%3D?line=0'>1</a>\u001b[0m products[\u001b[39m'\u001b[39;49m\u001b[39mvegetable\u001b[39;49m\u001b[39m'\u001b[39;49m][\u001b[39m1\u001b[39;49m][\u001b[39m'\u001b[39;49m\u001b[39mnames\u001b[39;49m\u001b[39m'\u001b[39;49m]\n",
      "\u001b[1;31mKeyError\u001b[0m: 'names'"
     ]
    }
   ],
   "source": [
    "products['vegetable'][1]['names']"
   ]
  },
  {
   "cell_type": "code",
   "execution_count": 15,
   "metadata": {},
   "outputs": [],
   "source": [
    "data['temp']=20  # change value of existing key\n",
    "data['weather']= 'thunderstorm'"
   ]
  },
  {
   "cell_type": "code",
   "execution_count": 17,
   "metadata": {},
   "outputs": [
    {
     "data": {
      "text/plain": [
       "{'temp': 20,\n",
       " 'humidity': 100,\n",
       " 'weather': 'thunderstorm',\n",
       " 'wind': 6,\n",
       " 'location': 'lucknow',\n",
       " 'webssite': 'accuweather.com'}"
      ]
     },
     "execution_count": 17,
     "metadata": {},
     "output_type": "execute_result"
    }
   ],
   "source": [
    "# dict[new key]= new value(adds new key-value pair)\n",
    "data['webssite']= 'accuweather.com'\n",
    "data"
   ]
  },
  {
   "cell_type": "code",
   "execution_count": 18,
   "metadata": {},
   "outputs": [
    {
     "data": {
      "text/plain": [
       "{'names': ['mahek', 'natasha', 'Aditya', 'Yusuf', 'Rohan'],\n",
       " 'academic': ['btech', 'bca', 'bba', 'bcom', '12th']}"
      ]
     },
     "execution_count": 18,
     "metadata": {},
     "output_type": "execute_result"
    }
   ],
   "source": [
    "students['names'].append('Rohan')\n",
    "students['academic'].append('12th')\n",
    "students"
   ]
  },
  {
   "cell_type": "code",
   "execution_count": 19,
   "metadata": {},
   "outputs": [
    {
     "data": {
      "text/plain": [
       "{'names': 'something', 'academic': ['btech', 'bca', 'bba', 'bcom', '12th']}"
      ]
     },
     "execution_count": 19,
     "metadata": {},
     "output_type": "execute_result"
    }
   ],
   "source": [
    "students['names']='something'\n",
    "students"
   ]
  },
  {
   "cell_type": "code",
   "execution_count": 21,
   "metadata": {},
   "outputs": [
    {
     "data": {
      "text/plain": [
       "{'fruits': [{'name': 'apple', 'qty': 10},\n",
       "  {'name': 'banana', 'qty': 50},\n",
       "  {'name': 'cherry', 'qty': 25},\n",
       "  {'name': 'orange', 'qty': 10}],\n",
       " 'vegetable': [{'name': 'potato', 'qty': 100},\n",
       "  {'name': 'tomato', 'qty': 50},\n",
       "  {'name': 'onion', 'qty': 50}]}"
      ]
     },
     "execution_count": 21,
     "metadata": {},
     "output_type": "execute_result"
    }
   ],
   "source": [
    "orange={'name':'orange','qty':10}\n",
    "products['fruits'].append(orange)\n",
    "products"
   ]
  },
  {
   "cell_type": "code",
   "execution_count": null,
   "metadata": {},
   "outputs": [],
   "source": [
    "product"
   ]
  },
  {
   "cell_type": "markdown",
   "metadata": {},
   "source": [
    "#### methods\n",
    " - keys()\n",
    " - values()\n",
    " - items()\n",
    " - get()\n",
    " - update()\n",
    " - pop()\n"
   ]
  },
  {
   "cell_type": "code",
   "execution_count": 22,
   "metadata": {},
   "outputs": [
    {
     "data": {
      "text/plain": [
       "dict_keys(['temp', 'humidity', 'weather', 'wind', 'location', 'webssite'])"
      ]
     },
     "execution_count": 22,
     "metadata": {},
     "output_type": "execute_result"
    }
   ],
   "source": [
    "data.keys()"
   ]
  },
  {
   "cell_type": "code",
   "execution_count": 23,
   "metadata": {},
   "outputs": [
    {
     "data": {
      "text/plain": [
       "['temp', 'humidity', 'weather', 'wind', 'location', 'webssite']"
      ]
     },
     "execution_count": 23,
     "metadata": {},
     "output_type": "execute_result"
    }
   ],
   "source": [
    "list(data.keys())"
   ]
  },
  {
   "cell_type": "code",
   "execution_count": 26,
   "metadata": {},
   "outputs": [
    {
     "data": {
      "text/plain": [
       "[('temp', 20),\n",
       " ('humidity', 100),\n",
       " ('weather', 'thunderstorm'),\n",
       " ('wind', 6),\n",
       " ('location', 'lucknow'),\n",
       " ('webssite', 'accuweather.com')]"
      ]
     },
     "execution_count": 26,
     "metadata": {},
     "output_type": "execute_result"
    }
   ],
   "source": [
    "list(data.items())"
   ]
  },
  {
   "cell_type": "code",
   "execution_count": 27,
   "metadata": {},
   "outputs": [
    {
     "name": "stdout",
     "output_type": "stream",
     "text": [
      "temp\n",
      "humidity\n",
      "weather\n",
      "wind\n",
      "location\n",
      "webssite\n"
     ]
    }
   ],
   "source": [
    " # simple for loop gives only keys from a dictionary\n",
    "for i in data:\n",
    "    print(i)"
   ]
  },
  {
   "cell_type": "code",
   "execution_count": 29,
   "metadata": {},
   "outputs": [
    {
     "name": "stdout",
     "output_type": "stream",
     "text": [
      "('temp', 20)\n",
      "('humidity', 100)\n",
      "('weather', 'thunderstorm')\n",
      "('wind', 6)\n",
      "('location', 'lucknow')\n",
      "('webssite', 'accuweather.com')\n"
     ]
    }
   ],
   "source": [
    "for i in data.items():\n",
    "    print(i)"
   ]
  },
  {
   "cell_type": "code",
   "execution_count": 30,
   "metadata": {},
   "outputs": [
    {
     "name": "stdout",
     "output_type": "stream",
     "text": [
      "temp : 20\n",
      "humidity : 100\n",
      "weather : thunderstorm\n",
      "wind : 6\n",
      "location : lucknow\n",
      "webssite : accuweather.com\n"
     ]
    }
   ],
   "source": [
    "for key,value in data.items():\n",
    "    print(key,':',value)"
   ]
  },
  {
   "cell_type": "code",
   "execution_count": 31,
   "metadata": {},
   "outputs": [
    {
     "name": "stdout",
     "output_type": "stream",
     "text": [
      "temp 20\n",
      "humidity 100\n",
      "weather thunderstorm\n",
      "wind 6\n",
      "location lucknow\n",
      "webssite accuweather.com\n"
     ]
    }
   ],
   "source": [
    "for key in data:\n",
    "    print(key,data[key])"
   ]
  },
  {
   "cell_type": "code",
   "execution_count": 32,
   "metadata": {},
   "outputs": [],
   "source": [
    "x={\n",
    "    'apple':'pie',\n",
    "    'orange':'jam',\n",
    "    'pineapple': 'juice'\n",
    "}\n",
    "y= {\n",
    "    'potato':'fries',\n",
    "    'tomato': 'ketchup'\n",
    "}"
   ]
  },
  {
   "cell_type": "code",
   "execution_count": 33,
   "metadata": {},
   "outputs": [
    {
     "name": "stdout",
     "output_type": "stream",
     "text": [
      "{'apple': 'pie', 'orange': 'jam', 'pineapple': 'juice', 'potato': 'fries', 'tomato': 'ketchup'}\n",
      "{'potato': 'fries', 'tomato': 'ketchup'}\n"
     ]
    }
   ],
   "source": [
    "x.update(y)\n",
    "print(x)\n",
    "print(y)"
   ]
  },
  {
   "cell_type": "code",
   "execution_count": 36,
   "metadata": {},
   "outputs": [
    {
     "name": "stdout",
     "output_type": "stream",
     "text": [
      "pie\n",
      "None\n",
      "not found\n",
      "pie\n"
     ]
    }
   ],
   "source": [
    "print(x.get('apple')) # valik key-valid value\n",
    "print(x.get('apples')) #invalid key-none\n",
    "print(x.get('apples','not found'))# invalid key-default value\n",
    "print(x.get('apple','not found')) # valid key- valid value"
   ]
  },
  {
   "cell_type": "code",
   "execution_count": 35,
   "metadata": {},
   "outputs": [
    {
     "name": "stdout",
     "output_type": "stream",
     "text": [
      "jam\n"
     ]
    }
   ],
   "source": [
    "inp=input('Enter item name')\n",
    "print(x.get(inp,'not found'))"
   ]
  },
  {
   "cell_type": "code",
   "execution_count": null,
   "metadata": {},
   "outputs": [],
   "source": []
  }
 ],
 "metadata": {
  "kernelspec": {
   "display_name": "Python 3",
   "language": "python",
   "name": "python3"
  },
  "language_info": {
   "codemirror_mode": {
    "name": "ipython",
    "version": 3
   },
   "file_extension": ".py",
   "mimetype": "text/x-python",
   "name": "python",
   "nbconvert_exporter": "python",
   "pygments_lexer": "ipython3",
   "version": "3.11.5"
  }
 },
 "nbformat": 4,
 "nbformat_minor": 2
}
