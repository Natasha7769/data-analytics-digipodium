{
 "cells": [
  {
   "cell_type": "markdown",
   "metadata": {},
   "source": [
    "# tuple\n",
    "  * python handles multiple values as tuple\n",
    "    - create\n",
    "    - tuple packing and unpacking"
   ]
  },
  {
   "cell_type": "code",
   "execution_count": 2,
   "metadata": {},
   "outputs": [
    {
     "name": "stdout",
     "output_type": "stream",
     "text": [
      "(1, 2, 3)\n",
      "(1, 5, 7)\n"
     ]
    }
   ],
   "source": [
    "x=(1,2,3)# tuple\n",
    "y=1,5,7 # tuple\n",
    "print(x)\n",
    "print(y)"
   ]
  },
  {
   "cell_type": "code",
   "execution_count": 1,
   "metadata": {},
   "outputs": [
    {
     "name": "stdout",
     "output_type": "stream",
     "text": [
      "<class 'tuple'>\n",
      "8\n"
     ]
    }
   ],
   "source": [
    "t= (1,2,3,4,5,'ali',True,'ali')\n",
    "print(type(t))\n",
    "print(len(t))\n"
   ]
  },
  {
   "cell_type": "code",
   "execution_count": 4,
   "metadata": {},
   "outputs": [
    {
     "name": "stdout",
     "output_type": "stream",
     "text": [
      "2\n",
      "True\n",
      "(2, 3, 4)\n"
     ]
    }
   ],
   "source": [
    "t= (1,2,3,4,5,'ali',True,'ali')\n",
    "print(t[1])\n",
    "print(t[-2])\n",
    "print(t[1:4])"
   ]
  },
  {
   "cell_type": "code",
   "execution_count": 7,
   "metadata": {},
   "outputs": [
    {
     "name": "stdout",
     "output_type": "stream",
     "text": [
      "(1, 2, 'shalu', 4, 5, 'ali', True, 'ali')\n"
     ]
    }
   ],
   "source": [
    "t= (1,2,3,4,5,'ali',True,'ali') # to change value in tuple we use typcasting\n",
    "y= list(t) # convert tuple in list\n",
    "y[2]='shalu'\n",
    "z= tuple(y) # convert list in tuple\n",
    "print(z)\n"
   ]
  },
  {
   "cell_type": "code",
   "execution_count": 8,
   "metadata": {},
   "outputs": [
    {
     "name": "stdout",
     "output_type": "stream",
     "text": [
      "(1, 2, 'ali', True, 'ali', 1, 2, 3, 4, 5)\n"
     ]
    }
   ],
   "source": [
    "# add tuple\n",
    "t_1= (1,2,'ali',True,'ali')\n",
    "t_2= (1,2,3,4,5)\n",
    "t_3=t_1+t_2\n",
    "print(t_3)"
   ]
  },
  {
   "cell_type": "code",
   "execution_count": 2,
   "metadata": {},
   "outputs": [
    {
     "name": "stdout",
     "output_type": "stream",
     "text": [
      "<class 'tuple'>\n",
      "1\n"
     ]
    }
   ],
   "source": [
    "t1=(36,)\n",
    "print(type(t1))\n",
    "print(len(t1))"
   ]
  },
  {
   "cell_type": "code",
   "execution_count": 5,
   "metadata": {},
   "outputs": [
    {
     "name": "stdout",
     "output_type": "stream",
     "text": [
      "<class 'tuple'>\n"
     ]
    }
   ],
   "source": [
    "# tuple constructor\n",
    "x= tuple((1,2,3,4))\n",
    "print(type(x))"
   ]
  },
  {
   "cell_type": "code",
   "execution_count": 6,
   "metadata": {},
   "outputs": [
    {
     "name": "stdout",
     "output_type": "stream",
     "text": [
      "(2, 'riaz', True, 19.6)\n",
      "(2, 'riaz', True, 19.6)\n"
     ]
    }
   ],
   "source": [
    "t2=(1,2,'riaz',True,19.6,'ali',2)\n",
    "print(t2[1:5])\n",
    "print(t2[-6:-2])\n"
   ]
  },
  {
   "cell_type": "code",
   "execution_count": 12,
   "metadata": {},
   "outputs": [
    {
     "name": "stdout",
     "output_type": "stream",
     "text": [
      "[1, 2, 'riaz', True, 19.6, 'ali', 2, 'neha']\n",
      "[1, 2, True, 19.6, 'ali', 2, 'neha']\n",
      "(1, 2, True, 19.6, 'ali', 2, 'neha')\n"
     ]
    }
   ],
   "source": [
    "t2=(1,2,'riaz',True,19.6,'ali',2)  # append directly cannot use in tuple// use typcasting\n",
    "x1=list(t2)\n",
    "x1.append('neha')\n",
    "print(x1)\n",
    "x1.remove('riaz')\n",
    "print(x1)\n",
    "z1=tuple(x1)\n",
    "print(z1)\n"
   ]
  },
  {
   "cell_type": "markdown",
   "metadata": {},
   "source": [
    "# unpacking"
   ]
  },
  {
   "cell_type": "code",
   "execution_count": 13,
   "metadata": {},
   "outputs": [
    {
     "name": "stdout",
     "output_type": "stream",
     "text": [
      "1\n",
      "2\n",
      "riaz\n",
      "True\n",
      "19.6\n",
      "ali\n",
      "2\n"
     ]
    }
   ],
   "source": [
    "t2=(1,2,'riaz',True,19.6,'ali',2) \n",
    "(a,b,c,d,e,f,g)=t2  # variables are made in form of tuple\n",
    "print(a)\n",
    "print(b)\n",
    "print(c)\n",
    "print(d)\n",
    "print(e)\n",
    "print(f)\n",
    "print(g)"
   ]
  },
  {
   "cell_type": "code",
   "execution_count": 15,
   "metadata": {},
   "outputs": [
    {
     "name": "stdout",
     "output_type": "stream",
     "text": [
      "(1, 2, 'riaz', True, 19.6, 'ali', 2, 86, 8)\n"
     ]
    }
   ],
   "source": [
    "# create a tuple having ten item with different data types and remove the last item\n",
    "t2=(1,2,'riaz',True,19.6,'ali',2,86,8,False)\n",
    "x3=list(t2)\n",
    "x3.pop()\n",
    "newt2=tuple(x3)\n",
    "print(newt2)\n"
   ]
  },
  {
   "cell_type": "code",
   "execution_count": 17,
   "metadata": {},
   "outputs": [
    {
     "name": "stdout",
     "output_type": "stream",
     "text": [
      "[1, 2, 'riaz', True, 19.6, 'ali']\n",
      "2\n",
      "1\n",
      "[2, 'riaz', True, 19.6, 'ali', 2]\n"
     ]
    }
   ],
   "source": [
    "# use a method to unpack all the 10 items using only 2 keys or values\n",
    "t2=(1,2,'riaz',True,19.6,'ali',2) \n",
    "*a,b=t2\n",
    "print(a)\n",
    "print(b)\n",
    "a,*b=t2\n",
    "print(a)\n",
    "print(b)"
   ]
  },
  {
   "cell_type": "code",
   "execution_count": 3,
   "metadata": {},
   "outputs": [
    {
     "name": "stdout",
     "output_type": "stream",
     "text": [
      "(0, 't')\n",
      "(1, 'u')\n",
      "(2, 'p')\n",
      "(3, 'l')\n",
      "(4, 'e')\n"
     ]
    }
   ],
   "source": [
    "word ='tuple'\n",
    "for i in enumerate(word):\n",
    "    print(i)"
   ]
  },
  {
   "cell_type": "code",
   "execution_count": 5,
   "metadata": {},
   "outputs": [
    {
     "name": "stdout",
     "output_type": "stream",
     "text": [
      "4\n",
      "1\n",
      "5\n"
     ]
    }
   ],
   "source": [
    "x= (1,2,1,1,1,2,2,2)\n",
    "print(x.count(2))\n",
    "print(x.index(2)) # search for 2 and return the index\n",
    "print(x.index(2,2)) # search for 2,starting from index 2"
   ]
  },
  {
   "cell_type": "code",
   "execution_count": 6,
   "metadata": {},
   "outputs": [
    {
     "name": "stdout",
     "output_type": "stream",
     "text": [
      "Gamma Beta Alpha\n"
     ]
    }
   ],
   "source": [
    "data= ('Alpha','Beta','Gamma')\n",
    "a,b,c = data # packing\n",
    "print(c,b,a)"
   ]
  },
  {
   "cell_type": "code",
   "execution_count": 7,
   "metadata": {},
   "outputs": [
    {
     "ename": "ValueError",
     "evalue": "too many values to unpack (expected 2)",
     "output_type": "error",
     "traceback": [
      "\u001b[1;31m---------------------------------------------------------------------------\u001b[0m",
      "\u001b[1;31mValueError\u001b[0m                                Traceback (most recent call last)",
      "\u001b[1;32mc:\\Users\\Natasha\\Documents\\data-analytics-digipodium\\data structure\\tuple_set.ipynb Cell 6\u001b[0m line \u001b[0;36m1\n\u001b[1;32m----> <a href='vscode-notebook-cell:/c%3A/Users/Natasha/Documents/data-analytics-digipodium/data%20structure/tuple_set.ipynb#W5sZmlsZQ%3D%3D?line=0'>1</a>\u001b[0m a,b \u001b[39m=\u001b[39m data \u001b[39m#eror, size mismatch\u001b[39;00m\n",
      "\u001b[1;31mValueError\u001b[0m: too many values to unpack (expected 2)"
     ]
    }
   ],
   "source": [
    "a,b = data #eror, size mismatch"
   ]
  },
  {
   "cell_type": "code",
   "execution_count": 8,
   "metadata": {},
   "outputs": [],
   "source": [
    "data =('alpha','beta','gamma','delta','epsilon')"
   ]
  },
  {
   "cell_type": "code",
   "execution_count": 13,
   "metadata": {},
   "outputs": [
    {
     "name": "stdout",
     "output_type": "stream",
     "text": [
      "alpha\n",
      "['beta', 'gamma', 'delta', 'epsilon']\n",
      "['alpha', 'beta', 'gamma', 'delta']\n",
      "epsilon\n",
      "alpha ['beta', 'gamma', 'delta'] epsilon\n",
      "alpha beta gamma ['delta', 'epsilon']\n"
     ]
    }
   ],
   "source": [
    "# take first value in a a variable and put the rest in second variable\n",
    "i,*j = data\n",
    "print(i)\n",
    "print(j)\n",
    "*x,y = data\n",
    "print(x)\n",
    "print(y)\n",
    "a,*b,c = data\n",
    "print(a,b,c)\n",
    "a,b,c,*d = data\n",
    "print(a,b,c,d)\n"
   ]
  },
  {
   "cell_type": "code",
   "execution_count": 16,
   "metadata": {},
   "outputs": [
    {
     "name": "stdout",
     "output_type": "stream",
     "text": [
      "<class 'tuple'> (1,)\n"
     ]
    }
   ],
   "source": [
    "a= (1,) # single element tuple,comma is important\n",
    "print(type(a),a)"
   ]
  },
  {
   "cell_type": "markdown",
   "metadata": {},
   "source": [
    "# Set-unordered,unchangeable\n",
    "* create\n",
    "* methods\n",
    "* set operations"
   ]
  },
  {
   "cell_type": "code",
   "execution_count": 22,
   "metadata": {},
   "outputs": [
    {
     "name": "stdout",
     "output_type": "stream",
     "text": [
      "set()\n",
      "{1, 2, 3}\n",
      "{1, 2, 3, 4, 5, 12, 45}\n",
      "{'d', 'a', 'c'}\n"
     ]
    }
   ],
   "source": [
    "a = set() #empty set\n",
    "b = {1,2,3}\n",
    "c ={12,45,2,2,3,1,3,1,2,1,2,3,1,2,3,4,2,5,4,1,1,2}\n",
    "print(a)\n",
    "print(b)\n",
    "print(c)\n",
    "d={'a','d','c'}\n",
    "print(d)"
   ]
  },
  {
   "cell_type": "code",
   "execution_count": 24,
   "metadata": {},
   "outputs": [
    {
     "name": "stdout",
     "output_type": "stream",
     "text": [
      "{1, 2, 3, 4, 5, 6, 'shalu', 'car'}\n",
      "<class 'set'>\n",
      "8\n"
     ]
    }
   ],
   "source": [
    "s= {1,2,\"car\",3,4,5,6,\"shalu\"}\n",
    "print(s)\n",
    "print(type(s))\n",
    "print(len(s))"
   ]
  },
  {
   "cell_type": "code",
   "execution_count": 25,
   "metadata": {},
   "outputs": [
    {
     "name": "stdout",
     "output_type": "stream",
     "text": [
      "{1, 2, 3, 4, 5, 6, 'shalu', 'car'}\n"
     ]
    }
   ],
   "source": [
    "s1=set((1,2,\"car\",3,4,5,6,\"shalu\"))\n",
    "print(s1)"
   ]
  },
  {
   "cell_type": "markdown",
   "metadata": {},
   "source": [
    "# add() and update()- we can add values through add and union function both"
   ]
  },
  {
   "cell_type": "code",
   "execution_count": 27,
   "metadata": {},
   "outputs": [
    {
     "name": "stdout",
     "output_type": "stream",
     "text": [
      "{1, 2, 3, 4, 5, 6, 'shalu', 'car', 'raza'}\n"
     ]
    }
   ],
   "source": [
    "s= {1,2,\"car\",3,4,5,6,\"shalu\"} # addition it will add anywhere\n",
    "s.add(\"raza\")\n",
    "print(s)"
   ]
  },
  {
   "cell_type": "code",
   "execution_count": 28,
   "metadata": {},
   "outputs": [
    {
     "name": "stdout",
     "output_type": "stream",
     "text": [
      "{1, 2, 3, 4, 5, 6, 'shalu', 'car', 20.1}\n"
     ]
    }
   ],
   "source": [
    "s2= {1,2,\"car\",3,4,5,6,\"shalu\"}\n",
    "s3={True,20.1} #boolean value cannot be added\n",
    "s2.update(s3)\n",
    "print(s2)"
   ]
  },
  {
   "cell_type": "markdown",
   "metadata": {},
   "source": [
    "# remove() and discard()"
   ]
  },
  {
   "cell_type": "code",
   "execution_count": 29,
   "metadata": {},
   "outputs": [
    {
     "name": "stdout",
     "output_type": "stream",
     "text": [
      "{1, 2, 3, 4, 5, 6, 'shalu'}\n",
      "{1, 2, 3, 4, 5, 6, 'shalu'}\n"
     ]
    }
   ],
   "source": [
    "s= {1,2,\"car\",3,4,5,6,\"shalu\"} # both function works same but have slight difference,remove function show error but discard cannot\n",
    "s.remove('car')\n",
    "print(s)\n",
    "s.discard('car')\n",
    "print(s)"
   ]
  },
  {
   "cell_type": "markdown",
   "metadata": {},
   "source": [
    "# remove all values in set"
   ]
  },
  {
   "cell_type": "code",
   "execution_count": 35,
   "metadata": {},
   "outputs": [
    {
     "name": "stdout",
     "output_type": "stream",
     "text": [
      "set()\n"
     ]
    }
   ],
   "source": [
    "s= {1,2,\"car\",3,4,5,6,\"shalu\"}\n",
    "s.clear()\n",
    "print(s)"
   ]
  },
  {
   "cell_type": "code",
   "execution_count": 38,
   "metadata": {},
   "outputs": [
    {
     "name": "stdout",
     "output_type": "stream",
     "text": [
      "{1, 2, 3, 4, 5, 12, 45}\n",
      "{1, 2, 3, 4, 5, 100, 12, 45}\n",
      "{1, 2, 3, 4, 5, 11, 12, 100, 45}\n"
     ]
    }
   ],
   "source": [
    "\n",
    "c ={12,45,2,2,3,1,3,1,2,1,2,3,1,2,3,4,2,5,4,1,1,2}\n",
    "c.add(5)\n",
    "print(c)\n",
    "c.add(100)\n",
    "print(c)\n",
    "c.update([11,12])\n",
    "print(c)"
   ]
  },
  {
   "cell_type": "code",
   "execution_count": 20,
   "metadata": {},
   "outputs": [
    {
     "name": "stdout",
     "output_type": "stream",
     "text": [
      "{1, 2, 3, 4, 5, 11, 12, 45}\n",
      "{1, 2, 4, 5, 11, 12, 45}\n"
     ]
    }
   ],
   "source": [
    "c.remove(100)\n",
    "print(c)\n",
    "c.discard(3)\n",
    "print(c)"
   ]
  },
  {
   "cell_type": "code",
   "execution_count": 21,
   "metadata": {},
   "outputs": [
    {
     "name": "stdout",
     "output_type": "stream",
     "text": [
      "{2, 4, 5, 11, 12, 45}\n"
     ]
    }
   ],
   "source": [
    "c.pop()# remove random element\n",
    "print(c)"
   ]
  },
  {
   "cell_type": "code",
   "execution_count": 2,
   "metadata": {},
   "outputs": [],
   "source": [
    "movies1={'aaa','bbb','ccc','ddd','eee','ddd'}\n",
    "movies2={'fff','ggg','hhh','iii','jjj'}\n",
    "movies3={'aaa','bbb','ccc','fff','ggg','hhh','kkk'}"
   ]
  },
  {
   "cell_type": "markdown",
   "metadata": {},
   "source": [
    "* | union\n",
    "* & intersection\n",
    "* -difference\n",
    "* ^ symmetric differnce"
   ]
  },
  {
   "cell_type": "code",
   "execution_count": 3,
   "metadata": {},
   "outputs": [
    {
     "name": "stdout",
     "output_type": "stream",
     "text": [
      "{'eee', 'ggg', 'hhh', 'ccc', 'aaa', 'ddd', 'kkk', 'bbb', 'fff'}\n",
      "{'eee', 'ggg', 'hhh', 'ccc', 'aaa', 'ddd', 'kkk', 'bbb', 'fff'}\n"
     ]
    }
   ],
   "source": [
    "print(movies1.union(movies3))\n",
    "print(movies1 | movies3)"
   ]
  },
  {
   "cell_type": "code",
   "execution_count": 34,
   "metadata": {},
   "outputs": [
    {
     "name": "stdout",
     "output_type": "stream",
     "text": [
      "{1, 2, 3, 5, 9, 23, 54, 87}\n",
      "{9, 2, 3, 5}\n",
      "{2, 3, 5, 54, 23, 9}\n",
      "{2, 3, 5, 54, 23, 9}\n"
     ]
    }
   ],
   "source": [
    "s5={1,2,5,3,87,9}\n",
    "s6={3,5,2,9,54,23}\n",
    "set1= s5.union(s6)\n",
    "print(set1)\n",
    "set1=s5.intersection(s6)\n",
    "print(set1)\n",
    "set1=s5.difference(s6)\n",
    "print(s6)\n",
    "set1=s5.symmetric_difference(s6)\n",
    "print(s6)"
   ]
  },
  {
   "cell_type": "code",
   "execution_count": 8,
   "metadata": {},
   "outputs": [
    {
     "name": "stdout",
     "output_type": "stream",
     "text": [
      "{'aaa', 'bbb', 'ccc'}\n",
      "{'aaa', 'bbb', 'ccc'}\n"
     ]
    }
   ],
   "source": [
    "print(movies1.intersection(movies3))\n",
    "print(movies1 &  movies3)"
   ]
  },
  {
   "cell_type": "code",
   "execution_count": 10,
   "metadata": {},
   "outputs": [
    {
     "name": "stdout",
     "output_type": "stream",
     "text": [
      "{'eee', 'ddd'}\n",
      "{'eee', 'ddd'}\n",
      "{'ggg', 'hhh', 'fff', 'kkk'}\n"
     ]
    }
   ],
   "source": [
    "print(movies1.difference(movies3))\n",
    "print(movies1 -  movies3)\n",
    "print(movies3 -  movies1)"
   ]
  },
  {
   "cell_type": "code",
   "execution_count": 11,
   "metadata": {},
   "outputs": [
    {
     "name": "stdout",
     "output_type": "stream",
     "text": [
      "{'eee', 'ggg', 'hhh', 'ddd', 'kkk', 'fff'}\n",
      "{'eee', 'ggg', 'hhh', 'ddd', 'kkk', 'fff'}\n"
     ]
    }
   ],
   "source": [
    "print(movies1.symmetric_difference(movies3))\n",
    "print(movies1^ movies3)"
   ]
  },
  {
   "cell_type": "markdown",
   "metadata": {},
   "source": [
    "#### relation\n",
    "* issuperset\n",
    "* issubset\n",
    "* isdisjoint"
   ]
  },
  {
   "cell_type": "code",
   "execution_count": 12,
   "metadata": {},
   "outputs": [
    {
     "data": {
      "text/plain": [
       "False"
      ]
     },
     "execution_count": 12,
     "metadata": {},
     "output_type": "execute_result"
    }
   ],
   "source": [
    "movies3.issuperset(movies2)"
   ]
  },
  {
   "cell_type": "code",
   "execution_count": 13,
   "metadata": {},
   "outputs": [
    {
     "data": {
      "text/plain": [
       "True"
      ]
     },
     "execution_count": 13,
     "metadata": {},
     "output_type": "execute_result"
    }
   ],
   "source": [
    "movies2.isdisjoint(movies1)  # there is nothing common"
   ]
  },
  {
   "cell_type": "code",
   "execution_count": 14,
   "metadata": {},
   "outputs": [
    {
     "data": {
      "text/plain": [
       "False"
      ]
     },
     "execution_count": 14,
     "metadata": {},
     "output_type": "execute_result"
    }
   ],
   "source": [
    "movies3.isdisjoint(movies2) # there are common items"
   ]
  },
  {
   "cell_type": "code",
   "execution_count": null,
   "metadata": {},
   "outputs": [],
   "source": []
  }
 ],
 "metadata": {
  "kernelspec": {
   "display_name": "Python 3",
   "language": "python",
   "name": "python3"
  },
  "language_info": {
   "codemirror_mode": {
    "name": "ipython",
    "version": 3
   },
   "file_extension": ".py",
   "mimetype": "text/x-python",
   "name": "python",
   "nbconvert_exporter": "python",
   "pygments_lexer": "ipython3",
   "version": "3.11.5"
  }
 },
 "nbformat": 4,
 "nbformat_minor": 2
}
