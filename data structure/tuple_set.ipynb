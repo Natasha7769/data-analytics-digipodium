{
 "cells": [
  {
   "cell_type": "markdown",
   "metadata": {},
   "source": [
    "# tuple\n",
    "  * python handles multiple values as tuple\n",
    "    - create\n",
    "    - tuple packing and unpacking"
   ]
  },
  {
   "cell_type": "code",
   "execution_count": 2,
   "metadata": {},
   "outputs": [
    {
     "name": "stdout",
     "output_type": "stream",
     "text": [
      "(1, 2, 3)\n",
      "(1, 5, 7)\n"
     ]
    }
   ],
   "source": [
    "x=(1,2,3)# tuple\n",
    "y=1,5,7 # typle\n",
    "print(x)\n",
    "print(y)"
   ]
  },
  {
   "cell_type": "code",
   "execution_count": 3,
   "metadata": {},
   "outputs": [
    {
     "name": "stdout",
     "output_type": "stream",
     "text": [
      "(0, 't')\n",
      "(1, 'u')\n",
      "(2, 'p')\n",
      "(3, 'l')\n",
      "(4, 'e')\n"
     ]
    }
   ],
   "source": [
    "word ='tuple'\n",
    "for i in enumerate(word):\n",
    "    print(i)"
   ]
  },
  {
   "cell_type": "code",
   "execution_count": 5,
   "metadata": {},
   "outputs": [
    {
     "name": "stdout",
     "output_type": "stream",
     "text": [
      "4\n",
      "1\n",
      "5\n"
     ]
    }
   ],
   "source": [
    "x= (1,2,1,1,1,2,2,2)\n",
    "print(x.count(2))\n",
    "print(x.index(2)) # search for 2 and return the index\n",
    "print(x.index(2,2)) # search for 2,starting from index 2"
   ]
  },
  {
   "cell_type": "code",
   "execution_count": 6,
   "metadata": {},
   "outputs": [
    {
     "name": "stdout",
     "output_type": "stream",
     "text": [
      "Gamma Beta Alpha\n"
     ]
    }
   ],
   "source": [
    "data= ('Alpha','Beta','Gamma')\n",
    "a,b,c = data # packing\n",
    "print(c,b,a)"
   ]
  },
  {
   "cell_type": "code",
   "execution_count": 7,
   "metadata": {},
   "outputs": [
    {
     "ename": "ValueError",
     "evalue": "too many values to unpack (expected 2)",
     "output_type": "error",
     "traceback": [
      "\u001b[1;31m---------------------------------------------------------------------------\u001b[0m",
      "\u001b[1;31mValueError\u001b[0m                                Traceback (most recent call last)",
      "\u001b[1;32mc:\\Users\\Natasha\\Documents\\data-analytics-digipodium\\data structure\\tuple_set.ipynb Cell 6\u001b[0m line \u001b[0;36m1\n\u001b[1;32m----> <a href='vscode-notebook-cell:/c%3A/Users/Natasha/Documents/data-analytics-digipodium/data%20structure/tuple_set.ipynb#W5sZmlsZQ%3D%3D?line=0'>1</a>\u001b[0m a,b \u001b[39m=\u001b[39m data \u001b[39m#eror, size mismatch\u001b[39;00m\n",
      "\u001b[1;31mValueError\u001b[0m: too many values to unpack (expected 2)"
     ]
    }
   ],
   "source": [
    "a,b = data #eror, size mismatch"
   ]
  },
  {
   "cell_type": "code",
   "execution_count": 8,
   "metadata": {},
   "outputs": [],
   "source": [
    "data =('alpha','beta','gamma','delta','epsilon')"
   ]
  },
  {
   "cell_type": "code",
   "execution_count": 13,
   "metadata": {},
   "outputs": [
    {
     "name": "stdout",
     "output_type": "stream",
     "text": [
      "alpha\n",
      "['beta', 'gamma', 'delta', 'epsilon']\n",
      "['alpha', 'beta', 'gamma', 'delta']\n",
      "epsilon\n",
      "alpha ['beta', 'gamma', 'delta'] epsilon\n",
      "alpha beta gamma ['delta', 'epsilon']\n"
     ]
    }
   ],
   "source": [
    "# take first value in a a variable and put the rest in second variable\n",
    "i,*j = data\n",
    "print(i)\n",
    "print(j)\n",
    "*x,y = data\n",
    "print(x)\n",
    "print(y)\n",
    "a,*b,c = data\n",
    "print(a,b,c)\n",
    "a,b,c,*d = data\n",
    "print(a,b,c,d)\n"
   ]
  },
  {
   "cell_type": "code",
   "execution_count": 16,
   "metadata": {},
   "outputs": [
    {
     "name": "stdout",
     "output_type": "stream",
     "text": [
      "<class 'tuple'> (1,)\n"
     ]
    }
   ],
   "source": [
    "a= (1,) # single element tuple,comma is important\n",
    "print(type(a),a)"
   ]
  },
  {
   "cell_type": "markdown",
   "metadata": {},
   "source": [
    "# Set\n",
    "* create\n",
    "* methods\n",
    "* set operations"
   ]
  },
  {
   "cell_type": "code",
   "execution_count": 18,
   "metadata": {},
   "outputs": [
    {
     "name": "stdout",
     "output_type": "stream",
     "text": [
      "set()\n",
      "{1, 2, 3}\n",
      "{1, 2, 3, 4, 5, 12, 45}\n",
      "{'a', 'c', 'd'}\n"
     ]
    }
   ],
   "source": [
    "a = set() #empty set\n",
    "b = {1,2,3}\n",
    "c ={12,45,2,2,3,1,3,1,2,1,2,3,1,2,3,4,2,5,4,1,1,2}\n",
    "print(a)\n",
    "print(b)\n",
    "print(c)\n",
    "d={'a','d','c'}\n",
    "print(d)"
   ]
  },
  {
   "cell_type": "code",
   "execution_count": 19,
   "metadata": {},
   "outputs": [
    {
     "name": "stdout",
     "output_type": "stream",
     "text": [
      "{1, 2, 3, 4, 5, 12, 45}\n",
      "{1, 2, 3, 4, 5, 11, 12, 100, 45}\n"
     ]
    }
   ],
   "source": [
    "c.add(5)\n",
    "print(c)\n",
    "c.add(100)\n",
    "c.update([1,2,3,11,12])\n",
    "print(c)"
   ]
  },
  {
   "cell_type": "code",
   "execution_count": 20,
   "metadata": {},
   "outputs": [
    {
     "name": "stdout",
     "output_type": "stream",
     "text": [
      "{1, 2, 3, 4, 5, 11, 12, 45}\n",
      "{1, 2, 4, 5, 11, 12, 45}\n"
     ]
    }
   ],
   "source": [
    "c.remove(100)\n",
    "print(c)\n",
    "c.discard(3)\n",
    "print(c)"
   ]
  },
  {
   "cell_type": "code",
   "execution_count": 21,
   "metadata": {},
   "outputs": [
    {
     "name": "stdout",
     "output_type": "stream",
     "text": [
      "{2, 4, 5, 11, 12, 45}\n"
     ]
    }
   ],
   "source": [
    "c.pop()# remove random element\n",
    "print(c)"
   ]
  },
  {
   "cell_type": "code",
   "execution_count": null,
   "metadata": {},
   "outputs": [],
   "source": []
  }
 ],
 "metadata": {
  "kernelspec": {
   "display_name": "Python 3",
   "language": "python",
   "name": "python3"
  },
  "language_info": {
   "codemirror_mode": {
    "name": "ipython",
    "version": 3
   },
   "file_extension": ".py",
   "mimetype": "text/x-python",
   "name": "python",
   "nbconvert_exporter": "python",
   "pygments_lexer": "ipython3",
   "version": "3.11.5"
  }
 },
 "nbformat": 4,
 "nbformat_minor": 2
}
