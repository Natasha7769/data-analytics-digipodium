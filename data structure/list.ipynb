{
 "cells": [
  {
   "cell_type": "markdown",
   "metadata": {},
   "source": [
    "#### list - \n",
    "* ordered,\n",
    "* indexed,\n",
    "* mutable,\n",
    "* duplicate values\n",
    "* values only\n",
    "* []\n",
    "* list()\n",
    "#### tuple- \n",
    "* ordered,\n",
    "* indexed,\n",
    "* immutable,\n",
    "* duplicate values,\n",
    "* values only\n",
    "* ()\n",
    "* tuple ()\n",
    "#### set- \n",
    "* unordered,\n",
    "* unindexed mutable,\n",
    "* unique values,\n",
    "* values only\n",
    "* {}\n",
    "* set()\n",
    "#### dict-\n",
    "* ordered,\n",
    "* unindexed,\n",
    "* mutable,\n",
    "* unique keya,\n",
    "* duplicate values, \n",
    "* key value pair\n",
    "* {}\n",
    "* dict()"
   ]
  },
  {
   "cell_type": "markdown",
   "metadata": {},
   "source": [
    "# list- is use to store multiple item in same variables\n",
    "- create\n",
    "- indexing & slicing\n",
    "- traversing\n",
    "- manipulate"
   ]
  },
  {
   "cell_type": "code",
   "execution_count": 2,
   "metadata": {},
   "outputs": [
    {
     "name": "stdout",
     "output_type": "stream",
     "text": [
      "[4, 'natasha', True, 'natasha', 17.4]\n",
      "<class 'list'>\n",
      "5\n"
     ]
    }
   ],
   "source": [
    "l1= [4,'natasha',True,'natasha',17.4]\n",
    "print(l1)\n",
    "print(type(l1))\n",
    "print(len(l1))"
   ]
  },
  {
   "cell_type": "code",
   "execution_count": 3,
   "metadata": {},
   "outputs": [
    {
     "name": "stdout",
     "output_type": "stream",
     "text": [
      "[1, 'saud']\n"
     ]
    }
   ],
   "source": [
    "l2=list((1,'saud'))\n",
    "print(l2)"
   ]
  },
  {
   "cell_type": "markdown",
   "metadata": {},
   "source": [
    "## list slicing"
   ]
  },
  {
   "cell_type": "code",
   "execution_count": 8,
   "metadata": {},
   "outputs": [
    {
     "name": "stdout",
     "output_type": "stream",
     "text": [
      "shalu\n",
      "natasha\n",
      "95\n"
     ]
    }
   ],
   "source": [
    "l1= [4,'natasha',95,True,17.4,'shalu',45,'natasha']\n",
    "name= l1[5]\n",
    "print(name)\n",
    "name=l1[-1]\n",
    "print(name)\n",
    "namel1=l1[-6]\n",
    "print(namel1)"
   ]
  },
  {
   "cell_type": "code",
   "execution_count": 12,
   "metadata": {},
   "outputs": [
    {
     "name": "stdout",
     "output_type": "stream",
     "text": [
      "[95, True]\n",
      "[4, 'natasha', 95, True]\n",
      "[17.4, 'shalu', 45, 'natasha']\n"
     ]
    }
   ],
   "source": [
    "l1= [4,'natasha',95,True,17.4,'shalu',45,'natasha']\n",
    "var=l1[2:4]  #[start:end+1]\n",
    "print(var)\n",
    "var1=l1[:4]\n",
    "var2=l1[4:]\n",
    "print(var1)\n",
    "print(var2)"
   ]
  },
  {
   "cell_type": "code",
   "execution_count": 14,
   "metadata": {},
   "outputs": [
    {
     "name": "stdout",
     "output_type": "stream",
     "text": [
      "[17.4, 'shalu', 45, 'natasha']\n",
      "[True, 17.4, 'shalu', 45, 'natasha']\n",
      "[True, 17.4, 'shalu', 45]\n",
      "[True, 17.4, 'shalu']\n"
     ]
    }
   ],
   "source": [
    "l1= [4,'natasha',95,True,17.4,'shalu',45,'natasha']\n",
    "var3=l1[4:]\n",
    "var4=l1[-5:]\n",
    "var5=l1[-5:-1]\n",
    "var6=l1[-5:-2]\n",
    "print(var3)\n",
    "print(var4)\n",
    "print(var5)\n",
    "print(var6)\n"
   ]
  },
  {
   "cell_type": "code",
   "execution_count": 1,
   "metadata": {},
   "outputs": [
    {
     "name": "stdout",
     "output_type": "stream",
     "text": [
      "[]\n"
     ]
    }
   ],
   "source": [
    "a = [] # empty list\n",
    "print(a)"
   ]
  },
  {
   "cell_type": "code",
   "execution_count": 4,
   "metadata": {},
   "outputs": [
    {
     "name": "stdout",
     "output_type": "stream",
     "text": [
      "[]\n",
      "[1, 2, 3]\n",
      "['alpha', 'beta', 'gamma']\n",
      "['arun', 100, 'varun', 150, 'tarun', 130]\n",
      "[[1, 2, 3], [2, 3, 4, 5]]\n",
      "[1, 2, 3]\n",
      "[[1, 2, 3], [1, 2, 3], [1, 2, 3], [1, 2, 3]]\n",
      "[2, 2, 2, 2, 2, 2, 2, 2, 2, 2]\n"
     ]
    }
   ],
   "source": [
    "b = [1,2,3] # number list\n",
    "c= ['alpha','beta','gamma'] # string list\n",
    "d= ['arun',100,'varun',150,'tarun',130] # mixed datatype\n",
    "e = [[1,2,3],[2,3,4,5]] # nested list\n",
    "f =[1,2,3]\n",
    "g = [ f,f,f,f] # list of list\n",
    "h = [2] * 10 # list multiplication\n",
    "print(a)\n",
    "print(b)\n",
    "print(c)\n",
    "print(d)\n",
    "print(e)\n",
    "print(f)\n",
    "print(g)\n",
    "print(h)"
   ]
  },
  {
   "cell_type": "code",
   "execution_count": 6,
   "metadata": {},
   "outputs": [
    {
     "name": "stdout",
     "output_type": "stream",
     "text": [
      "1\n",
      "3\n"
     ]
    }
   ],
   "source": [
    "print(b[0]) # first\n",
    "print(b[2]) # third"
   ]
  },
  {
   "cell_type": "code",
   "execution_count": 1,
   "metadata": {},
   "outputs": [
    {
     "name": "stdout",
     "output_type": "stream",
     "text": [
      "first three [12, 34, 25]\n",
      "last three [54, 23, 453]\n",
      "all content except first 2 and last 2 [25, 54]\n",
      "reverse [453, 23, 54, 25, 34, 12]\n",
      "even indexed item [12, 25, 23]\n"
     ]
    }
   ],
   "source": [
    "nums = [12,34,25,54,23,453]\n",
    "print('first three', nums[:3])\n",
    "print('last three',nums[-3:])\n",
    "print('all content except first 2 and last 2',nums[2:-2])\n",
    "print('reverse',nums[::-1])\n",
    "print('even indexed item',nums[::2])"
   ]
  },
  {
   "cell_type": "markdown",
   "metadata": {},
   "source": [
    "# changing and updating list"
   ]
  },
  {
   "cell_type": "code",
   "execution_count": 18,
   "metadata": {},
   "outputs": [
    {
     "name": "stdout",
     "output_type": "stream",
     "text": [
      "[4, 'natasha', 95, True, 17.4, 'shalu', 45, 'natasha']\n",
      "[4, 'natasha', 98, True, 17.4, 'shalu', 45, 'natasha']\n",
      "[4, 'natasha', 'neha', 66, 17.4, 'shalu', 45, 'natasha']\n",
      "[4, 'natasha', 87, 'shalu', 45, 'natasha']\n"
     ]
    }
   ],
   "source": [
    "l1= [4,'natasha',95,True,17.4,'shalu',45,'natasha']\n",
    "print(l1)\n",
    "l1[2]= 98\n",
    "print(l1)\n",
    "l1[2:4]=['neha',66]\n",
    "print(l1)\n",
    "l1[2:5]=[87]\n",
    "print(l1)"
   ]
  },
  {
   "cell_type": "code",
   "execution_count": 22,
   "metadata": {},
   "outputs": [
    {
     "name": "stdout",
     "output_type": "stream",
     "text": [
      "[4, 'natasha', 95, True, 17.4, 'shalu', 45, 'natasha']\n",
      "[4, 'natasha', 95, True, 17.4, [95, 'abc', 45.47], 45, 'natasha']\n",
      "[4, 'natasha', 95, True, 17.4, (95, 'abc', 45.47), 45, 'natasha']\n",
      "[4, 'natasha', 95, True, 17.4, 95, 'abc', 45.47, 45, 'natasha']\n"
     ]
    }
   ],
   "source": [
    "l1= [4,'natasha',95,True,17.4,'shalu',45,'natasha']\n",
    "print(l1)\n",
    "l1[-3]=[95,'abc',45.47]\n",
    "print(l1)\n",
    "l1[-3]=(95,'abc',45.47)\n",
    "print(l1)\n",
    "l1[5:6]=[95,'abc',45.47]  #store multiple value in single position\n",
    "print(l1)"
   ]
  },
  {
   "cell_type": "code",
   "execution_count": 9,
   "metadata": {},
   "outputs": [
    {
     "name": "stdout",
     "output_type": "stream",
     "text": [
      "[120, 34, 25, 54, 23, 453]\n",
      "[120, 34, 25, 54, 23, 20]\n"
     ]
    }
   ],
   "source": [
    "nums[0] = 120 # change value\n",
    "print(nums)\n",
    "nums[-1] = 20\n",
    "print(nums)\n"
   ]
  },
  {
   "cell_type": "code",
   "execution_count": 10,
   "metadata": {},
   "outputs": [
    {
     "name": "stdout",
     "output_type": "stream",
     "text": [
      "arun\n",
      "100\n",
      "varun\n",
      "150\n",
      "tarun\n",
      "130\n"
     ]
    }
   ],
   "source": [
    "for i in d:\n",
    "    print(i)\n",
    "    "
   ]
  },
  {
   "cell_type": "code",
   "execution_count": 11,
   "metadata": {},
   "outputs": [
    {
     "name": "stdout",
     "output_type": "stream",
     "text": [
      "arun is string\n",
      "100 is integer\n",
      "varun is string\n",
      "150 is integer\n",
      "tarun is string\n",
      "130 is integer\n"
     ]
    }
   ],
   "source": [
    "for i in d:\n",
    "    if isinstance(i,str):\n",
    "        print(i,'is string')\n",
    "    elif isinstance (i,int):\n",
    "        print(i,'is integer')\n",
    "    else:\n",
    "        print(i,'is inknown')        "
   ]
  },
  {
   "cell_type": "markdown",
   "metadata": {},
   "source": [
    "### list methods\n",
    "- adding\n",
    "    - append()\n",
    "    - insert()\n",
    "    - extend()\n",
    "- remove\n",
    "    - remove() -find the value and remove\n",
    "    - pop() - find the index and extract the value\n",
    "    - clear()\n",
    "\n",
    "- manipulation\n",
    "    - count()\n",
    "    - sort()\n",
    "    - reverse()\n",
    "    - copy()\n",
    "    - index()    \n"
   ]
  },
  {
   "cell_type": "markdown",
   "metadata": {},
   "source": [
    "# adding- append(),insert(),extend()\n",
    "append()- add value at the end of the list"
   ]
  },
  {
   "cell_type": "code",
   "execution_count": 25,
   "metadata": {},
   "outputs": [
    {
     "name": "stdout",
     "output_type": "stream",
     "text": [
      "['ali', 'sonali', 49, 'varun', True, 78, 49.6]\n",
      "['ali', 'sonali', 49, 'varun', True, 78, 49.6, 'shalu']\n",
      "['ali', 'sonali', 49, 'varun', True, 78, 49.6, 'shalu', 500]\n"
     ]
    }
   ],
   "source": [
    "list1= ['ali','sonali',49,'varun',True,78,49.6]\n",
    "list2 = ['umer','shalu',False,7.9,23]\n",
    "print(list1)\n",
    "list1.append('shalu')\n",
    "print(list1)\n",
    "list1.append(500)\n",
    "print(list1)"
   ]
  },
  {
   "cell_type": "code",
   "execution_count": 28,
   "metadata": {},
   "outputs": [
    {
     "name": "stdout",
     "output_type": "stream",
     "text": [
      "['red', 'orange', 'pink']\n"
     ]
    }
   ],
   "source": [
    "colors= []\n",
    "colors.append('red')\n",
    "colors.append('orange')\n",
    "colors.append('pink')\n",
    "print(colors)"
   ]
  },
  {
   "cell_type": "code",
   "execution_count": 29,
   "metadata": {},
   "outputs": [],
   "source": [
    "colors.append('brown')\n",
    "colors.append('blue')\n",
    "colors.append('black')"
   ]
  },
  {
   "cell_type": "code",
   "execution_count": 30,
   "metadata": {},
   "outputs": [
    {
     "data": {
      "text/plain": [
       "['red', 'orange', 'pink', 'brown', 'blue', 'black']"
      ]
     },
     "execution_count": 30,
     "metadata": {},
     "output_type": "execute_result"
    }
   ],
   "source": [
    "colors"
   ]
  },
  {
   "cell_type": "code",
   "execution_count": 34,
   "metadata": {},
   "outputs": [
    {
     "data": {
      "text/plain": [
       "[[1, 2, 3], [2, 3, 4, 5], [1, 3, 4], [1, 3, 4]]"
      ]
     },
     "execution_count": 34,
     "metadata": {},
     "output_type": "execute_result"
    }
   ],
   "source": [
    "e.append([1,3,4])\n",
    "e"
   ]
  },
  {
   "cell_type": "code",
   "execution_count": 36,
   "metadata": {},
   "outputs": [
    {
     "data": {
      "text/plain": [
       "[[1, 2, 3, 5], [2, 3, 4, 5], [1, 3, 4], [1, 3, 4]]"
      ]
     },
     "execution_count": 36,
     "metadata": {},
     "output_type": "execute_result"
    }
   ],
   "source": [
    "e[0].append(5)\n",
    "e"
   ]
  },
  {
   "cell_type": "markdown",
   "metadata": {},
   "source": [
    "## insert()"
   ]
  },
  {
   "cell_type": "code",
   "execution_count": 30,
   "metadata": {},
   "outputs": [
    {
     "name": "stdout",
     "output_type": "stream",
     "text": [
      "['ali', 'sonali', 49, 'varun', True, 78, 49.6]\n",
      "['ali', 'neha', 'sonali', 49, 'varun', True, 78, 49.6]\n",
      "['ali', 'neha', 'sonali', 49, 'varun', 56, True, 78, 49.6]\n"
     ]
    }
   ],
   "source": [
    "list1= ['ali','sonali',49,'varun',True,78,49.6]\n",
    "print(list1)\n",
    "list1.insert(1,'neha')\n",
    "print(list1)\n",
    "list1.insert(5,56)\n",
    "print(list1)"
   ]
  },
  {
   "cell_type": "code",
   "execution_count": 37,
   "metadata": {},
   "outputs": [
    {
     "data": {
      "text/plain": [
       "['red', 'orange', 'green', 'pink', 'brown', 'blue', 'black']"
      ]
     },
     "execution_count": 37,
     "metadata": {},
     "output_type": "execute_result"
    }
   ],
   "source": [
    "colors.insert(2,'green')\n",
    "colors"
   ]
  },
  {
   "cell_type": "code",
   "execution_count": null,
   "metadata": {},
   "outputs": [],
   "source": [
    "colors.insert(0,'white') # add white at index no. 0\n",
    "colors                        #[white,orange,green,pink,brown,blue,black]"
   ]
  },
  {
   "cell_type": "markdown",
   "metadata": {},
   "source": [
    "# extend()"
   ]
  },
  {
   "cell_type": "code",
   "execution_count": 34,
   "metadata": {},
   "outputs": [
    {
     "name": "stdout",
     "output_type": "stream",
     "text": [
      "['ali', 'sonali', 49, 'varun', True, 78, 49.6]\n",
      "['ali', 'sonali', 49, 'varun', True, 78, 49.6, 'umer', 'juhi', False, 7.9, 23]\n",
      "['ali', 'sonali', 49, 'varun', True, 78, 49.6, 'umer', 'juhi', False, 7.9, 23, 1, 2, 3, 4, 5, 6]\n"
     ]
    }
   ],
   "source": [
    "list1= ['ali','sonali',49,'varun',True,78,49.6]\n",
    "list2=['umer','juhi',False,7.9,23]\n",
    "t1=(1,2,3,4,5,6)  # tuple//it also add dict.,set in list\n",
    "print(list1)\n",
    "list1.extend(list2)\n",
    "print(list1)\n",
    "list1.extend(t1)  # adding tuple in list\n",
    "print(list1)"
   ]
  },
  {
   "cell_type": "code",
   "execution_count": 36,
   "metadata": {},
   "outputs": [
    {
     "name": "stdout",
     "output_type": "stream",
     "text": [
      "['ali', 'sonali', 49, 'varun', True, 78, 49.6]\n",
      "['ali', 'sonali', 49, 'varun', True, 78, 49.6, ['umer', 'juhi', False, 7.9, 23]]\n",
      "['ali', 'sonali', 49, 'varun', True, 78, 49.6, ['umer', 'juhi', False, 7.9, 23], 'umer', 'juhi', False, 7.9, 23]\n"
     ]
    }
   ],
   "source": [
    "# difference b/w append and extend-append add whole list but extend add only values\n",
    "list1= ['ali','sonali',49,'varun',True,78,49.6]  \n",
    "list2=['umer','juhi',False,7.9,23]\n",
    "print(list1)                                  \n",
    "list1.append(list2)\n",
    "print(list1)\n",
    "list1.extend(list2)\n",
    "print(list1)\n"
   ]
  },
  {
   "cell_type": "code",
   "execution_count": 45,
   "metadata": {},
   "outputs": [
    {
     "name": "stdout",
     "output_type": "stream",
     "text": [
      "[1, 2, 3, 4, 5, 6, 2, 3, 4, 5]\n"
     ]
    }
   ],
   "source": [
    "x=[1,2,3,4,5,6]\n",
    "y = [2,3,4,5]\n",
    "x.extend(y)\n",
    "print(x)"
   ]
  },
  {
   "cell_type": "markdown",
   "metadata": {},
   "source": [
    "# remove-remove(),pop(),clear(),delete()\n",
    "    "
   ]
  },
  {
   "cell_type": "markdown",
   "metadata": {},
   "source": [
    "#### remove()"
   ]
  },
  {
   "cell_type": "code",
   "execution_count": 37,
   "metadata": {},
   "outputs": [
    {
     "name": "stdout",
     "output_type": "stream",
     "text": [
      "['ali', 'sonali', 49, 'varun', True, 78, 49.6]\n",
      "['sonali', 49, 'varun', True, 78, 49.6]\n"
     ]
    }
   ],
   "source": [
    "list1= ['ali','sonali',49,'varun',True,78,49.6]  \n",
    "print(list1)\n",
    "list1.remove('ali')\n",
    "print(list1)\n"
   ]
  },
  {
   "cell_type": "markdown",
   "metadata": {},
   "source": [
    "#### pop()- remove last value from list,if index mentioned then remove the index value"
   ]
  },
  {
   "cell_type": "code",
   "execution_count": 41,
   "metadata": {},
   "outputs": [
    {
     "name": "stdout",
     "output_type": "stream",
     "text": [
      "['ali', 'sonali', 49, 'varun', True, 78, 49.6]\n",
      "['ali', 'sonali', 49, 'varun', True, 78]\n",
      "['ali', 'sonali', 49, 'varun', True]\n",
      "['ali', 'sonali', 'varun', True]\n"
     ]
    }
   ],
   "source": [
    "list1= ['ali','sonali',49,'varun',True,78,49.6]  \n",
    "print(list1)\n",
    "list1.pop()\n",
    "print(list1)\n",
    "list1.pop()\n",
    "print(list1)\n",
    "list1.pop(2)\n",
    "print(list1)\n"
   ]
  },
  {
   "cell_type": "code",
   "execution_count": 47,
   "metadata": {},
   "outputs": [],
   "source": [
    "colors = ['white','red','orange','green','pink','blue','black','brown']"
   ]
  },
  {
   "cell_type": "code",
   "execution_count": 48,
   "metadata": {},
   "outputs": [
    {
     "data": {
      "text/plain": [
       "'orange'"
      ]
     },
     "execution_count": 48,
     "metadata": {},
     "output_type": "execute_result"
    }
   ],
   "source": [
    "colors.pop(2) #orange"
   ]
  },
  {
   "cell_type": "code",
   "execution_count": 49,
   "metadata": {},
   "outputs": [
    {
     "data": {
      "text/plain": [
       "['white', 'red', 'green', 'pink', 'blue', 'black', 'brown']"
      ]
     },
     "execution_count": 49,
     "metadata": {},
     "output_type": "execute_result"
    }
   ],
   "source": [
    "colors # [white,red,pink,brown,blue,black]"
   ]
  },
  {
   "cell_type": "code",
   "execution_count": 52,
   "metadata": {},
   "outputs": [],
   "source": [
    "var = colors.pop()# remove last item"
   ]
  },
  {
   "cell_type": "code",
   "execution_count": 51,
   "metadata": {},
   "outputs": [
    {
     "data": {
      "text/plain": [
       "['white', 'red', 'green', 'pink', 'blue', 'black']"
      ]
     },
     "execution_count": 51,
     "metadata": {},
     "output_type": "execute_result"
    }
   ],
   "source": [
    "colors"
   ]
  },
  {
   "cell_type": "code",
   "execution_count": 53,
   "metadata": {},
   "outputs": [
    {
     "data": {
      "text/plain": [
       "'black'"
      ]
     },
     "execution_count": 53,
     "metadata": {},
     "output_type": "execute_result"
    }
   ],
   "source": [
    "var"
   ]
  },
  {
   "cell_type": "markdown",
   "metadata": {},
   "source": [
    "### delete()"
   ]
  },
  {
   "cell_type": "code",
   "execution_count": 44,
   "metadata": {},
   "outputs": [
    {
     "name": "stdout",
     "output_type": "stream",
     "text": [
      "['ali', 'sonali', 49, 'varun', True, 78, 49.6]\n",
      "['ali', 'sonali', 49, True, 78, 49.6]\n"
     ]
    },
    {
     "ename": "NameError",
     "evalue": "name 'list1' is not defined",
     "output_type": "error",
     "traceback": [
      "\u001b[1;31m---------------------------------------------------------------------------\u001b[0m",
      "\u001b[1;31mNameError\u001b[0m                                 Traceback (most recent call last)",
      "\u001b[1;32mc:\\Users\\Natasha\\Documents\\data-analytics-digipodium\\data structure\\list.ipynb Cell 47\u001b[0m line \u001b[0;36m7\n\u001b[0;32m      <a href='vscode-notebook-cell:/c%3A/Users/Natasha/Documents/data-analytics-digipodium/data%20structure/list.ipynb#Y110sZmlsZQ%3D%3D?line=3'>4</a>\u001b[0m \u001b[39mprint\u001b[39m(list1)\n\u001b[0;32m      <a href='vscode-notebook-cell:/c%3A/Users/Natasha/Documents/data-analytics-digipodium/data%20structure/list.ipynb#Y110sZmlsZQ%3D%3D?line=5'>6</a>\u001b[0m \u001b[39mdel\u001b[39;00m list1\n\u001b[1;32m----> <a href='vscode-notebook-cell:/c%3A/Users/Natasha/Documents/data-analytics-digipodium/data%20structure/list.ipynb#Y110sZmlsZQ%3D%3D?line=6'>7</a>\u001b[0m \u001b[39mprint\u001b[39m (list1)\n",
      "\u001b[1;31mNameError\u001b[0m: name 'list1' is not defined"
     ]
    }
   ],
   "source": [
    "list1= ['ali','sonali',49,'varun',True,78,49.6]  \n",
    "print(list1)\n",
    "del list1[3]\n",
    "print(list1)\n",
    "\n",
    "del list1  # delete whole list\n",
    "print (list1)\n"
   ]
  },
  {
   "cell_type": "markdown",
   "metadata": {},
   "source": [
    "## clear()-it clear all values in list"
   ]
  },
  {
   "cell_type": "code",
   "execution_count": 45,
   "metadata": {},
   "outputs": [
    {
     "name": "stdout",
     "output_type": "stream",
     "text": [
      "['ali', 'sonali', 49, 'varun', True, 78, 49.6]\n",
      "[]\n"
     ]
    }
   ],
   "source": [
    "list1= ['ali','sonali',49,'varun',True,78,49.6]  \n",
    "print(list1)\n",
    "list1.clear()\n",
    "print(list1)"
   ]
  },
  {
   "cell_type": "code",
   "execution_count": 55,
   "metadata": {},
   "outputs": [
    {
     "name": "stdout",
     "output_type": "stream",
     "text": [
      "3\n",
      "2\n",
      "2\n",
      "1\n"
     ]
    }
   ],
   "source": [
    "x =[1,2,12,1,1,2,25,25]\n",
    "print(x.count(1))\n",
    "print(x.count(2))\n",
    "print(x.count(25))\n",
    "print(x.count(12))"
   ]
  },
  {
   "cell_type": "code",
   "execution_count": 56,
   "metadata": {},
   "outputs": [
    {
     "data": {
      "text/plain": [
       "['arun', 100, 'varun', 150, 'tarun', 130]"
      ]
     },
     "execution_count": 56,
     "metadata": {},
     "output_type": "execute_result"
    }
   ],
   "source": [
    "d "
   ]
  },
  {
   "cell_type": "markdown",
   "metadata": {},
   "source": [
    "## List Sorting"
   ]
  },
  {
   "cell_type": "code",
   "execution_count": 47,
   "metadata": {},
   "outputs": [
    {
     "name": "stdout",
     "output_type": "stream",
     "text": [
      "[2, 5, 7, 4, 9, 2, 1, 5]\n",
      "[1, 2, 2, 4, 5, 5, 7, 9]\n",
      "[9, 7, 5, 5, 4, 2, 2, 1]\n"
     ]
    }
   ],
   "source": [
    "number= [2,5,7,4,9,2,1,5] # by default ascending order\n",
    "print(number)\n",
    "number.sort()\n",
    "print(number)\n",
    "number.sort(reverse=True)\n",
    "print(number)"
   ]
  },
  {
   "cell_type": "code",
   "execution_count": 50,
   "metadata": {},
   "outputs": [
    {
     "name": "stdout",
     "output_type": "stream",
     "text": [
      "['Banana', 'Kiwi', 'apple', 'grapes', 'mango', 'orange']\n"
     ]
    }
   ],
   "source": [
    "list3=['apple','orange','Banana','grapes','Kiwi','mango']  # sort alphabet wise\n",
    "list3.sort()\n",
    "print(list3)\n"
   ]
  },
  {
   "cell_type": "code",
   "execution_count": 57,
   "metadata": {},
   "outputs": [
    {
     "name": "stdout",
     "output_type": "stream",
     "text": [
      "[1, 1, 1, 2, 2, 2, 3, 3, 3, 5]\n",
      "[5, 3, 3, 3, 2, 2, 2, 1, 1, 1]\n"
     ]
    }
   ],
   "source": [
    "x = [1,2,3,1,1,2,2,3,3,5]\n",
    "x.sort()\n",
    "print(x)\n",
    "x.sort(reverse=True)  # descending order\n",
    "print(x)"
   ]
  },
  {
   "cell_type": "code",
   "execution_count": 58,
   "metadata": {},
   "outputs": [
    {
     "name": "stdout",
     "output_type": "stream",
     "text": [
      "[5, 3, 3, 2, 2, 1, 1, 3, 2, 1]\n"
     ]
    }
   ],
   "source": [
    "x = [1,2,3,1,1,2,2,3,3,5]\n",
    "x.reverse()\n",
    "print(x)"
   ]
  },
  {
   "cell_type": "code",
   "execution_count": 60,
   "metadata": {},
   "outputs": [
    {
     "name": "stdout",
     "output_type": "stream",
     "text": [
      "1\n",
      "4\n"
     ]
    }
   ],
   "source": [
    "print(colors.index('red'))\n",
    "print(colors.index('blue'))"
   ]
  },
  {
   "cell_type": "code",
   "execution_count": 2,
   "metadata": {},
   "outputs": [
    {
     "name": "stdout",
     "output_type": "stream",
     "text": [
      "[1, 2, 3]\n"
     ]
    }
   ],
   "source": [
    "x= [1,2,3]\n",
    "print(x)"
   ]
  },
  {
   "cell_type": "code",
   "execution_count": 3,
   "metadata": {},
   "outputs": [
    {
     "name": "stdout",
     "output_type": "stream",
     "text": [
      "[1, 2, 3, 4]\n",
      "[1, 2, 3, 4]\n"
     ]
    }
   ],
   "source": [
    "y = x #shallow copy(refernce)\n",
    "y.append(4)\n",
    "print(x)\n",
    "print(y)"
   ]
  },
  {
   "cell_type": "code",
   "execution_count": 4,
   "metadata": {},
   "outputs": [
    {
     "name": "stdout",
     "output_type": "stream",
     "text": [
      "[2, 3, 4]\n",
      "[2, 3, 4]\n",
      "[1, 2, 3, 4, 4]\n"
     ]
    }
   ],
   "source": [
    "z= x.copy()\n",
    "z.append(4)\n",
    "y.remove(1)\n",
    "print(x)\n",
    "print(y)\n",
    "print(z)"
   ]
  },
  {
   "cell_type": "markdown",
   "metadata": {},
   "source": [
    "## Copy and joining list"
   ]
  },
  {
   "cell_type": "code",
   "execution_count": 51,
   "metadata": {},
   "outputs": [
    {
     "name": "stdout",
     "output_type": "stream",
     "text": [
      "['ali', 'sonali', 49, 'varun', True, 78, 'rahul']\n",
      "['ali', 'sonali', 49, 'varun', True, 78, 49.6]\n"
     ]
    }
   ],
   "source": [
    "list1= ['ali','sonali',49,'varun',True,78,49.6]  \n",
    "list2=['umer','juhi',False,7.9,23]\n",
    "list4= list1.copy()\n",
    "list1.pop() # remove last element from list\n",
    "list1.append('rahul') # add value in last\n",
    "print(list1)\n",
    "print(list4)"
   ]
  },
  {
   "cell_type": "code",
   "execution_count": 54,
   "metadata": {},
   "outputs": [
    {
     "name": "stdout",
     "output_type": "stream",
     "text": [
      "['ali', 'sonali', 49, 'varun', True, 78, 49.6, 'umer', 'juhi', False, 7.9, 23]\n",
      "['ali', 'sonali', 49, 'varun', True, 78, 49.6, 'umer', 'juhi', False, 7.9, 23]\n"
     ]
    }
   ],
   "source": [
    "list1= ['ali','sonali',49,'varun',True,78,49.6]  \n",
    "list2=['umer','juhi',False,7.9,23]\n",
    "list5= list1+list2\n",
    "list1.extend(list2)\n",
    "print(list5)\n",
    "print(list1)"
   ]
  },
  {
   "cell_type": "markdown",
   "metadata": {},
   "source": [
    "## Multidimensional list"
   ]
  },
  {
   "cell_type": "code",
   "execution_count": 62,
   "metadata": {},
   "outputs": [
    {
     "name": "stdout",
     "output_type": "stream",
     "text": [
      "78\n",
      "[3, 6, 9, 12, 15]\n",
      "12\n",
      "16\n"
     ]
    }
   ],
   "source": [
    "list1= ['ali','sonali',49,'varun',True,78,49.6] \n",
    "print(list1[5])\n",
    "list6=[[2,4,6,8,10],[3,6,9,12,15],[4,8,12,16,20]]  #index[0,1,2]\n",
    "new= list6[1]\n",
    "print(new)\n",
    "x= list6[1][3] #specific value\n",
    "print(x)\n",
    "y=list6[2][3]\n",
    "print(y)\n",
    "\n"
   ]
  },
  {
   "cell_type": "markdown",
   "metadata": {},
   "source": [
    "## list iteration\n"
   ]
  },
  {
   "cell_type": "code",
   "execution_count": 4,
   "metadata": {},
   "outputs": [
    {
     "name": "stdout",
     "output_type": "stream",
     "text": [
      "10\n",
      "20\n",
      "30\n",
      "40\n",
      "60\n",
      "90\n",
      "80\n"
     ]
    }
   ],
   "source": [
    "l=[10,20,30,40,60,90,80] # list works on index no.\n",
    "t=len(l)\n",
    "for a in range(t):  #in place of range we can also write ''for a in l'\n",
    "    print(l[a])\n",
    "    \n"
   ]
  },
  {
   "cell_type": "code",
   "execution_count": 5,
   "metadata": {},
   "outputs": [
    {
     "name": "stdout",
     "output_type": "stream",
     "text": [
      "80\n",
      "90\n",
      "60\n",
      "40\n",
      "30\n",
      "20\n",
      "10\n"
     ]
    }
   ],
   "source": [
    "l=[10,20,30,40,60,90,80] # list works on index no.\n",
    "t=len(l)\n",
    "for a in range(t-1,-1,-1):\n",
    "    print(l[a])"
   ]
  },
  {
   "cell_type": "markdown",
   "metadata": {},
   "source": [
    "## zip()"
   ]
  },
  {
   "cell_type": "code",
   "execution_count": 8,
   "metadata": {},
   "outputs": [
    {
     "name": "stdout",
     "output_type": "stream",
     "text": [
      "10 : 99\n",
      "20 : 77\n",
      "30 : 88\n",
      "40 : 66\n",
      "60 : 55\n",
      "90 : 11\n",
      "80 : 22\n"
     ]
    }
   ],
   "source": [
    "l=[10,20,30,40,60,90,80]      # t=len(l)\n",
    "l1=[99,77,88,66,55,11,22]     # for h in range(t)\n",
    "for a,b in zip(l,l1):         # print(l[h],l1[h]])\n",
    "    print(a,':',b)\n"
   ]
  },
  {
   "cell_type": "markdown",
   "metadata": {},
   "source": []
  }
 ],
 "metadata": {
  "kernelspec": {
   "display_name": "Python 3",
   "language": "python",
   "name": "python3"
  },
  "language_info": {
   "codemirror_mode": {
    "name": "ipython",
    "version": 3
   },
   "file_extension": ".py",
   "mimetype": "text/x-python",
   "name": "python",
   "nbconvert_exporter": "python",
   "pygments_lexer": "ipython3",
   "version": "3.11.5"
  }
 },
 "nbformat": 4,
 "nbformat_minor": 2
}
