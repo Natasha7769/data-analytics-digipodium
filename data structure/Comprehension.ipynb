{
 "cells": [
  {
   "cell_type": "markdown",
   "metadata": {},
   "source": [
    "# Comprehension in python\n",
    " ** single line code for generation an iterable form an existing iterable**\n",
    " - list comprehension\n",
    " - set comprehension\n",
    " - dictionary comprehension"
   ]
  },
  {
   "cell_type": "markdown",
   "metadata": {},
   "source": [
    "syntax 1:\n",
    "```\n",
    "new_it =[operation for item in existing_it]\n",
    "\n",
    "```\n",
    "syntax 2:\n",
    "```python\n",
    "new_it=[operation for item in existing_it if condition]\n",
    "```"
   ]
  },
  {
   "cell_type": "code",
   "execution_count": 1,
   "metadata": {},
   "outputs": [
    {
     "name": "stdout",
     "output_type": "stream",
     "text": [
      "[1, 2, 3, 4, 5, 6, 7, 8, 9, 10]\n"
     ]
    }
   ],
   "source": [
    "l=[]\n",
    "for i in range(1,11):\n",
    "    l.append(i)\n",
    "print(l)    "
   ]
  },
  {
   "cell_type": "code",
   "execution_count": 2,
   "metadata": {},
   "outputs": [
    {
     "name": "stdout",
     "output_type": "stream",
     "text": [
      "[1, 2, 3, 4, 5, 6, 7, 8, 9, 10]\n"
     ]
    }
   ],
   "source": [
    "n=[m for m in range(1,11)]\n",
    "print(n)"
   ]
  },
  {
   "cell_type": "code",
   "execution_count": 4,
   "metadata": {},
   "outputs": [
    {
     "name": "stdout",
     "output_type": "stream",
     "text": [
      "[2, 4, 6, 8, 10]\n"
     ]
    }
   ],
   "source": [
    "n=[h for h in range(1,11) if h%2==0]\n",
    "print(n)"
   ]
  },
  {
   "cell_type": "code",
   "execution_count": 5,
   "metadata": {},
   "outputs": [
    {
     "name": "stdout",
     "output_type": "stream",
     "text": [
      "['h', 'e', 'l', 'l', 'o']\n"
     ]
    }
   ],
   "source": [
    "s='hello'\n",
    "d=[g for g in s]\n",
    "print(d)"
   ]
  },
  {
   "cell_type": "code",
   "execution_count": 2,
   "metadata": {},
   "outputs": [
    {
     "name": "stdout",
     "output_type": "stream",
     "text": [
      "[1, 2, 3, 4]\n",
      "[1, 4, 9, 16]\n"
     ]
    }
   ],
   "source": [
    "a=[1,2,3,4]\n",
    "a2=[]\n",
    "for i in a:\n",
    "    s=i**2\n",
    "    a2.append(s)\n",
    "print(a)\n",
    "print(a2)    \n"
   ]
  },
  {
   "cell_type": "code",
   "execution_count": 3,
   "metadata": {},
   "outputs": [
    {
     "name": "stdout",
     "output_type": "stream",
     "text": [
      "[1, 4, 9, 16]\n"
     ]
    }
   ],
   "source": [
    "a2 =[i**2 for i in a]\n",
    "print(a2)"
   ]
  },
  {
   "cell_type": "code",
   "execution_count": 4,
   "metadata": {},
   "outputs": [
    {
     "name": "stdout",
     "output_type": "stream",
     "text": [
      "['alex', 'susan', 'tom', 'jerry']\n",
      "['al', 'su', 'to', 'je']\n"
     ]
    }
   ],
   "source": [
    "names= ['alex','susan','tom','jerry']\n",
    "shorts=[]\n",
    "for name in names:\n",
    "    s= name[:2]\n",
    "    shorts.append(s)\n",
    "print(names)\n",
    "print(shorts)    "
   ]
  },
  {
   "cell_type": "code",
   "execution_count": 6,
   "metadata": {},
   "outputs": [
    {
     "name": "stdout",
     "output_type": "stream",
     "text": [
      "['al', 'su', 'to', 'je']\n"
     ]
    }
   ],
   "source": [
    "shorts=[name[:2] for name in names]\n",
    "print(shorts)"
   ]
  },
  {
   "cell_type": "code",
   "execution_count": 10,
   "metadata": {},
   "outputs": [
    {
     "name": "stdout",
     "output_type": "stream",
     "text": [
      "[2, -6, -9, -6, -5, -8, -5, -4]\n"
     ]
    }
   ],
   "source": [
    "numbers =[12,4,1,4,5,2,5,6]\n",
    "num=[i-10 for i in numbers]\n",
    "print(num)"
   ]
  },
  {
   "cell_type": "code",
   "execution_count": 11,
   "metadata": {},
   "outputs": [
    {
     "name": "stdout",
     "output_type": "stream",
     "text": [
      "[12, 4, 1, 4, 5, 2, 5, 6]\n",
      "[2, -6, -6, -8, -4]\n"
     ]
    }
   ],
   "source": [
    "evens=[n-10 for n in numbers if n%2==0]\n",
    "print(numbers)\n",
    "print(evens)"
   ]
  },
  {
   "cell_type": "code",
   "execution_count": 12,
   "metadata": {},
   "outputs": [
    {
     "name": "stdout",
     "output_type": "stream",
     "text": [
      "['raman', 'sita', 'gita', 'hari', 'rahul', 'sohan']\n",
      "['sita', 'gita', 'hari']\n"
     ]
    }
   ],
   "source": [
    "guests= ['raman','sita','gita','hari','rahul','sohan']\n",
    "guest_i=[name for name in guests if 'i' in name.lower()]\n",
    "print(guests)\n",
    "print(guest_i)"
   ]
  },
  {
   "cell_type": "code",
   "execution_count": 13,
   "metadata": {},
   "outputs": [
    {
     "name": "stdout",
     "output_type": "stream",
     "text": [
      "{1, 2, 3}\n",
      "{1, 4, 9}\n"
     ]
    }
   ],
   "source": [
    "x={1,2,3}\n",
    "x2={i**2 for i in x}\n",
    "print(x)\n",
    "print(x2)"
   ]
  },
  {
   "cell_type": "code",
   "execution_count": 14,
   "metadata": {},
   "outputs": [
    {
     "name": "stdout",
     "output_type": "stream",
     "text": [
      "{1, 2, 3, 4, 5, 6}\n",
      "{-4, -3, -2}\n"
     ]
    }
   ],
   "source": [
    "y={1,2,3,4,5,6,1,1,1}\n",
    "y2={i-5 for i in x}\n",
    "print(y)\n",
    "print(y2)"
   ]
  },
  {
   "cell_type": "code",
   "execution_count": 15,
   "metadata": {},
   "outputs": [
    {
     "name": "stdout",
     "output_type": "stream",
     "text": [
      "{'a': 'APPLE', 'b': 'BANANA', 'c': 'CHERRY'}\n"
     ]
    }
   ],
   "source": [
    "# dict comprehension\n",
    "x={'a':'apple','b':'banana','c':'cherry'}\n",
    "x2={k:v.upper() for k,v in x.items()}\n",
    "print(x2)\n"
   ]
  },
  {
   "cell_type": "code",
   "execution_count": 3,
   "metadata": {},
   "outputs": [
    {
     "name": "stdout",
     "output_type": "stream",
     "text": [
      "{'apple': 'a', 'banana': 'b', 'cherry': 'c'}\n"
     ]
    }
   ],
   "source": [
    "z={'a':'apple','b':'banana','c':'cherry'}\n",
    "z1={value:key for key,value in z.items()}\n",
    "print(z1)"
   ]
  },
  {
   "cell_type": "code",
   "execution_count": 16,
   "metadata": {},
   "outputs": [
    {
     "name": "stdout",
     "output_type": "stream",
     "text": [
      "[13, 2, 1, 2, 5, 6, 5, 123, 3, 23, 2, 2]\n",
      "{0: 13, 1: 2, 2: 1, 3: 2, 4: 5, 5: 6, 6: 5, 7: 123, 8: 3, 9: 23, 10: 2, 11: 2}\n"
     ]
    }
   ],
   "source": [
    "# list to dict\n",
    "x=[13,2,1,2,5,6,5,123,3,23,2,2]\n",
    "xd={i:v for i,v in enumerate(x)}\n",
    "print(x)\n",
    "print(xd)"
   ]
  },
  {
   "cell_type": "code",
   "execution_count": 17,
   "metadata": {},
   "outputs": [
    {
     "name": "stdout",
     "output_type": "stream",
     "text": [
      "[13, 2, 1, 2, 5, 6, 5]\n",
      "{13: 'a', 2: 'd', 1: 'c', 5: 'g', 6: 'f'}\n"
     ]
    }
   ],
   "source": [
    "x=[13,2,1,2,5,6,5]\n",
    "y= ['a','b','c','d','e','f','g']\n",
    "xd={i2:i1 for i2,i1 in zip(x,y)}\n",
    "print(x)\n",
    "print(xd)"
   ]
  },
  {
   "cell_type": "code",
   "execution_count": 19,
   "metadata": {},
   "outputs": [
    {
     "data": {
      "text/plain": [
       "[1, 4, 9]"
      ]
     },
     "execution_count": 19,
     "metadata": {},
     "output_type": "execute_result"
    }
   ],
   "source": [
    "x=(1,2,3) #\n",
    "x2=(i**2 for i in x)\n",
    "list(x2)"
   ]
  },
  {
   "cell_type": "code",
   "execution_count": 20,
   "metadata": {},
   "outputs": [
    {
     "data": {
      "text/plain": [
       "[1, 3, 5, 7, 9, 11, 13, 15, 17, 19]"
      ]
     },
     "execution_count": 20,
     "metadata": {},
     "output_type": "execute_result"
    }
   ],
   "source": [
    "list(range(1,20,2))\n"
   ]
  },
  {
   "cell_type": "code",
   "execution_count": null,
   "metadata": {},
   "outputs": [],
   "source": []
  }
 ],
 "metadata": {
  "kernelspec": {
   "display_name": "Python 3",
   "language": "python",
   "name": "python3"
  },
  "language_info": {
   "codemirror_mode": {
    "name": "ipython",
    "version": 3
   },
   "file_extension": ".py",
   "mimetype": "text/x-python",
   "name": "python",
   "nbconvert_exporter": "python",
   "pygments_lexer": "ipython3",
   "version": "3.11.5"
  }
 },
 "nbformat": 4,
 "nbformat_minor": 2
}
