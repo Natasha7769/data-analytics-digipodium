{
 "cells": [
  {
   "cell_type": "markdown",
   "metadata": {},
   "source": [
    "Write a program to count the frequency of each character in a given string using a dictionary.\n",
    "\n",
    "Sample data: \"hello\"\n",
    "Hint: Iterate through each character in the string and update the count in the dictionary."
   ]
  },
  {
   "cell_type": "code",
   "execution_count": null,
   "metadata": {},
   "outputs": [],
   "source": []
  },
  {
   "cell_type": "markdown",
   "metadata": {},
   "source": [
    "Write a program to merge two dictionaries into a single dictionary.\n",
    "\n",
    "Sample data:\n",
    "dict1 = {\"a\": 1, \"b\": 2}\n",
    "dict2 = {\"c\": 3, \"d\": 4}\n",
    "Hint: Use the update() method to merge the dictionaries."
   ]
  },
  {
   "cell_type": "code",
   "execution_count": 1,
   "metadata": {},
   "outputs": [
    {
     "name": "stdout",
     "output_type": "stream",
     "text": [
      "{'a': 1, 'b': 2, 'c': 3, 'd': 4}\n"
     ]
    }
   ],
   "source": [
    "dict1 = {\"a\": 1, \"b\": 2}\n",
    "dict2 = {\"c\": 3, \"d\": 4}\n",
    "dict1.update(dict2)\n",
    "print(dict1)\n"
   ]
  },
  {
   "cell_type": "markdown",
   "metadata": {},
   "source": [
    "Write a program to find the keys with the maximum value in a dictionary.\n",
    "\n",
    "Sample data: {\"a\": 10, \"b\": 5, \"c\": 10}\n",
    "Hint: Use the max() function with a custom key argument to find the maximum value.\n",
    "\n"
   ]
  },
  {
   "cell_type": "code",
   "execution_count": 5,
   "metadata": {},
   "outputs": [
    {
     "name": "stdout",
     "output_type": "stream",
     "text": [
      "b\n"
     ]
    }
   ],
   "source": [
    "data= {\"a\": 10, \"b\": 30, \"c\": 10}\n",
    "maxval=max(data,key=data.get)\n",
    "print(maxval)\n"
   ]
  },
  {
   "cell_type": "markdown",
   "metadata": {},
   "source": [
    "Write a program to check if a given key exists in a dictionary.\n",
    "\n",
    "Sample data: {\"a\": 1, \"b\": 2, \"c\": 3}\n",
    "Hint: Use the in operator to check for key existence.\n",
    "\n"
   ]
  },
  {
   "cell_type": "code",
   "execution_count": 3,
   "metadata": {},
   "outputs": [
    {
     "name": "stdout",
     "output_type": "stream",
     "text": [
      "key does not exist\n"
     ]
    }
   ],
   "source": [
    "data= {\"a\": 1, \"b\": 2, \"c\": 3}\n",
    "check= input('Enter a key:')\n",
    "a=data.items()\n",
    "for key,value in a:\n",
    "    if key==check:\n",
    "        print('key exist')\n",
    "        break\n",
    "else:\n",
    "        print('key does not exist')        \n",
    "    \n"
   ]
  },
  {
   "cell_type": "markdown",
   "metadata": {},
   "source": [
    "Write a program to remove a specific key from a dictionary.\n",
    "\n",
    "Sample data: {\"a\": 1, \"b\": 2, \"c\": 3}\n",
    "Hint: Use the pop() method to remove the key."
   ]
  },
  {
   "cell_type": "code",
   "execution_count": 6,
   "metadata": {},
   "outputs": [
    {
     "name": "stdout",
     "output_type": "stream",
     "text": [
      "{'b': 2, 'c': 3}\n"
     ]
    }
   ],
   "source": [
    "data1= {\"a\": 1, \"b\": 2, \"c\": 3}\n",
    "data1.pop(\"a\")\n",
    "print(data1)"
   ]
  },
  {
   "cell_type": "markdown",
   "metadata": {},
   "source": [
    "Write a program to find the common keys in two dictionaries.\n",
    "\n",
    "Sample data:\n",
    "dict1 = {\"a\": 1, \"b\": 2, \"c\": 3}\n",
    "dict2 = {\"b\": 3, \"c\": 4, \"d\": 5}"
   ]
  },
  {
   "cell_type": "code",
   "execution_count": 17,
   "metadata": {},
   "outputs": [
    {
     "name": "stdout",
     "output_type": "stream",
     "text": [
      "['b', 'c']\n"
     ]
    }
   ],
   "source": [
    "dict1 = {\"a\": 1, \"b\": 2, \"c\": 3}\n",
    "dict2 = {\"b\": 3, \"c\": 4, \"d\": 5}\n",
    "common=[]\n",
    "for i in dict1:\n",
    "    for j in dict2:\n",
    "        if i==j:\n",
    "            common.append(i)\n",
    "print(common)   \n",
    "            \n",
    "\n"
   ]
  },
  {
   "cell_type": "markdown",
   "metadata": {},
   "source": [
    "Write a program to get the length of a dictionary.\n",
    "\n",
    "Sample data: {\"a\": 1, \"b\": 2, \"c\": 3}\n",
    "Hint: Use the len() function to calculate the length."
   ]
  },
  {
   "cell_type": "code",
   "execution_count": 7,
   "metadata": {},
   "outputs": [
    {
     "name": "stdout",
     "output_type": "stream",
     "text": [
      "3\n"
     ]
    }
   ],
   "source": [
    "data= {\"a\": 1, \"b\": 2, \"c\": 3}\n",
    "print(len(data))"
   ]
  },
  {
   "cell_type": "markdown",
   "metadata": {},
   "source": [
    "Write a program to sort a dictionary by its keys in ascending order.\n",
    "\n",
    "Sample data: {\"b\": 2, \"a\": 1, \"c\": 3}\n",
    "Hint: Use the sorted() function with a custom key argument to sort the dictionary."
   ]
  },
  {
   "cell_type": "code",
   "execution_count": 39,
   "metadata": {},
   "outputs": [
    {
     "name": "stdout",
     "output_type": "stream",
     "text": [
      "[('a', 1), ('b', 2), ('c', 3)]\n",
      "{'a': 1, 'b': 2, 'c': 3}\n"
     ]
    }
   ],
   "source": [
    "data={\"b\": 2, \"a\": 1, \"c\": 3}\n",
    "s=data.items()\n",
    "sort_1 =sorted(s)\n",
    "print(sort_1)\n",
    "dict1=dict(sort_1)\n",
    "print(dict1)\n"
   ]
  },
  {
   "cell_type": "markdown",
   "metadata": {},
   "source": [
    "Write a program to find the key with the minimum value in a dictionary.\n",
    "\n",
    "Sample data: {\"a\": 10, \"b\": 5, \"c\": 15}\n",
    "Hint: Use the min() function with a custom key argument to find the minimum value.\n",
    "\n"
   ]
  },
  {
   "cell_type": "code",
   "execution_count": 30,
   "metadata": {},
   "outputs": [],
   "source": [
    "data={\"a\": 10, \"b\": 5, \"c\": 15}\n",
    "\n",
    "\n",
    "\n"
   ]
  },
  {
   "cell_type": "markdown",
   "metadata": {},
   "source": [
    "Write a program to get the values of a dictionary as a list.\n",
    "\n",
    "Sample data: {\"a\": 1, \"b\": 2, \"c\": 3}\n",
    "Hint: Use the values() method to get the values and convert them into a list."
   ]
  },
  {
   "cell_type": "code",
   "execution_count": 19,
   "metadata": {},
   "outputs": [
    {
     "name": "stdout",
     "output_type": "stream",
     "text": [
      "[1, 2, 3]\n"
     ]
    }
   ],
   "source": [
    "data= {\"a\": 1, \"b\": 2, \"c\": 3}\n",
    "x=list(data.values())\n",
    "print(x)"
   ]
  },
  {
   "cell_type": "markdown",
   "metadata": {},
   "source": [
    "Write a program to check if a given value exists in a dictionary.\n",
    "\n",
    "Sample data: {\"a\": 1, \"b\": 2, \"c\": 3}\n",
    "Hint: Use the values()method and thein operator to check for value existence."
   ]
  },
  {
   "cell_type": "code",
   "execution_count": 9,
   "metadata": {},
   "outputs": [
    {
     "name": "stdout",
     "output_type": "stream",
     "text": [
      "key exist\n"
     ]
    }
   ],
   "source": [
    "data= {\"a\": 1, \"b\": 2, \"c\": 3}\n",
    "check= input('Enter a value:')\n",
    "a=data.items()\n",
    "for key,value in a:\n",
    "    if str(value)==check:\n",
    "        print('key exist')\n",
    "        break\n",
    "else:\n",
    "    print('key does not exist')        \n",
    "    \n"
   ]
  },
  {
   "cell_type": "markdown",
   "metadata": {},
   "source": [
    "Write a program to create a dictionary with keys as numbers from 1 to 10 and their squares as values.\n",
    "\n",
    "Sample data: \n",
    "keys: [1, 2, 3, ..., 10]\n",
    "values: [1, 4, 9, ..., 100]\n",
    "Hint: Use a for loop and the dictionary's indexing to create the dictionary."
   ]
  },
  {
   "cell_type": "code",
   "execution_count": null,
   "metadata": {},
   "outputs": [],
   "source": []
  },
  {
   "cell_type": "markdown",
   "metadata": {},
   "source": [
    "Write a program to find the difference between two dictionaries.\n",
    "\n",
    "Sample data:\n",
    "dict1 = {\"a\": 1, \"b\": 2, \"c\": 3}\n",
    "dict2 = {\"b\": 2, \"c\": 3, \"d\": 4}\n",
    "Hint: Use the keys() and items() methods to find the difference between the dictionaries."
   ]
  },
  {
   "cell_type": "code",
   "execution_count": null,
   "metadata": {},
   "outputs": [],
   "source": [
    "dict1 = {\"a\": 1, \"b\": 2, \"c\": 3}\n",
    "dict2 = {\"b\": 2, \"c\": 3, \"d\": 4}\n"
   ]
  },
  {
   "cell_type": "markdown",
   "metadata": {},
   "source": [
    "Write a program to remove all the items from a dictionary.\n",
    "\n",
    "Sample data: {\"a\": 1, \"b\": 2, \"c\": 3}\n",
    "Hint: Use the clear() method to remove all items from the dictionary."
   ]
  },
  {
   "cell_type": "code",
   "execution_count": 20,
   "metadata": {},
   "outputs": [
    {
     "name": "stdout",
     "output_type": "stream",
     "text": [
      "{}\n"
     ]
    }
   ],
   "source": [
    "data= {\"a\": 1, \"b\": 2, \"c\": 3}\n",
    "data.clear()\n",
    "print(data)"
   ]
  },
  {
   "cell_type": "markdown",
   "metadata": {},
   "source": [
    "Write a program to convert a dictionary into a list of tuples.\n",
    "\n",
    "Sample data: {\"a\": 1, \"b\": 2, \"c\": 3}\n",
    "Hint: Use the items() method to convert the dictionary into a list of tuples.\n",
    "\n"
   ]
  },
  {
   "cell_type": "code",
   "execution_count": 43,
   "metadata": {},
   "outputs": [
    {
     "name": "stdout",
     "output_type": "stream",
     "text": [
      "dict_items([('a', 1), ('b', 2), ('c', 3)])\n",
      "[('a', 1), ('b', 2), ('c', 3)]\n"
     ]
    }
   ],
   "source": [
    "data= {\"a\": 1, \"b\": 2, \"c\": 3}\n",
    "a= data.items()\n",
    "print(a)\n",
    "t5=list(a)\n",
    "print(t5)\n",
    "\n"
   ]
  },
  {
   "cell_type": "markdown",
   "metadata": {},
   "source": [
    "Write a program to check if all the values in a dictionary are unique. Sample data: {\"a\": 1, \"b\": 2, \"c\": 3}\n",
    "\n",
    "Hint: Convert the dictionary values into a set and compare the lengths."
   ]
  },
  {
   "cell_type": "code",
   "execution_count": 45,
   "metadata": {},
   "outputs": [
    {
     "name": "stdout",
     "output_type": "stream",
     "text": [
      "{1, 2, 3}\n"
     ]
    }
   ],
   "source": [
    "data= {\"a\": 1, \"b\": 2, \"c\": 3,'d':3}\n",
    "s=set(data.values())\n",
    "print(s)\n"
   ]
  },
  {
   "cell_type": "markdown",
   "metadata": {},
   "source": [
    "Write a program to extract all the values from nested dictionaries into a single list.\n",
    "\n",
    "Sample data: {\"a\": 1, \"b\": {\"c\": 2, \"d\": 3}, \"e\": 4}\n",
    "Hint: Use recursion to iterate through the nested dictionaries and extract the values."
   ]
  },
  {
   "cell_type": "code",
   "execution_count": 31,
   "metadata": {},
   "outputs": [],
   "source": [
    "data= {\"a\": 1, \"b\": {\"c\": 2, \"d\": 3}, \"e\": 4}"
   ]
  },
  {
   "cell_type": "markdown",
   "metadata": {},
   "source": [
    "Write a program to find the key-value pairs that have the highest values in a dictionary.\n",
    "\n",
    "Sample data: {\"a\": 10, \"b\": 5, \"c\": 10}\n",
    "Hint: Use the items() method and the max() function with a custom key argument to find the highest values.\n",
    "\n"
   ]
  },
  {
   "cell_type": "code",
   "execution_count": 25,
   "metadata": {},
   "outputs": [
    {
     "ename": "TypeError",
     "evalue": "'dict_items' object is not callable",
     "output_type": "error",
     "traceback": [
      "\u001b[1;31m---------------------------------------------------------------------------\u001b[0m",
      "\u001b[1;31mTypeError\u001b[0m                                 Traceback (most recent call last)",
      "\u001b[1;32mc:\\Users\\Natasha\\Documents\\data-analytics-digipodium\\data structure\\dictpractice.ipynb Cell 36\u001b[0m line \u001b[0;36m2\n\u001b[0;32m      <a href='vscode-notebook-cell:/c%3A/Users/Natasha/Documents/data-analytics-digipodium/data%20structure/dictpractice.ipynb#X50sZmlsZQ%3D%3D?line=0'>1</a>\u001b[0m d1\u001b[39m=\u001b[39m {\u001b[39m\"\u001b[39m\u001b[39ma\u001b[39m\u001b[39m\"\u001b[39m: \u001b[39m800\u001b[39m, \u001b[39m\"\u001b[39m\u001b[39mb\u001b[39m\u001b[39m\"\u001b[39m: \u001b[39m5\u001b[39m, \u001b[39m\"\u001b[39m\u001b[39mc\u001b[39m\u001b[39m\"\u001b[39m: \u001b[39m40\u001b[39m}\n\u001b[1;32m----> <a href='vscode-notebook-cell:/c%3A/Users/Natasha/Documents/data-analytics-digipodium/data%20structure/dictpractice.ipynb#X50sZmlsZQ%3D%3D?line=1'>2</a>\u001b[0m max_value\u001b[39m=\u001b[39m\u001b[39mmax\u001b[39;49m(d1,key\u001b[39m=\u001b[39;49md1\u001b[39m.\u001b[39;49mitems())\n\u001b[0;32m      <a href='vscode-notebook-cell:/c%3A/Users/Natasha/Documents/data-analytics-digipodium/data%20structure/dictpractice.ipynb#X50sZmlsZQ%3D%3D?line=2'>3</a>\u001b[0m \u001b[39mprint\u001b[39m(max_value)\n",
      "\u001b[1;31mTypeError\u001b[0m: 'dict_items' object is not callable"
     ]
    }
   ],
   "source": [
    "d1= {\"a\": 800, \"b\": 5, \"c\": 40}\n",
    "max_value=max(d1,key=d1.items())\n",
    "print(max_value)\n"
   ]
  },
  {
   "cell_type": "markdown",
   "metadata": {},
   "source": [
    "Write a program to create a dictionary from two lists, one containing keys and the other containing values.\n",
    "\n",
    "Sample data:\n",
    "keys = [\"a\", \"b\", \"c\"]\n",
    "values = [1, 2, 3]\n",
    "Hint: Use the zip() function to combine the two lists into key-value pairs."
   ]
  },
  {
   "cell_type": "code",
   "execution_count": 15,
   "metadata": {},
   "outputs": [
    {
     "name": "stdout",
     "output_type": "stream",
     "text": [
      "{'a': 1, 'b': 2, 'c': 3}\n"
     ]
    }
   ],
   "source": [
    "keys = [\"a\", \"b\", \"c\"]  #mehtod 1\n",
    "values = [1, 2, 3]\n",
    "combine_dict={k:v for k,v in zip(keys,values)}\n",
    "print(combine_dict)"
   ]
  },
  {
   "cell_type": "code",
   "execution_count": 14,
   "metadata": {},
   "outputs": [
    {
     "name": "stdout",
     "output_type": "stream",
     "text": [
      "a : 1\n",
      "b : 2\n",
      "c : 3\n"
     ]
    }
   ],
   "source": [
    "keys = [\"a\", \"b\", \"c\"]  #method 2\n",
    "values = [1, 2, 3]\n",
    "for a,b in zip(keys,values):\n",
    "    print(a,':',b)"
   ]
  },
  {
   "cell_type": "markdown",
   "metadata": {},
   "source": [
    "Write a program to iterate over a dictionary and print the keys and values.\n",
    "\n",
    "Sample data: {\"a\": 1, \"b\": 2, \"c\": 3}\n",
    "Hint: Use a for loop and the items() method to iterate over the dictionary and print the keys and values."
   ]
  },
  {
   "cell_type": "code",
   "execution_count": 12,
   "metadata": {},
   "outputs": [
    {
     "name": "stdout",
     "output_type": "stream",
     "text": [
      "a 1\n",
      "b 2\n",
      "c 3\n"
     ]
    }
   ],
   "source": [
    "data={\"a\": 1, \"b\": 2, \"c\": 3}\n",
    "for key,value in data.items():\n",
    "    print(key, value)"
   ]
  },
  {
   "cell_type": "code",
   "execution_count": null,
   "metadata": {},
   "outputs": [],
   "source": []
  }
 ],
 "metadata": {
  "kernelspec": {
   "display_name": "Python 3",
   "language": "python",
   "name": "python3"
  },
  "language_info": {
   "codemirror_mode": {
    "name": "ipython",
    "version": 3
   },
   "file_extension": ".py",
   "mimetype": "text/x-python",
   "name": "python",
   "nbconvert_exporter": "python",
   "pygments_lexer": "ipython3",
   "version": "3.11.5"
  }
 },
 "nbformat": 4,
 "nbformat_minor": 2
}
