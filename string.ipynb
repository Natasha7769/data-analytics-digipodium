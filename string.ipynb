{
 "cells": [
  {
   "cell_type": "markdown",
   "metadata": {},
   "source": [
    "### Strings - Strings are immutable\n",
    " * indexing\n",
    " * slicing\n",
    " * methods\n",
    " * operations"
   ]
  },
  {
   "cell_type": "markdown",
   "metadata": {},
   "source": [
    "### Indexing"
   ]
  },
  {
   "cell_type": "markdown",
   "metadata": {},
   "source": [
    "* -11-10-9 -8 -7 -6 -5 -4 -3 -2 -1\n",
    "* H  E  L  L  O ... W   O  R  L  D\n",
    "* 0  1  2  3  4  5  6  7  8  9  10"
   ]
  },
  {
   "cell_type": "code",
   "execution_count": 1,
   "metadata": {},
   "outputs": [],
   "source": [
    "name = \"Shakespeare\""
   ]
  },
  {
   "cell_type": "code",
   "execution_count": 3,
   "metadata": {},
   "outputs": [
    {
     "name": "stdout",
     "output_type": "stream",
     "text": [
      "S\n",
      "h\n",
      "a k e\n"
     ]
    }
   ],
   "source": [
    "print(name[0])\n",
    "print(name[1])\n",
    "print(name[2],name[3],name[4])\n"
   ]
  },
  {
   "cell_type": "code",
   "execution_count": 3,
   "metadata": {},
   "outputs": [
    {
     "name": "stdout",
     "output_type": "stream",
     "text": [
      "e\n"
     ]
    }
   ],
   "source": [
    "name = \"Shakespeare\"\n",
    "print(name[-1])\n"
   ]
  },
  {
   "cell_type": "markdown",
   "metadata": {},
   "source": [
    "### Slicing"
   ]
  },
  {
   "cell_type": "code",
   "execution_count": 6,
   "metadata": {},
   "outputs": [
    {
     "name": "stdout",
     "output_type": "stream",
     "text": [
      "Viay\n",
      "Vijay\n",
      "Vijay\n",
      "Deenanath\n",
      "Deenanath Chauhan\n",
      "Chauhan\n",
      "han\n",
      "Deenanath\n",
      "Deenanath\n",
      "htananeeD\n",
      "nahuahC htananeeD yajiV\n",
      "ia ennt hua\n",
      "nhaChaaeDyjV\n",
      "VjyDeaahCahn\n"
     ]
    }
   ],
   "source": [
    "name = 'Vijay Deenanath Chauhan'\n",
    "print(name[0]+name[1]+name[3]+name[4])\n",
    "print(name[0:5])\n",
    "print(name[:5]) # start from 0 and go till 5\n",
    "print(name[6:15])\n",
    "print(name[6:]) # till end\n",
    "print(name[-7:]) # till end\n",
    "print(name[-3:]) \n",
    "print(name[6:-8]) \n",
    "print(name[6:6+9]) # 9 letters for deenanath\n",
    "print(name[-9:5:-1]) # reverse step\n",
    "print(name[::-1]) # reverse\n",
    "print(name[1::2]) \n",
    "print(name[::-2]) # reverse\n",
    "print(name[::2])\n",
    "\n"
   ]
  },
  {
   "cell_type": "markdown",
   "metadata": {},
   "source": [
    "name = \"William Shakespeare\"\n",
    "Slice the following words from name variable\n"
   ]
  },
  {
   "cell_type": "code",
   "execution_count": 19,
   "metadata": {},
   "outputs": [
    {
     "name": "stdout",
     "output_type": "stream",
     "text": [
      "William\n",
      "Shake\n",
      "pear\n",
      "spear\n",
      "liam\n",
      "are\n"
     ]
    }
   ],
   "source": [
    "name = \"William Shakespeare\"\n",
    "print(name[0:7])\n",
    "print(name[8:13])\n",
    "print(name[14:18])\n",
    "print(name[13:18])\n",
    "print(name[3:7])\n",
    "print(name[16:19])\n",
    "\n"
   ]
  },
  {
   "cell_type": "markdown",
   "metadata": {},
   "source": [
    "#### Methods in string\n",
    "  * formatting methods\n",
    "       * upper()\n",
    "       * lower()\n",
    "       * capitalize()\n",
    "          ....   \n",
    "  * validation methods\n",
    "      * isupper()\n",
    "      * islower()\n",
    "      * endswith()\n",
    "        .....\n",
    "\n",
    "  * utility methods\n",
    "      * replace()\n",
    "      * fing()\n",
    "      * count()\n",
    "        ....."
   ]
  },
  {
   "cell_type": "code",
   "execution_count": 20,
   "metadata": {},
   "outputs": [
    {
     "data": {
      "text/plain": [
       "'WILLIAM SHAKESPEARE'"
      ]
     },
     "execution_count": 20,
     "metadata": {},
     "output_type": "execute_result"
    }
   ],
   "source": [
    "name.upper()"
   ]
  },
  {
   "cell_type": "code",
   "execution_count": 21,
   "metadata": {},
   "outputs": [
    {
     "name": "stdout",
     "output_type": "stream",
     "text": [
      "William Shakespeare\n",
      "WILLIAM SHAKESPEARE\n"
     ]
    }
   ],
   "source": [
    "nameU = name.upper()\n",
    "print(name)\n",
    "print(nameU)"
   ]
  },
  {
   "cell_type": "markdown",
   "metadata": {},
   "source": [
    "#### formatting methods"
   ]
  },
  {
   "cell_type": "code",
   "execution_count": 30,
   "metadata": {},
   "outputs": [
    {
     "name": "stdout",
     "output_type": "stream",
     "text": [
      "Vijay Deenanath CHAUHAN\n",
      "VIJAY DEENANATH CHAUHAN\n",
      "vijay deenanath chauhan\n",
      "Vijay deenanath chauhan\n",
      "Vijay Deenanath Chauhan\n",
      "vIJAY dEENANATH chauhan\n",
      "vijay deenanath chauhan\n",
      "JOHN\n",
      "['Vijay', 'Deenanath', 'CHAUHAN']\n",
      "1\n",
      "0\n"
     ]
    }
   ],
   "source": [
    "name = 'Vijay Deenanath CHAUHAN'\n",
    "print(name)\n",
    "print(name.upper())\n",
    "print(name.lower())\n",
    "print(name.capitalize())\n",
    "print(name.title())\n",
    "print(name.swapcase())\n",
    "print(name.casefold()) #same as lower\n",
    "print(name.replace('Vijay Deenanath CHAUHAN','JOHN'))\n",
    "print(name.split())\n",
    "print(name.count('Vijay'))\n",
    "print(name.find('Vi')) # first occurence of v\n",
    "\n",
    "\n"
   ]
  },
  {
   "cell_type": "code",
   "execution_count": 25,
   "metadata": {},
   "outputs": [
    {
     "name": "stdout",
     "output_type": "stream",
     "text": [
      "10 * 15.15 = 151.5\n",
      "10 * 15.15 = 151.5\n"
     ]
    }
   ],
   "source": [
    "x = 10\n",
    "y = 15.15\n",
    "z = x * y\n",
    "print('{} * {} = {}'.format(x,y,z))\n",
    "print(f'{x} * {y} = {z}')"
   ]
  },
  {
   "cell_type": "markdown",
   "metadata": {},
   "source": [
    "### Validation function- these functions are used with conditions.All functions are of boolean return"
   ]
  },
  {
   "cell_type": "code",
   "execution_count": 38,
   "metadata": {},
   "outputs": [
    {
     "name": "stdout",
     "output_type": "stream",
     "text": [
      "upper: False \n",
      "lower: False \n",
      "title: False\n",
      "alphabets: False\n",
      "alphabets+number: False\n",
      "numbers: False\n",
      "whitespaces: True\n",
      "ASCII:True\n"
     ]
    }
   ],
   "source": [
    "a = input('enter any value')\n",
    "print(f'upper: {a.isupper()} ')\n",
    "print(f'lower: {a.islower()} ')\n",
    "print(f'title: {a.istitle()}')\n",
    "print(f'alphabets: {a.isalpha()}')\n",
    "print(f'alphabets+number: {a.isalnum()}')\n",
    "print(f'numbers: {a.isnumeric()}')\n",
    "print(f'whitespaces: {a.isspace()}')\n",
    "print(f'ASCII:{a.isascii()}')"
   ]
  },
  {
   "cell_type": "code",
   "execution_count": 34,
   "metadata": {},
   "outputs": [
    {
     "name": "stdout",
     "output_type": "stream",
     "text": [
      "enter number only\n"
     ]
    }
   ],
   "source": [
    "num = input('enter a number:')\n",
    "if num.isnumeric():\n",
    "    num = int(num)\n",
    "    print('very good')\n",
    "else: \n",
    "     print('enter number only')    "
   ]
  },
  {
   "cell_type": "code",
   "execution_count": 28,
   "metadata": {},
   "outputs": [
    {
     "name": "stdout",
     "output_type": "stream",
     "text": [
      "True\n",
      "False\n",
      "False\n",
      "False\n",
      "False\n",
      "True\n",
      "False\n",
      "False\n",
      "True\n"
     ]
    }
   ],
   "source": [
    "x = \"hello world\"\n",
    "print(x.startswith('he'))\n",
    "print(x.startswith('the'))\n",
    "print(x.startswith('hE'))\n",
    "print(x.startswith('He'))\n",
    "print(x.startswith('world'))\n",
    "print(x.endswith('world'))\n",
    "print(x.endswith('World'))\n",
    "print(x.endswith('Wd'))\n",
    "print(x.endswith('lo',0,5))\n",
    "\n"
   ]
  },
  {
   "cell_type": "code",
   "execution_count": 35,
   "metadata": {},
   "outputs": [
    {
     "name": "stdout",
     "output_type": "stream",
     "text": [
      "song.mp3\n",
      "song2.mp3\n",
      "songs.mp3\n"
     ]
    }
   ],
   "source": [
    "files = ['song.mp3','song2.mp3','thumb.png','songs.mp3','songs.ini']\n",
    "for x in files:\n",
    "    if x.endswith('mp3'):\n",
    "        print(x)"
   ]
  },
  {
   "cell_type": "code",
   "execution_count": null,
   "metadata": {},
   "outputs": [],
   "source": []
  }
 ],
 "metadata": {
  "kernelspec": {
   "display_name": "Python 3",
   "language": "python",
   "name": "python3"
  },
  "language_info": {
   "codemirror_mode": {
    "name": "ipython",
    "version": 3
   },
   "file_extension": ".py",
   "mimetype": "text/x-python",
   "name": "python",
   "nbconvert_exporter": "python",
   "pygments_lexer": "ipython3",
   "version": "3.11.5"
  }
 },
 "nbformat": 4,
 "nbformat_minor": 2
}
