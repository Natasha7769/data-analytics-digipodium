{
 "cells": [
  {
   "cell_type": "markdown",
   "metadata": {},
   "source": [
    "#### String Operations:\n",
    "  * find- to tell index.It also works for single letter\n",
    "  * replace\n",
    "  * split\n",
    "  * join\n",
    "  * count\n",
    "  * strip\n",
    "  * removeprefix\n",
    "  * removesuffix"
   ]
  },
  {
   "cell_type": "code",
   "execution_count": 2,
   "metadata": {},
   "outputs": [],
   "source": [
    "msg = 'a very normal message in a very normal world'\n"
   ]
  },
  {
   "cell_type": "code",
   "execution_count": 5,
   "metadata": {},
   "outputs": [
    {
     "data": {
      "text/plain": [
       "32"
      ]
     },
     "execution_count": 5,
     "metadata": {},
     "output_type": "execute_result"
    }
   ],
   "source": [
    "msg.find('message')\n",
    "msg.find('normal')\n",
    "msg.rfind('normal')"
   ]
  },
  {
   "cell_type": "code",
   "execution_count": 6,
   "metadata": {},
   "outputs": [
    {
     "name": "stdout",
     "output_type": "stream",
     "text": [
      "-1\n",
      "32\n"
     ]
    }
   ],
   "source": [
    "print(msg.find('mor'))\n",
    "print(msg.find('normal',8))"
   ]
  },
  {
   "cell_type": "code",
   "execution_count": 7,
   "metadata": {},
   "outputs": [
    {
     "name": "stdout",
     "output_type": "stream",
     "text": [
      "-1\n"
     ]
    }
   ],
   "source": [
    "print(msg.find('in', 0,15 ))"
   ]
  },
  {
   "cell_type": "code",
   "execution_count": 10,
   "metadata": {},
   "outputs": [
    {
     "name": "stdout",
     "output_type": "stream",
     "text": [
      "a very urgent message in a very urgent world\n",
      "apple very normapplel messapplege in apple very normapplel world\n",
      "a very urgent message in a very normal world\n"
     ]
    }
   ],
   "source": [
    "print(msg.replace('normal','urgent'))\n",
    "print(msg.replace('a','apple'))\n",
    "print(msg.replace('normal','urgent',1))\n"
   ]
  },
  {
   "cell_type": "code",
   "execution_count": 11,
   "metadata": {},
   "outputs": [
    {
     "data": {
      "text/plain": [
       "'a very normal message in a very urgent world'"
      ]
     },
     "execution_count": 11,
     "metadata": {},
     "output_type": "execute_result"
    }
   ],
   "source": [
    "msg[:15]+msg[15:].replace('normal','urgent')"
   ]
  },
  {
   "cell_type": "code",
   "execution_count": 4,
   "metadata": {},
   "outputs": [
    {
     "data": {
      "text/plain": [
       "'a very urgent message in a very urgent city'"
      ]
     },
     "execution_count": 4,
     "metadata": {},
     "output_type": "execute_result"
    }
   ],
   "source": [
    "msg = 'a very normal message in a very normal world'\n",
    "msg.replace('normal','urgent').replace('world','city').replace('normal','crowded')"
   ]
  },
  {
   "cell_type": "code",
   "execution_count": 5,
   "metadata": {},
   "outputs": [
    {
     "data": {
      "text/plain": [
       "['a', 'very', 'normal', 'message', 'in', 'a', 'very', 'normal', 'world']"
      ]
     },
     "execution_count": 5,
     "metadata": {},
     "output_type": "execute_result"
    }
   ],
   "source": [
    "msg.split()"
   ]
  },
  {
   "cell_type": "code",
   "execution_count": 14,
   "metadata": {},
   "outputs": [
    {
     "name": "stdout",
     "output_type": "stream",
     "text": [
      "['a', ' ', 'v', 'e', 'r', 'y', ' ', 'n', 'o', 'r', 'm', 'a', 'l', ' ', 'm', 'e', 's', 's', 'a', 'g', 'e', ' ', 'i', 'n', ' ', 'a', ' ', 'v', 'e', 'r', 'y', ' ', 'n', 'o', 'r', 'm', 'a', 'l', ' ', 'w', 'o', 'r', 'l', 'd']\n"
     ]
    }
   ],
   "source": [
    "print(list(msg))"
   ]
  },
  {
   "cell_type": "code",
   "execution_count": 15,
   "metadata": {},
   "outputs": [
    {
     "data": {
      "text/plain": [
       "['a v', 'ry normal m', 'ssag', ' in a v', 'ry normal world']"
      ]
     },
     "execution_count": 15,
     "metadata": {},
     "output_type": "execute_result"
    }
   ],
   "source": [
    "msg.split('e')"
   ]
  },
  {
   "cell_type": "code",
   "execution_count": 18,
   "metadata": {},
   "outputs": [],
   "source": [
    "bmsg= '''This is an example\n",
    "string with some \n",
    "content in each \n",
    "line of the message'''"
   ]
  },
  {
   "cell_type": "code",
   "execution_count": 7,
   "metadata": {},
   "outputs": [
    {
     "name": "stdout",
     "output_type": "stream",
     "text": [
      "['This', 'is', 'an', 'example', 'string', 'with', 'some', 'content', 'in', 'each', 'line', 'of', 'the', 'message']\n",
      "['This is an example', 'string with some ', 'content in each ', 'line of the message']\n",
      "['This is an example', 'string with some ', 'content in each ', 'line of the message']\n",
      "['This is an example\\nstring with some \\ncontent in each \\nline of the message']\n",
      "['This is an example\\nstring with some \\ncontent in each \\nline of the message']\n",
      "['This', 'is', 'an', 'example\\nstring with some \\ncontent in each \\nline of the message']\n"
     ]
    }
   ],
   "source": [
    "bmsg= '''This is an example\n",
    "string with some \n",
    "content in each \n",
    "line of the message'''\n",
    "\n",
    "\n",
    "\n",
    "print(bmsg.split())\n",
    "print(bmsg.splitlines())\n",
    "print(bmsg.split('\\n'))\n",
    "print(bmsg.split(','))\n",
    "print(bmsg.split(','))\n",
    "print(bmsg.split(maxsplit=3))"
   ]
  },
  {
   "cell_type": "code",
   "execution_count": 21,
   "metadata": {},
   "outputs": [],
   "source": [
    "path = [\"c:\",'users','lenovo','documents','secretfile.txt']"
   ]
  },
  {
   "cell_type": "code",
   "execution_count": 25,
   "metadata": {},
   "outputs": [
    {
     "name": "stdout",
     "output_type": "stream",
     "text": [
      "c:_users_lenovo_documents_secretfile.txt\n",
      "c:/users/lenovo/documents/secretfile.txt\n",
      "c:-users-lenovo-documents-secretfile.txt\n"
     ]
    },
    {
     "data": {
      "text/plain": [
       "'c:xusersxlenovoxdocumentsxsecretfile.txt'"
      ]
     },
     "execution_count": 25,
     "metadata": {},
     "output_type": "execute_result"
    }
   ],
   "source": [
    "print(\"_\".join(path))\n",
    "print(\"/\".join(path))\n",
    "print(\"-\".join(path))\n",
    "gs =\"x\"\n",
    "gs.join(path)"
   ]
  },
  {
   "cell_type": "code",
   "execution_count": 30,
   "metadata": {},
   "outputs": [
    {
     "name": "stdout",
     "output_type": "stream",
     "text": [
      "['a', 'very', 'normal', 'message', 'in', 'a', 'very', 'normal', 'world']\n",
      "['world', 'normal', 'very', 'a', 'in', 'message', 'normal', 'very', 'a']\n",
      "world normal very a in message normal very a\n"
     ]
    }
   ],
   "source": [
    "print(msg.split())\n",
    "print(msg.split()[::-1])\n",
    "print(\" \".join(msg.split()[::-1]))"
   ]
  },
  {
   "cell_type": "code",
   "execution_count": 32,
   "metadata": {},
   "outputs": [
    {
     "name": "stdout",
     "output_type": "stream",
     "text": [
      "5\n",
      "2\n",
      "2\n"
     ]
    }
   ],
   "source": [
    "print(msg.count('a'))\n",
    "print(msg.count('very'))\n",
    "print(msg.count('very norm'))"
   ]
  },
  {
   "cell_type": "code",
   "execution_count": 8,
   "metadata": {},
   "outputs": [
    {
     "name": "stdout",
     "output_type": "stream",
     "text": [
      "17\n",
      "11\n",
      "hello world\n"
     ]
    }
   ],
   "source": [
    "kachra =\"   hello world   \"\n",
    "cleaned_s = kachra.strip()\n",
    "print(len(kachra))\n",
    "print(len(cleaned_s))\n",
    "print(kachra.strip())\n"
   ]
  },
  {
   "cell_type": "code",
   "execution_count": 34,
   "metadata": {},
   "outputs": [
    {
     "name": "stdout",
     "output_type": "stream",
     "text": [
      "20\n",
      "my content here\n",
      "15\n"
     ]
    }
   ],
   "source": [
    "a ='''\n",
    "my content here\n",
    "'''\n",
    "print(len(a))\n",
    "print(a.strip())\n",
    "print(len(a.strip()))"
   ]
  },
  {
   "cell_type": "code",
   "execution_count": 35,
   "metadata": {},
   "outputs": [
    {
     "name": "stdout",
     "output_type": "stream",
     "text": [
      "content!!!!\n",
      "!!!!content\n",
      "content\n"
     ]
    }
   ],
   "source": [
    "word ='!!!!content!!!!'\n",
    "print(word.lstrip('!'))\n",
    "print(word.rstrip('!'))\n",
    "print(word.strip('!'))"
   ]
  },
  {
   "cell_type": "code",
   "execution_count": 36,
   "metadata": {},
   "outputs": [
    {
     "data": {
      "text/plain": [
       "'Suess'"
      ]
     },
     "execution_count": 36,
     "metadata": {},
     "output_type": "execute_result"
    }
   ],
   "source": [
    "name=\"Dr. Suess\"\n",
    "name.removeprefix('Dr. ')"
   ]
  },
  {
   "cell_type": "code",
   "execution_count": null,
   "metadata": {},
   "outputs": [],
   "source": []
  }
 ],
 "metadata": {
  "kernelspec": {
   "display_name": "Python 3",
   "language": "python",
   "name": "python3"
  },
  "language_info": {
   "codemirror_mode": {
    "name": "ipython",
    "version": 3
   },
   "file_extension": ".py",
   "mimetype": "text/x-python",
   "name": "python",
   "nbconvert_exporter": "python",
   "pygments_lexer": "ipython3",
   "version": "3.11.5"
  }
 },
 "nbformat": 4,
 "nbformat_minor": 2
}
