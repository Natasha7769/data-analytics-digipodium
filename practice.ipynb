{
 "cells": [
  {
   "cell_type": "markdown",
   "metadata": {},
   "source": [
    "### Write a program to print numbers from 1 to 10 using a for loop."
   ]
  },
  {
   "cell_type": "code",
   "execution_count": null,
   "metadata": {},
   "outputs": [],
   "source": [
    "for i in range(1,11):\n",
    "    print(i,end=\" \")"
   ]
  },
  {
   "cell_type": "markdown",
   "metadata": {},
   "source": [
    "### Write a program to print the multiplication table of a given number using a while loop."
   ]
  },
  {
   "cell_type": "code",
   "execution_count": null,
   "metadata": {},
   "outputs": [],
   "source": [
    "num = int(input('Enter a number:' ))\n",
    "i = 1\n",
    "while i<11:\n",
    "    print(f'{num} * {i} = {num*i}')\n",
    "    i=i+1"
   ]
  },
  {
   "cell_type": "markdown",
   "metadata": {},
   "source": [
    "### Write a program to find the sum of all even numbers between 1 and 100 using a for loop."
   ]
  },
  {
   "cell_type": "code",
   "execution_count": null,
   "metadata": {},
   "outputs": [],
   "source": [
    "sum = 0\n",
    "for i in range(1, 101):\n",
    "    if i%2 == 0:\n",
    "        sum = sum + i\n",
    "print(sum)"
   ]
  },
  {
   "cell_type": "markdown",
   "metadata": {},
   "source": [
    "### Write a program to check if a given number is prime or not using a while loop."
   ]
  },
  {
   "cell_type": "code",
   "execution_count": null,
   "metadata": {},
   "outputs": [],
   "source": [
    "num = int(input('Enter a number: '))\n",
    "divisor = 2\n",
    "count = 0\n",
    "while divisor<num:\n",
    "    if num%divisor == 0:\n",
    "        print(\"Not Prime\")\n",
    "        break\n",
    "    divisor += 1\n",
    "else:\n",
    "    print(\"Prime\")\n",
    "\n"
   ]
  },
  {
   "cell_type": "markdown",
   "metadata": {},
   "source": [
    "### Write a program to calculate the factorial of a number using a for loop."
   ]
  },
  {
   "cell_type": "code",
   "execution_count": null,
   "metadata": {},
   "outputs": [],
   "source": [
    "num = int(input('Enter a number: '))\n",
    "fact = 1\n",
    "for i in range(1,num+1):\n",
    "    fact = fact*i\n",
    "print(fact)    "
   ]
  },
  {
   "cell_type": "markdown",
   "metadata": {},
   "source": [
    "### Write a program to print the Fibonacci series up to a given limit using a while loop."
   ]
  },
  {
   "cell_type": "code",
   "execution_count": null,
   "metadata": {},
   "outputs": [],
   "source": []
  },
  {
   "cell_type": "markdown",
   "metadata": {},
   "source": [
    "### Write a program to find the largest element in an array using a for loop."
   ]
  },
  {
   "cell_type": "code",
   "execution_count": null,
   "metadata": {},
   "outputs": [],
   "source": [
    "a = [10,20,30,40,60,50]\n",
    "max = a[0]\n",
    "size = len(a)\n",
    "print(size)\n",
    "for i in range(size):\n",
    "    if a[i]>max:\n",
    "        max=a[i]\n",
    "print(max)        "
   ]
  },
  {
   "cell_type": "code",
   "execution_count": 5,
   "metadata": {},
   "outputs": [
    {
     "name": "stdout",
     "output_type": "stream",
     "text": [
      "50\n"
     ]
    }
   ],
   "source": [
    "x = [10,20,30,40,50]\n",
    "largest = x[0]\n",
    "for i in x:\n",
    "    if i>largest:\n",
    "        largest=i # put the new i in largest\n",
    "print(largest)        "
   ]
  },
  {
   "cell_type": "markdown",
   "metadata": {},
   "source": [
    "### Write a program to reverse a given string using a while loop."
   ]
  },
  {
   "cell_type": "code",
   "execution_count": 1,
   "metadata": {},
   "outputs": [
    {
     "name": "stdout",
     "output_type": "stream",
     "text": [
      "ahsatan\n"
     ]
    }
   ],
   "source": [
    "str = input(\"Enter any string: \") \n",
    "count = ''\n",
    "i = len(str)-1\n",
    "while i >= 0:\n",
    "    count=count+str[i]\n",
    "    i = i-1\n",
    "print(count)    \n",
    "\n"
   ]
  },
  {
   "cell_type": "code",
   "execution_count": 2,
   "metadata": {},
   "outputs": [
    {
     "name": "stdout",
     "output_type": "stream",
     "text": [
      "iarumas"
     ]
    }
   ],
   "source": [
    "ex= 'samurai'\n",
    "i= -1\n",
    "while i>= -len(ex):\n",
    "    print(ex[i],end= '')\n",
    "    i -=1\n",
    "    "
   ]
  },
  {
   "cell_type": "code",
   "execution_count": 4,
   "metadata": {},
   "outputs": [
    {
     "name": "stdout",
     "output_type": "stream",
     "text": [
      "iarumas"
     ]
    }
   ],
   "source": [
    "ex = \"samurai\"\n",
    "i = len(ex)-1\n",
    "while i>=0:\n",
    "    print(ex[i],end='')\n",
    "    i-=1"
   ]
  },
  {
   "cell_type": "markdown",
   "metadata": {},
   "source": [
    "### Write a program to print the ASCII values of all uppercase letters using a for loop."
   ]
  },
  {
   "cell_type": "code",
   "execution_count": null,
   "metadata": {},
   "outputs": [],
   "source": []
  },
  {
   "cell_type": "markdown",
   "metadata": {},
   "source": [
    "### Write a program to check if a given string is a palindrome using a while loop."
   ]
  },
  {
   "cell_type": "code",
   "execution_count": null,
   "metadata": {},
   "outputs": [],
   "source": []
  },
  {
   "cell_type": "markdown",
   "metadata": {},
   "source": [
    "### Write a program to calculate the average of a list of numbers using a for loop."
   ]
  },
  {
   "cell_type": "code",
   "execution_count": null,
   "metadata": {},
   "outputs": [],
   "source": [
    "num = [20,30,90,50,40]\n",
    "sum=0\n",
    "count = 0\n",
    "for i in num:\n",
    "    sum=sum+i\n",
    "print(sum/len(num))\n"
   ]
  },
  {
   "cell_type": "markdown",
   "metadata": {},
   "source": [
    "### Write a program to find the smallest element in an array using a while loop."
   ]
  },
  {
   "cell_type": "code",
   "execution_count": null,
   "metadata": {},
   "outputs": [],
   "source": [
    "arr = [10,20,30,40,50,60]\n",
    "min = arr[0]\n",
    "i = 0\n",
    "while i < len(arr)-1:\n",
    "    if arr[i]<min:\n",
    "        min = arr[i]\n",
    "    i+=1\n",
    "print(min)\n"
   ]
  },
  {
   "cell_type": "markdown",
   "metadata": {},
   "source": [
    "### Write a program to calculate the sum digits of number using for loop"
   ]
  },
  {
   "cell_type": "code",
   "execution_count": null,
   "metadata": {},
   "outputs": [],
   "source": [
    "num = int(input('Enter a number: '))     #  input= 123\n",
    "sum = 0\n",
    "size = len(str(num))\n",
    "for i in range(size):\n",
    "    digit = num%10   #3\n",
    "    sum = sum+digit\n",
    "    num = num//10     #12  remove 3 from number\n",
    "print(sum)      \n"
   ]
  },
  {
   "cell_type": "markdown",
   "metadata": {},
   "source": [
    "### Write a program to check if a given year is a leap year using a while loop."
   ]
  },
  {
   "cell_type": "code",
   "execution_count": null,
   "metadata": {},
   "outputs": [],
   "source": []
  },
  {
   "cell_type": "markdown",
   "metadata": {},
   "source": [
    "### Write a program to print the multiplication table of numbers from 1 to 5 using a for loop."
   ]
  },
  {
   "cell_type": "code",
   "execution_count": null,
   "metadata": {},
   "outputs": [],
   "source": [
    "for i in range(1,6):\n",
    "    for j in range(1,11):\n",
    "        print(f'{i} * {j} = {i*j}')"
   ]
  },
  {
   "cell_type": "markdown",
   "metadata": {},
   "source": [
    "###  Write a program to find the factorial of a number using a while loop."
   ]
  },
  {
   "cell_type": "code",
   "execution_count": null,
   "metadata": {},
   "outputs": [],
   "source": [
    "num =int(input('Enter a number: '))\n",
    "fact=1\n",
    "while num>1:\n",
    "    fact = fact*num\n",
    "    num=num-1\n",
    "print(fact)    "
   ]
  },
  {
   "cell_type": "markdown",
   "metadata": {},
   "source": [
    "### Write a program to count the number of vowels in a given string using a for loop."
   ]
  },
  {
   "cell_type": "code",
   "execution_count": null,
   "metadata": {},
   "outputs": [],
   "source": [
    "name = input('Enter any name: ')\n",
    "count=0\n",
    "for i in name:\n",
    "    if i=='a' or i=='e' or i=='i' or i=='o' or i=='u'or i=='A' or i=='E' or i=='I' or i=='O' or i=='U' :\n",
    "        count=count+1\n",
    "print(f'count of vowel is {count}')        "
   ]
  },
  {
   "cell_type": "markdown",
   "metadata": {},
   "source": [
    "### Write a program to check if a given number is a perfect square using a while loop."
   ]
  },
  {
   "cell_type": "code",
   "execution_count": null,
   "metadata": {},
   "outputs": [],
   "source": [
    "nu"
   ]
  },
  {
   "cell_type": "markdown",
   "metadata": {},
   "source": [
    "### Write a program to find the largest and smallest elements in an array using a for loop."
   ]
  },
  {
   "cell_type": "code",
   "execution_count": null,
   "metadata": {},
   "outputs": [],
   "source": [
    "num = [10,20,30,40,50,60]\n",
    "min = num[0]\n",
    "max = num [0]\n",
    "size = len(num)\n",
    "for i in range(size):\n",
    "    if num[i]>max:\n",
    "        max = num[i]\n",
    "    if num[i]<min:\n",
    "        min = num[i]\n",
    "print(f'max = {max} min = {min}')            "
   ]
  },
  {
   "cell_type": "markdown",
   "metadata": {},
   "source": [
    "### Write a program to reverse the order of words in a sentence using a while loop."
   ]
  },
  {
   "cell_type": "code",
   "execution_count": null,
   "metadata": {},
   "outputs": [],
   "source": [
    "sentence = input('Enter a sentence: ')\n",
    "sent= sentence.split()\n",
    "i = len(sent)-1\n",
    "count= ''\n",
    "while i >=0:\n",
    "    count=count+' '+sent[i]\n",
    "    i=i-1\n",
    "print(count)\n",
    "    \n",
    "    \n"
   ]
  },
  {
   "cell_type": "code",
   "execution_count": null,
   "metadata": {},
   "outputs": [],
   "source": []
  }
 ],
 "metadata": {
  "kernelspec": {
   "display_name": "Python 3",
   "language": "python",
   "name": "python3"
  },
  "language_info": {
   "codemirror_mode": {
    "name": "ipython",
    "version": 3
   },
   "file_extension": ".py",
   "mimetype": "text/x-python",
   "name": "python",
   "nbconvert_exporter": "python",
   "pygments_lexer": "ipython3",
   "version": "3.11.5"
  }
 },
 "nbformat": 4,
 "nbformat_minor": 2
}
