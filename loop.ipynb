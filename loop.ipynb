{
 "cells": [
  {
   "cell_type": "markdown",
   "metadata": {},
   "source": [
    "#### for \n",
    "* step base loop\n",
    "* repeating a step n number of times\n",
    "* enumeration\n",
    "* tarversing iterables\n",
    "\n",
    "#### while\n",
    "* condition based loop"
   ]
  },
  {
   "cell_type": "markdown",
   "metadata": {},
   "source": [
    "#### for var in iterables:\n",
    "        statements"
   ]
  },
  {
   "cell_type": "code",
   "execution_count": 2,
   "metadata": {},
   "outputs": [
    {
     "name": "stdout",
     "output_type": "stream",
     "text": [
      "0 1 2 3 4 5 6 7 8 9 "
     ]
    }
   ],
   "source": [
    "for item in range(10):\n",
    "    print(item,end=\" \")"
   ]
  },
  {
   "cell_type": "code",
   "execution_count": 3,
   "metadata": {},
   "outputs": [
    {
     "name": "stdout",
     "output_type": "stream",
     "text": [
      "-10 -9 -8 -7 -6 -5 -4 -3 -2 -1 0 1 2 3 4 5 6 7 8 9 "
     ]
    }
   ],
   "source": [
    "for i in range(-10,10):\n",
    "    print(i,end=\" \")"
   ]
  },
  {
   "cell_type": "code",
   "execution_count": 5,
   "metadata": {},
   "outputs": [
    {
     "name": "stdout",
     "output_type": "stream",
     "text": [
      "-10 -8 -6 -4 -2 0 2 4 6 8 10 "
     ]
    }
   ],
   "source": [
    "for i in range(-10,11,2):\n",
    "    print(i,end=\" \")\n"
   ]
  },
  {
   "cell_type": "code",
   "execution_count": 6,
   "metadata": {},
   "outputs": [
    {
     "name": "stdout",
     "output_type": "stream",
     "text": [
      "15 14 13 12 11 10 9 8 7 6 5 4 3 2 1 "
     ]
    }
   ],
   "source": [
    "for i in range(15,0,-1):\n",
    "    print(i,end=\" \")"
   ]
  },
  {
   "cell_type": "code",
   "execution_count": 7,
   "metadata": {},
   "outputs": [
    {
     "name": "stdout",
     "output_type": "stream",
     "text": [
      "2 4 6 8 10 12 14 16 18 20 22 24 26 28 30 32 34 36 38 40 42 44 46 48 50 52 54 56 58 60 62 64 66 68 70 72 74 76 78 80 82 84 86 88 90 92 94 96 98 100 "
     ]
    }
   ],
   "source": [
    "for i in range(2,101,2):\n",
    "    print(i,end=\" \")"
   ]
  },
  {
   "cell_type": "code",
   "execution_count": 8,
   "metadata": {},
   "outputs": [
    {
     "name": "stdout",
     "output_type": "stream",
     "text": [
      "hello\n",
      "hello\n",
      "hello\n",
      "hello\n",
      "hello\n"
     ]
    }
   ],
   "source": [
    "for _ in range(5):\n",
    "    print(\"hello\")"
   ]
  },
  {
   "cell_type": "code",
   "execution_count": 13,
   "metadata": {},
   "outputs": [],
   "source": [
    "name = \"Alber Silvador\"\n",
    "words = ['hi','hello','aloha','hola'] # list\n",
    "colors = ('red','green','blue') # tuple\n",
    "numbers = {1,2,5,6,7,23,12,21,25} # set"
   ]
  },
  {
   "cell_type": "code",
   "execution_count": 14,
   "metadata": {},
   "outputs": [
    {
     "name": "stdout",
     "output_type": "stream",
     "text": [
      "A l b e r   S i l v a d o r \n",
      "hi hello aloha hola \n",
      "red green blue \n",
      "1 2 5 6 7 12 21 23 25 \n"
     ]
    }
   ],
   "source": [
    "for char in name:\n",
    "    print(char,end=\" \")\n",
    "print()\n",
    "for word in words:\n",
    "    print(word,end=' ')\n",
    "print()\n",
    "for c in colors:\n",
    "    print(c,end=' ')\n",
    "print()\n",
    "for i in numbers:\n",
    "    print(i,end=' ')\n",
    "print()                "
   ]
  },
  {
   "cell_type": "code",
   "execution_count": 15,
   "metadata": {},
   "outputs": [
    {
     "name": "stdout",
     "output_type": "stream",
     "text": [
      "(0, 'harsh')\n",
      "(1, 'nishant')\n",
      "(2, 'amaan')\n",
      "(3, 'kratagya')\n",
      "(4, 'ayush')\n"
     ]
    }
   ],
   "source": [
    "names =['harsh','nishant','amaan','kratagya','ayush']\n",
    "for value in enumerate(names):\n",
    "    print(value)\n"
   ]
  },
  {
   "cell_type": "code",
   "execution_count": 17,
   "metadata": {},
   "outputs": [
    {
     "name": "stdout",
     "output_type": "stream",
     "text": [
      "0 harsh\n",
      "1 nishant\n",
      "2 amaan\n",
      "3 kratagya\n",
      "4 ayush\n"
     ]
    }
   ],
   "source": [
    "names =['harsh','nishant','amaan','kratagya','ayush']\n",
    "for idx,val in enumerate(names):\n",
    "    print(idx,val)"
   ]
  },
  {
   "cell_type": "code",
   "execution_count": 18,
   "metadata": {},
   "outputs": [
    {
     "name": "stdout",
     "output_type": "stream",
     "text": [
      "harsh srivastava\n",
      "nishant shukla\n",
      "amaan raza\n",
      "kratagya jaiswal\n",
      "ayush singh\n"
     ]
    }
   ],
   "source": [
    "surnames=['srivastava','shukla','raza','jaiswal','singh']\n",
    "for fname,lname in zip(names,surnames):\n",
    "    print(fname,lname)\n"
   ]
  },
  {
   "cell_type": "code",
   "execution_count": 22,
   "metadata": {},
   "outputs": [
    {
     "name": "stdout",
     "output_type": "stream",
     "text": [
      "1 2 3 4 5 "
     ]
    }
   ],
   "source": [
    "x =[1,2,0,3,4,0,5]\n",
    "for i in x:\n",
    "    if i == 0:\n",
    "        continue # skip\n",
    "    print(i,end=' ')"
   ]
  },
  {
   "cell_type": "code",
   "execution_count": 23,
   "metadata": {},
   "outputs": [
    {
     "name": "stdout",
     "output_type": "stream",
     "text": [
      "1 2 3 4 "
     ]
    }
   ],
   "source": [
    "x =[1,2,0,3,4,0,5]\n",
    "for i in x:\n",
    "    if i == 0 or i == 5:\n",
    "        continue # skip\n",
    "    print(i,end=' ')"
   ]
  },
  {
   "cell_type": "code",
   "execution_count": 24,
   "metadata": {},
   "outputs": [
    {
     "name": "stdout",
     "output_type": "stream",
     "text": [
      "1 2 "
     ]
    }
   ],
   "source": [
    "x =[1,2,0,3,4,0,5]\n",
    "for i in x:\n",
    "    if i == 0:\n",
    "        break\n",
    "    print(i,end=' ')"
   ]
  },
  {
   "cell_type": "code",
   "execution_count": 25,
   "metadata": {},
   "outputs": [],
   "source": [
    "x =[]\n",
    "for i in x:\n",
    "    print(i,end=' ')"
   ]
  },
  {
   "cell_type": "code",
   "execution_count": 29,
   "metadata": {},
   "outputs": [
    {
     "name": "stdout",
     "output_type": "stream",
     "text": [
      "hello a\n",
      "hello b\n",
      "hello c\n",
      "hello d\n",
      "hello e\n",
      "well done\n"
     ]
    }
   ],
   "source": [
    "# for - else\n",
    "for i in range(5):\n",
    "    name=input('Enter name of person: ')\n",
    "    if name:\n",
    "        print(f'hello {name}')\n",
    "    else:\n",
    "        break    \n",
    "else:    \n",
    "    print('well done')    "
   ]
  },
  {
   "cell_type": "code",
   "execution_count": 30,
   "metadata": {},
   "outputs": [
    {
     "name": "stdout",
     "output_type": "stream",
     "text": [
      "0\n",
      "10\n",
      "20\n",
      "30\n",
      "40\n",
      "50\n",
      "60\n",
      "70\n",
      "80\n",
      "90\n"
     ]
    }
   ],
   "source": [
    "n = 0\n",
    "while n<100:\n",
    "    print(n)\n",
    "    n  += 10"
   ]
  },
  {
   "cell_type": "code",
   "execution_count": 31,
   "metadata": {},
   "outputs": [
    {
     "name": "stdout",
     "output_type": "stream",
     "text": [
      "101\n",
      "X10X\n"
     ]
    }
   ],
   "source": [
    "#infinite loop controlled by user\n",
    "while True:\n",
    "    num = int(input('Enter number greater than 100: '))\n",
    "    if num> 100:\n",
    "        print(f'{num}')\n",
    "    else:\n",
    "        print(f'X{num}X')\n",
    "        break    \n"
   ]
  },
  {
   "cell_type": "code",
   "execution_count": null,
   "metadata": {},
   "outputs": [],
   "source": []
  }
 ],
 "metadata": {
  "kernelspec": {
   "display_name": "Python 3",
   "language": "python",
   "name": "python3"
  },
  "language_info": {
   "codemirror_mode": {
    "name": "ipython",
    "version": 3
   },
   "file_extension": ".py",
   "mimetype": "text/x-python",
   "name": "python",
   "nbconvert_exporter": "python",
   "pygments_lexer": "ipython3",
   "version": "3.11.5"
  }
 },
 "nbformat": 4,
 "nbformat_minor": 2
}
