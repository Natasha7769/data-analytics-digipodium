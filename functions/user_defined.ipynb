{
 "cells": [
  {
   "cell_type": "markdown",
   "metadata": {},
   "source": [
    "## user defined functions\n",
    "- on the basics of signature functions can be divided into\n",
    "    - no agrument no return type (game programming mostly)\n",
    "    - no aregument with return type\n",
    "    - with argument no return type\n",
    "    - with agrument with return type\n",
    "    - lambada function anonymours functions\n"
   ]
  },
  {
   "cell_type": "markdown",
   "metadata": {},
   "source": [
    "## Conventions for making a function\n",
    "- function name should be in lower case\n",
    "- function should never take input from user\n",
    "- dont use print function to display result from func,prefer returning value\n",
    "- functions must be defined before calling\n",
    "- function should be called after they have been defined to actually excute them"
   ]
  },
  {
   "cell_type": "markdown",
   "metadata": {},
   "source": [
    "```python\n",
    "def func_name([params]):\n",
    "    ```\n",
    "    docstring\n",
    "    ```\n",
    "    # body of function\n",
    "    [retrun statement]"
   ]
  },
  {
   "cell_type": "code",
   "execution_count": 2,
   "metadata": {},
   "outputs": [],
   "source": [
    "def welcome():\n",
    "    '''a function that welcome users'''\n",
    "    print('welcome to python functions!')"
   ]
  },
  {
   "cell_type": "code",
   "execution_count": 3,
   "metadata": {},
   "outputs": [
    {
     "name": "stdout",
     "output_type": "stream",
     "text": [
      "welcome to python functions!\n"
     ]
    }
   ],
   "source": [
    "welcome()"
   ]
  },
  {
   "cell_type": "code",
   "execution_count": 4,
   "metadata": {},
   "outputs": [
    {
     "name": "stdout",
     "output_type": "stream",
     "text": [
      "welcome to python functions!\n",
      "welcome to python functions!\n",
      "welcome to python functions!\n"
     ]
    }
   ],
   "source": [
    "for i in range(3):\n",
    "    welcome()"
   ]
  },
  {
   "cell_type": "code",
   "execution_count": 15,
   "metadata": {},
   "outputs": [],
   "source": [
    "# function returning value\n",
    "def get_random_letter():\n",
    "    import random\n",
    "    code= random.randint(0,255)\n",
    "    return chr(code)"
   ]
  },
  {
   "cell_type": "code",
   "execution_count": 16,
   "metadata": {},
   "outputs": [
    {
     "name": "stdout",
     "output_type": "stream",
     "text": [
      "M\n",
      "Ú\n",
      "\n",
      "=\n",
      "¾\n"
     ]
    }
   ],
   "source": [
    "print(get_random_letter())\n",
    "print(get_random_letter())\n",
    "print(get_random_letter())\n",
    "print(get_random_letter())\n",
    "print(get_random_letter())\n"
   ]
  },
  {
   "cell_type": "code",
   "execution_count": 19,
   "metadata": {},
   "outputs": [],
   "source": [
    "def get_random_letter1():\n",
    "    import random\n",
    "    code= random.randint(2304,2432)\n",
    "    return chr(code)"
   ]
  },
  {
   "cell_type": "code",
   "execution_count": 20,
   "metadata": {},
   "outputs": [
    {
     "name": "stdout",
     "output_type": "stream",
     "text": [
      "ॸ\n"
     ]
    }
   ],
   "source": [
    "print(get_random_letter1())"
   ]
  },
  {
   "cell_type": "code",
   "execution_count": 18,
   "metadata": {},
   "outputs": [],
   "source": [
    "def get_random_letter2():\n",
    "    import random\n",
    "    code= random.randint(0x4e00,0x9fff)\n",
    "    return chr(code)"
   ]
  },
  {
   "cell_type": "code",
   "execution_count": 21,
   "metadata": {},
   "outputs": [
    {
     "name": "stdout",
     "output_type": "stream",
     "text": [
      "遐\n"
     ]
    }
   ],
   "source": [
    "print(get_random_letter2())"
   ]
  },
  {
   "cell_type": "code",
   "execution_count": null,
   "metadata": {},
   "outputs": [],
   "source": [
    "get_random_letter()+"
   ]
  },
  {
   "cell_type": "code",
   "execution_count": 14,
   "metadata": {},
   "outputs": [],
   "source": [
    "def simple_interest(p,r,t):\n",
    "    return p*r*t/100"
   ]
  },
  {
   "cell_type": "code",
   "execution_count": 15,
   "metadata": {},
   "outputs": [
    {
     "name": "stdout",
     "output_type": "stream",
     "text": [
      "10127.999999999998\n"
     ]
    }
   ],
   "source": [
    "ans=simple_interest(120000,2.11,4)\n",
    "print(ans)"
   ]
  },
  {
   "cell_type": "code",
   "execution_count": 16,
   "metadata": {},
   "outputs": [
    {
     "data": {
      "text/plain": [
       "23400.0"
      ]
     },
     "execution_count": 16,
     "metadata": {},
     "output_type": "execute_result"
    }
   ],
   "source": [
    "\n",
    "simple_interest(p=150000,r=1.56,t=10)"
   ]
  },
  {
   "cell_type": "code",
   "execution_count": 31,
   "metadata": {},
   "outputs": [
    {
     "data": {
      "text/plain": [
       "23400.0"
      ]
     },
     "execution_count": 31,
     "metadata": {},
     "output_type": "execute_result"
    }
   ],
   "source": [
    "simple_interest(p=150000,r=1.56,t=10)\n"
   ]
  },
  {
   "cell_type": "markdown",
   "metadata": {},
   "source": [
    "### Parametrized functions\n",
    "  - functions that accept parameters are called parameterized funcitons,\n",
    "  - there are 4 types of parameterized functions\n",
    "    - functions with 'required' parameters\n",
    "    - functions with 'default' parameters\n",
    "    - functions with 'variable' parameters/arguments\n",
    "    - functions with 'variable keyword arguments'\n",
    " "
   ]
  },
  {
   "cell_type": "code",
   "execution_count": 2,
   "metadata": {},
   "outputs": [],
   "source": [
    "def adder(a,b,c,d):\n",
    "    ans= a+b+c+d\n",
    "    return ans"
   ]
  },
  {
   "cell_type": "code",
   "execution_count": 4,
   "metadata": {},
   "outputs": [
    {
     "name": "stdout",
     "output_type": "stream",
     "text": [
      "36\n"
     ]
    }
   ],
   "source": [
    "x= adder(10,20,2,4) # all parameters are required\n",
    "print(x)"
   ]
  },
  {
   "cell_type": "code",
   "execution_count": 6,
   "metadata": {},
   "outputs": [],
   "source": [
    "def adderv2(a,b,c=1,d=1):  # c and d are optional parameters,since they have default values\n",
    "    return a+b+c+d\n"
   ]
  },
  {
   "cell_type": "code",
   "execution_count": 11,
   "metadata": {},
   "outputs": [
    {
     "name": "stdout",
     "output_type": "stream",
     "text": [
      "70\n",
      "51\n",
      "32\n",
      "131\n"
     ]
    }
   ],
   "source": [
    "print(adderv2(10,10,20,30))\n",
    "print(adderv2(10,20,20))\n",
    "print(adderv2(10,20))\n",
    "print(adderv2(10,20,c=100))"
   ]
  },
  {
   "cell_type": "code",
   "execution_count": 32,
   "metadata": {},
   "outputs": [],
   "source": [
    "def savefile(content,filename='output.txt',dont_change=False):\n",
    "    import os\n",
    "    if dont_change and os.path.exists(filename): \n",
    "        return 'file already exists'\n",
    "    else:\n",
    "        with open(filename,'w') as f:\n",
    "            f.write(content)\n",
    "        return 'file saved'"
   ]
  },
  {
   "cell_type": "code",
   "execution_count": 33,
   "metadata": {},
   "outputs": [
    {
     "data": {
      "text/plain": [
       "'file saved'"
      ]
     },
     "execution_count": 33,
     "metadata": {},
     "output_type": "execute_result"
    }
   ],
   "source": [
    "c='''ye \n",
    "raha\n",
    "Content\n",
    "'''\n",
    "savefile(c)\n",
    "\n"
   ]
  },
  {
   "cell_type": "code",
   "execution_count": 23,
   "metadata": {},
   "outputs": [
    {
     "data": {
      "text/plain": [
       "'file saved'"
      ]
     },
     "execution_count": 23,
     "metadata": {},
     "output_type": "execute_result"
    }
   ],
   "source": [
    "c='''something else\n",
    "is here'''\n",
    "savefile(c)\n"
   ]
  },
  {
   "cell_type": "code",
   "execution_count": 25,
   "metadata": {},
   "outputs": [
    {
     "data": {
      "text/plain": [
       "'file already exists'"
      ]
     },
     "execution_count": 25,
     "metadata": {},
     "output_type": "execute_result"
    }
   ],
   "source": [
    "c='''another \n",
    "content here'''\n",
    "savefile(c,dont_change=True)\n"
   ]
  },
  {
   "cell_type": "code",
   "execution_count": 27,
   "metadata": {},
   "outputs": [
    {
     "data": {
      "text/plain": [
       "'file saved'"
      ]
     },
     "execution_count": 27,
     "metadata": {},
     "output_type": "execute_result"
    }
   ],
   "source": [
    "savefile(c,'output.csv')\n",
    "savefile(c,'output2.txt')"
   ]
  },
  {
   "cell_type": "code",
   "execution_count": 28,
   "metadata": {},
   "outputs": [
    {
     "data": {
      "text/plain": [
       "'file saved'"
      ]
     },
     "execution_count": 28,
     "metadata": {},
     "output_type": "execute_result"
    }
   ],
   "source": [
    "data='''\n",
    "biscuit 100\n",
    "chocolate 200\n",
    "milk 50\n",
    "clothes 500\n",
    "'''\n",
    "savefile(data,'budget.txt')"
   ]
  },
  {
   "cell_type": "code",
   "execution_count": 29,
   "metadata": {},
   "outputs": [
    {
     "data": {
      "text/plain": [
       "'file already exists'"
      ]
     },
     "execution_count": 29,
     "metadata": {},
     "output_type": "execute_result"
    }
   ],
   "source": [
    "data='''\n",
    "biscuit 400\n",
    "chocolate 1200\n",
    "milk 500\n",
    "clothes 1500\n",
    "'''\n",
    "savefile(data,'budget.txt',dont_change=True)"
   ]
  },
  {
   "cell_type": "code",
   "execution_count": 30,
   "metadata": {},
   "outputs": [],
   "source": [
    "def calc(a,b,o='+'):\n",
    "    if o=='+':\n",
    "        return a+b\n",
    "    elif o == '-':\n",
    "        return a-b\n",
    "    elif o=='*':\n",
    "        return a*b\n",
    "    elif o=='/':\n",
    "        return a/b\n",
    "    else:\n",
    "        return 'invalid operator use(+ - * /)'\n",
    "    "
   ]
  },
  {
   "cell_type": "code",
   "execution_count": 31,
   "metadata": {},
   "outputs": [
    {
     "name": "stdout",
     "output_type": "stream",
     "text": [
      "30\n",
      "200\n",
      "0.5\n",
      "-10\n"
     ]
    }
   ],
   "source": [
    "print(calc(10,20))\n",
    "print(calc(10,20,'*'))\n",
    "print(calc(10,20,'/'))\n",
    "print(calc(10,20,'-'))"
   ]
  },
  {
   "cell_type": "code",
   "execution_count": 34,
   "metadata": {},
   "outputs": [],
   "source": [
    "#variable arguments\n",
    "def adderv3(*numbers):\n",
    "    return sum(numbers)"
   ]
  },
  {
   "cell_type": "code",
   "execution_count": 37,
   "metadata": {},
   "outputs": [
    {
     "name": "stdout",
     "output_type": "stream",
     "text": [
      "1\n",
      "12\n",
      "10\n",
      "895\n"
     ]
    }
   ],
   "source": [
    "print(adderv3(1))\n",
    "print(adderv3(12))\n",
    "print(adderv3(1,2,3,4))\n",
    "print(adderv3(1,15,3,2,562,312))\n"
   ]
  },
  {
   "cell_type": "code",
   "execution_count": 40,
   "metadata": {},
   "outputs": [],
   "source": [
    "#avg\n",
    "def average(*num):\n",
    "    add=sum(num)\n",
    "    size=len(num)\n",
    "    avg=add/size\n",
    "    return avg\n"
   ]
  },
  {
   "cell_type": "code",
   "execution_count": 41,
   "metadata": {},
   "outputs": [
    {
     "name": "stdout",
     "output_type": "stream",
     "text": [
      "25.0\n"
     ]
    }
   ],
   "source": [
    "print(average(10,20,30,40))"
   ]
  },
  {
   "cell_type": "code",
   "execution_count": 44,
   "metadata": {},
   "outputs": [],
   "source": [
    "def names(**details):\n",
    "    for k,v in details.items():\n",
    "        print(f\"{k} is {v}\")"
   ]
  },
  {
   "cell_type": "code",
   "execution_count": 45,
   "metadata": {},
   "outputs": [
    {
     "name": "stdout",
     "output_type": "stream",
     "text": [
      "rahul is 29\n",
      "raj is 30\n",
      "ravi is 31\n"
     ]
    }
   ],
   "source": [
    "names(rahul=29,raj=30,ravi=31)"
   ]
  },
  {
   "cell_type": "code",
   "execution_count": 46,
   "metadata": {},
   "outputs": [
    {
     "name": "stdout",
     "output_type": "stream",
     "text": [
      "rahul is 29\n"
     ]
    }
   ],
   "source": [
    "names(rahul=29)"
   ]
  },
  {
   "cell_type": "code",
   "execution_count": 47,
   "metadata": {},
   "outputs": [
    {
     "name": "stdout",
     "output_type": "stream",
     "text": [
      "ajay is 29\n",
      "rahul is 29\n",
      "raj is 30\n",
      "ravi is 31\n",
      "sonu is 32\n"
     ]
    }
   ],
   "source": [
    "names(ajay=29,rahul=29,raj=30,ravi=31,sonu=32)"
   ]
  },
  {
   "cell_type": "code",
   "execution_count": 48,
   "metadata": {},
   "outputs": [],
   "source": [
    "f= lambda x: x+2*x\n",
    "g= lambda x,y:x**y + 10\n"
   ]
  },
  {
   "cell_type": "code",
   "execution_count": 49,
   "metadata": {},
   "outputs": [
    {
     "name": "stdout",
     "output_type": "stream",
     "text": [
      "140\n"
     ]
    }
   ],
   "source": [
    "print(f(10) + g(10,2))"
   ]
  },
  {
   "cell_type": "code",
   "execution_count": 50,
   "metadata": {},
   "outputs": [
    {
     "data": {
      "text/plain": [
       "<map at 0x250dfcdb490>"
      ]
     },
     "execution_count": 50,
     "metadata": {},
     "output_type": "execute_result"
    }
   ],
   "source": [
    "map(lambda x: x**2,[51,2,3,13,4,5])"
   ]
  },
  {
   "cell_type": "markdown",
   "metadata": {},
   "source": [
    "### Map- to apply same  operation on each element of iterable\n",
    "### filter- to apply a condition on each item of an iterabale &  give only those items that have true value"
   ]
  },
  {
   "cell_type": "code",
   "execution_count": 2,
   "metadata": {},
   "outputs": [
    {
     "name": "stdout",
     "output_type": "stream",
     "text": [
      "{3, 4, 5, 6, 7, 8, 9}\n"
     ]
    }
   ],
   "source": [
    "x=[1,2,3,4,5,6,7]    #map old iterable= new iterable\n",
    "y={i+2 for i in x}\n",
    "print(y)"
   ]
  },
  {
   "cell_type": "code",
   "execution_count": 4,
   "metadata": {},
   "outputs": [
    {
     "name": "stdout",
     "output_type": "stream",
     "text": [
      "[1, 23, 12, 31, 2, 3, 12, 3, 12, 31, 2]\n",
      "[3, 25, 14, 33, 4, 5, 14, 5, 14, 33, 4]\n"
     ]
    }
   ],
   "source": [
    "### list(map(func, iterable))\n",
    "x=[1,23,12,31,2,3,12,3,12,31,2]\n",
    "xnew=list(map(lambda i:i+2,x))\n",
    "print(x)\n",
    "print(xnew)\n"
   ]
  },
  {
   "cell_type": "markdown",
   "metadata": {},
   "source": []
  },
  {
   "cell_type": "code",
   "execution_count": 7,
   "metadata": {},
   "outputs": [
    {
     "name": "stdout",
     "output_type": "stream",
     "text": [
      "[4, 7, 15, 23]\n"
     ]
    }
   ],
   "source": [
    "a=[1,2,5,11]\n",
    "b=[3,5,10,12]\n",
    "add=list(map(lambda i,j:i+j,a,b))\n",
    "print(add)\n"
   ]
  },
  {
   "cell_type": "code",
   "execution_count": 9,
   "metadata": {},
   "outputs": [
    {
     "name": "stdout",
     "output_type": "stream",
     "text": [
      "[4, 7, 15, 23]\n"
     ]
    }
   ],
   "source": [
    "a=[1,2,5,11] #comprehension\n",
    "b=[3,5,10,12]\n",
    "c=[i+j for i,j in zip(a,b)]\n",
    "print(c)"
   ]
  },
  {
   "cell_type": "code",
   "execution_count": 12,
   "metadata": {},
   "outputs": [
    {
     "name": "stdout",
     "output_type": "stream",
     "text": [
      "1,2,3,4,5 <class 'str'>\n",
      "[1, 2, 3, 4, 5] <class 'list'>\n"
     ]
    }
   ],
   "source": [
    "num= input('Enter numbers sep with comma:')\n",
    "print(num,type(num))\n",
    "num=list(map(int,num.split(',')))\n",
    "print(num,type(num))"
   ]
  },
  {
   "cell_type": "code",
   "execution_count": 22,
   "metadata": {},
   "outputs": [],
   "source": [
    "names=[                    # create a list with firstname in case lower only\n",
    "    'clark kent',\n",
    "    'bruce wayne',\n",
    "    'hal jordan',\n",
    "]\n"
   ]
  },
  {
   "cell_type": "code",
   "execution_count": 23,
   "metadata": {},
   "outputs": [
    {
     "name": "stdout",
     "output_type": "stream",
     "text": [
      "['clark', 'bruce', 'hal']\n"
     ]
    }
   ],
   "source": [
    "fnames=list(map(lambda i:i.split()[0].lower(),names))\n",
    "print(fnames)"
   ]
  },
  {
   "cell_type": "code",
   "execution_count": 24,
   "metadata": {},
   "outputs": [
    {
     "name": "stdout",
     "output_type": "stream",
     "text": [
      "(13.0, 5.830951894845301, 2.8284271247461903)\n"
     ]
    }
   ],
   "source": [
    "data=[[12,5],[3,5],[2,2]]\n",
    "from math import hypot\n",
    "ans=tuple(map(lambda i: hypot(i[0],i[1]),data))\n",
    "print(ans)"
   ]
  },
  {
   "cell_type": "code",
   "execution_count": 25,
   "metadata": {},
   "outputs": [
    {
     "name": "stdout",
     "output_type": "stream",
     "text": [
      "['cba', 'fed', 'ihg']\n"
     ]
    }
   ],
   "source": [
    "def apna_func(value):\n",
    "    return value[::-1]\n",
    "\n",
    "data=['abc','def','ghi']\n",
    "rev_data = list(map(apna_func,data))\n",
    "print(rev_data)    "
   ]
  },
  {
   "cell_type": "code",
   "execution_count": 28,
   "metadata": {},
   "outputs": [
    {
     "data": {
      "text/plain": [
       "[1, 23, 12, 31, 2, 3, 12, 3, 12, 31, 2]"
      ]
     },
     "execution_count": 28,
     "metadata": {},
     "output_type": "execute_result"
    }
   ],
   "source": [
    "x"
   ]
  },
  {
   "cell_type": "code",
   "execution_count": 27,
   "metadata": {},
   "outputs": [
    {
     "data": {
      "text/plain": [
       "[23, 12, 31, 12, 12, 31]"
      ]
     },
     "execution_count": 27,
     "metadata": {},
     "output_type": "execute_result"
    }
   ],
   "source": [
    "list(filter(lambda i: i>10,x)) "
   ]
  },
  {
   "cell_type": "code",
   "execution_count": 29,
   "metadata": {},
   "outputs": [
    {
     "data": {
      "text/plain": [
       "['clark kent', 'bruce wayne', 'hal jordan']"
      ]
     },
     "execution_count": 29,
     "metadata": {},
     "output_type": "execute_result"
    }
   ],
   "source": [
    "names\n"
   ]
  },
  {
   "cell_type": "code",
   "execution_count": 30,
   "metadata": {},
   "outputs": [
    {
     "data": {
      "text/plain": [
       "['clark kent', 'bruce wayne']"
      ]
     },
     "execution_count": 30,
     "metadata": {},
     "output_type": "execute_result"
    }
   ],
   "source": [
    "list(filter(lambda i:\"e\" in i,names))"
   ]
  },
  {
   "cell_type": "code",
   "execution_count": null,
   "metadata": {},
   "outputs": [],
   "source": []
  }
 ],
 "metadata": {
  "kernelspec": {
   "display_name": "Python 3",
   "language": "python",
   "name": "python3"
  },
  "language_info": {
   "codemirror_mode": {
    "name": "ipython",
    "version": 3
   },
   "file_extension": ".py",
   "mimetype": "text/x-python",
   "name": "python",
   "nbconvert_exporter": "python",
   "pygments_lexer": "ipython3",
   "version": "3.11.5"
  }
 },
 "nbformat": 4,
 "nbformat_minor": 2
}
