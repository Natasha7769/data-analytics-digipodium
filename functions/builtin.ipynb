{
 "cells": [
  {
   "cell_type": "markdown",
   "metadata": {},
   "source": [
    "- builtin functions\n",
    "    - input()\n",
    "    - print()\n",
    "    - type()\n",
    "    - len()\n",
    "    - min()\n",
    "    - max()\n",
    "    - sum()\n",
    "    - abs()\n",
    "    - round()\n",
    "    - eval()\n",
    "    - isinstance()\n",
    "    - "
   ]
  },
  {
   "cell_type": "code",
   "execution_count": 1,
   "metadata": {},
   "outputs": [
    {
     "data": {
      "text/plain": [
       "True"
      ]
     },
     "execution_count": 1,
     "metadata": {},
     "output_type": "execute_result"
    }
   ],
   "source": [
    "x= 129.05\n",
    "isinstance(x,(int,float))\n"
   ]
  },
  {
   "cell_type": "code",
   "execution_count": 3,
   "metadata": {},
   "outputs": [
    {
     "data": {
      "text/plain": [
       "True"
      ]
     },
     "execution_count": 3,
     "metadata": {},
     "output_type": "execute_result"
    }
   ],
   "source": [
    "data =[1,2,3]\n",
    "isinstance(data,(list,set))"
   ]
  },
  {
   "cell_type": "code",
   "execution_count": 4,
   "metadata": {},
   "outputs": [
    {
     "data": {
      "text/plain": [
       "False"
      ]
     },
     "execution_count": 4,
     "metadata": {},
     "output_type": "execute_result"
    }
   ],
   "source": [
    "data =[1,2,3]\n",
    "isinstance(data,tuple)"
   ]
  },
  {
   "cell_type": "code",
   "execution_count": 6,
   "metadata": {},
   "outputs": [
    {
     "data": {
      "text/plain": [
       "10"
      ]
     },
     "execution_count": 6,
     "metadata": {},
     "output_type": "execute_result"
    }
   ],
   "source": [
    "abs(-10)"
   ]
  },
  {
   "cell_type": "code",
   "execution_count": 8,
   "metadata": {},
   "outputs": [
    {
     "name": "stdout",
     "output_type": "stream",
     "text": [
      "1.123456\n",
      "1\n",
      "1.12\n"
     ]
    }
   ],
   "source": [
    "a=1.123456\n",
    "print(a)\n",
    "print(round(a))\n",
    "print(round(a,2))"
   ]
  },
  {
   "cell_type": "code",
   "execution_count": 10,
   "metadata": {},
   "outputs": [
    {
     "name": "stdout",
     "output_type": "stream",
     "text": [
      "your equation is x+y\n",
      "13\n"
     ]
    }
   ],
   "source": [
    "x=10\n",
    "y=3\n",
    "expression=input('Enter your equation using x and y:')\n",
    "print('your equation is',expression)\n",
    "print(eval(expression))"
   ]
  },
  {
   "cell_type": "code",
   "execution_count": 13,
   "metadata": {},
   "outputs": [
    {
     "name": "stdout",
     "output_type": "stream",
     "text": [
      "True\n",
      "False\n",
      "False\n",
      "False\n",
      "False\n",
      "True\n",
      "True\n"
     ]
    }
   ],
   "source": [
    "x=[1,2,3,4,5,6]\n",
    "y=[1,2,3,4,5,0]\n",
    "z=[0,0,0,0,0,0]\n",
    "a=[0,0,0,0,0,1]\n",
    "print(all(x))\n",
    "print(all(y))\n",
    "print(all(z))\n",
    "print(all(z))\n",
    "print(any(z))\n",
    "print(any(a))\n",
    "print(any(x))\n"
   ]
  },
  {
   "cell_type": "code",
   "execution_count": 14,
   "metadata": {},
   "outputs": [
    {
     "name": "stdout",
     "output_type": "stream",
     "text": [
      "False False True True True\n"
     ]
    }
   ],
   "source": [
    "print(bool(0),bool(''),bool('asd'),bool(-1),bool(120))"
   ]
  },
  {
   "cell_type": "markdown",
   "metadata": {},
   "source": [
    "### file handling with open()\n",
    "- read\n",
    "- write\n",
    "- append"
   ]
  },
  {
   "cell_type": "code",
   "execution_count": 18,
   "metadata": {},
   "outputs": [
    {
     "name": "stdout",
     "output_type": "stream",
     "text": [
      "<_io.TextIOWrapper name='../dummy.txt' mode='r' encoding='cp1252'>\n"
     ]
    },
    {
     "data": {
      "text/plain": [
       "'this is a dummy file'"
      ]
     },
     "execution_count": 18,
     "metadata": {},
     "output_type": "execute_result"
    }
   ],
   "source": [
    "file = open('../dummy.txt')\n",
    "print(file)\n",
    "file.read()\n"
   ]
  },
  {
   "cell_type": "code",
   "execution_count": 20,
   "metadata": {},
   "outputs": [
    {
     "name": "stdout",
     "output_type": "stream",
     "text": [
      "this is a dummy file\n"
     ]
    }
   ],
   "source": [
    "with open('../dummy.txt') as file:\n",
    "    print(file.read())"
   ]
  },
  {
   "cell_type": "code",
   "execution_count": 21,
   "metadata": {},
   "outputs": [
    {
     "name": "stdout",
     "output_type": "stream",
     "text": [
      "{\n",
      " \"cells\": [\n",
      "  {\n",
      "   \"cell_type\": \"markdown\",\n",
      "   \"metadata\": {},\n",
      "   \"source\": [\n",
      "    \"- builtin functions\\n\",\n",
      "    \"    - input()\\n\",\n",
      "    \"    - print()\\n\",\n",
      "    \"    - type()\\n\",\n",
      "    \"    - len()\\n\",\n",
      "    \"    - min()\\n\",\n",
      "    \"    - max()\\n\",\n",
      "    \"    - sum()\\n\",\n",
      "    \"    - abs()\\n\",\n",
      "    \"    - round()\\n\",\n",
      "    \"    - eval()\\n\",\n",
      "    \"    - isinstance()\\n\",\n",
      "    \"    - \"\n",
      "   ]\n",
      "  },\n",
      "  {\n",
      "   \"cell_type\": \"code\",\n",
      "   \"execution_count\": 1,\n",
      "   \"metadata\": {},\n",
      "   \"outputs\": [\n",
      "    {\n",
      "     \"data\": {\n",
      "      \"text/plain\": [\n",
      "       \"True\"\n",
      "      ]\n",
      "     },\n",
      "     \"execution_count\": 1,\n",
      "     \"metadata\": {},\n",
      "     \"output_type\": \"execute_result\"\n",
      "    }\n",
      "   ],\n",
      "   \"source\": [\n",
      "    \"x= 129.05\\n\",\n",
      "    \"isinstance(x,(int,float))\\n\"\n",
      "   ]\n",
      "  },\n",
      "  {\n",
      "   \"cell_type\": \"code\",\n",
      "   \"execution_count\": 3,\n",
      "   \"metadata\": {},\n",
      "   \"outputs\": [\n",
      "    {\n",
      "     \"data\": {\n",
      "      \"text/plain\": [\n",
      "       \"True\"\n",
      "      ]\n",
      "     },\n",
      "     \"execution_count\": 3,\n",
      "     \"metadata\": {},\n",
      "     \"output_type\": \"execute_result\"\n",
      "    }\n",
      "   ],\n",
      "   \"source\": [\n",
      "    \"data =[1,2,3]\\n\",\n",
      "    \"isinstance(data,(list,set))\"\n",
      "   ]\n",
      "  },\n",
      "  {\n",
      "   \"cell_type\": \"code\",\n",
      "   \"execution_count\": 4,\n",
      "   \"metadata\": {},\n",
      "   \"outputs\": [\n",
      "    {\n",
      "     \"data\": {\n",
      "      \"text/plain\": [\n",
      "       \"False\"\n",
      "      ]\n",
      "     },\n",
      "     \"execution_count\": 4,\n",
      "     \"metadata\": {},\n",
      "     \"output_type\": \"execute_result\"\n",
      "    }\n",
      "   ],\n",
      "   \"source\": [\n",
      "    \"data =[1,2,3]\\n\",\n",
      "    \"isinstance(data,tuple)\"\n",
      "   ]\n",
      "  },\n",
      "  {\n",
      "   \"cell_type\": \"code\",\n",
      "   \"execution_count\": 6,\n",
      "   \"metadata\": {},\n",
      "   \"outputs\": [\n",
      "    {\n",
      "     \"data\": {\n",
      "      \"text/plain\": [\n",
      "       \"10\"\n",
      "      ]\n",
      "     },\n",
      "     \"execution_count\": 6,\n",
      "     \"metadata\": {},\n",
      "     \"output_type\": \"execute_result\"\n",
      "    }\n",
      "   ],\n",
      "   \"source\": [\n",
      "    \"abs(-10)\"\n",
      "   ]\n",
      "  },\n",
      "  {\n",
      "   \"cell_type\": \"code\",\n",
      "   \"execution_count\": 8,\n",
      "   \"metadata\": {},\n",
      "   \"outputs\": [\n",
      "    {\n",
      "     \"name\": \"stdout\",\n",
      "     \"output_type\": \"stream\",\n",
      "     \"text\": [\n",
      "      \"1.123456\\n\",\n",
      "      \"1\\n\",\n",
      "      \"1.12\\n\"\n",
      "     ]\n",
      "    }\n",
      "   ],\n",
      "   \"source\": [\n",
      "    \"a=1.123456\\n\",\n",
      "    \"print(a)\\n\",\n",
      "    \"print(round(a))\\n\",\n",
      "    \"print(round(a,2))\"\n",
      "   ]\n",
      "  },\n",
      "  {\n",
      "   \"cell_type\": \"code\",\n",
      "   \"execution_count\": 10,\n",
      "   \"metadata\": {},\n",
      "   \"outputs\": [\n",
      "    {\n",
      "     \"name\": \"stdout\",\n",
      "     \"output_type\": \"stream\",\n",
      "     \"text\": [\n",
      "      \"your equation is x+y\\n\",\n",
      "      \"13\\n\"\n",
      "     ]\n",
      "    }\n",
      "   ],\n",
      "   \"source\": [\n",
      "    \"x=10\\n\",\n",
      "    \"y=3\\n\",\n",
      "    \"expression=input('Enter your equation using x and y:')\\n\",\n",
      "    \"print('your equation is',expression)\\n\",\n",
      "    \"print(eval(expression))\"\n",
      "   ]\n",
      "  },\n",
      "  {\n",
      "   \"cell_type\": \"code\",\n",
      "   \"execution_count\": 13,\n",
      "   \"metadata\": {},\n",
      "   \"outputs\": [\n",
      "    {\n",
      "     \"name\": \"stdout\",\n",
      "     \"output_type\": \"stream\",\n",
      "     \"text\": [\n",
      "      \"True\\n\",\n",
      "      \"False\\n\",\n",
      "      \"False\\n\",\n",
      "      \"False\\n\",\n",
      "      \"False\\n\",\n",
      "      \"True\\n\",\n",
      "      \"True\\n\"\n",
      "     ]\n",
      "    }\n",
      "   ],\n",
      "   \"source\": [\n",
      "    \"x=[1,2,3,4,5,6]\\n\",\n",
      "    \"y=[1,2,3,4,5,0]\\n\",\n",
      "    \"z=[0,0,0,0,0,0]\\n\",\n",
      "    \"a=[0,0,0,0,0,1]\\n\",\n",
      "    \"print(all(x))\\n\",\n",
      "    \"print(all(y))\\n\",\n",
      "    \"print(all(z))\\n\",\n",
      "    \"print(all(z))\\n\",\n",
      "    \"print(any(z))\\n\",\n",
      "    \"print(any(a))\\n\",\n",
      "    \"print(any(x))\\n\"\n",
      "   ]\n",
      "  },\n",
      "  {\n",
      "   \"cell_type\": \"code\",\n",
      "   \"execution_count\": 14,\n",
      "   \"metadata\": {},\n",
      "   \"outputs\": [\n",
      "    {\n",
      "     \"name\": \"stdout\",\n",
      "     \"output_type\": \"stream\",\n",
      "     \"text\": [\n",
      "      \"False False True True True\\n\"\n",
      "     ]\n",
      "    }\n",
      "   ],\n",
      "   \"source\": [\n",
      "    \"print(bool(0),bool(''),bool('asd'),bool(-1),bool(120))\"\n",
      "   ]\n",
      "  },\n",
      "  {\n",
      "   \"cell_type\": \"markdown\",\n",
      "   \"metadata\": {},\n",
      "   \"source\": [\n",
      "    \"### file handling with open()\\n\",\n",
      "    \"- read\\n\",\n",
      "    \"- write\\n\",\n",
      "    \"- append\"\n",
      "   ]\n",
      "  },\n",
      "  {\n",
      "   \"cell_type\": \"code\",\n",
      "   \"execution_count\": 18,\n",
      "   \"metadata\": {},\n",
      "   \"outputs\": [\n",
      "    {\n",
      "     \"name\": \"stdout\",\n",
      "     \"output_type\": \"stream\",\n",
      "     \"text\": [\n",
      "      \"<_io.TextIOWrapper name='../dummy.txt' mode='r' encoding='cp1252'>\\n\"\n",
      "     ]\n",
      "    },\n",
      "    {\n",
      "     \"data\": {\n",
      "      \"text/plain\": [\n",
      "       \"'this is a dummy file'\"\n",
      "      ]\n",
      "     },\n",
      "     \"execution_count\": 18,\n",
      "     \"metadata\": {},\n",
      "     \"output_type\": \"execute_result\"\n",
      "    }\n",
      "   ],\n",
      "   \"source\": [\n",
      "    \"file = open('../dummy.txt')\\n\",\n",
      "    \"print(file)\\n\",\n",
      "    \"file.read()\\n\"\n",
      "   ]\n",
      "  },\n",
      "  {\n",
      "   \"cell_type\": \"code\",\n",
      "   \"execution_count\": 20,\n",
      "   \"metadata\": {},\n",
      "   \"outputs\": [\n",
      "    {\n",
      "     \"name\": \"stdout\",\n",
      "     \"output_type\": \"stream\",\n",
      "     \"text\": [\n",
      "      \"this is a dummy file\\n\"\n",
      "     ]\n",
      "    }\n",
      "   ],\n",
      "   \"source\": [\n",
      "    \"with open('../dummy.txt') as file:\\n\",\n",
      "    \"    print(file.read())\"\n",
      "   ]\n",
      "  },\n",
      "  {\n",
      "   \"cell_type\": \"code\",\n",
      "   \"execution_count\": null,\n",
      "   \"metadata\": {},\n",
      "   \"outputs\": [],\n",
      "   \"source\": [\n",
      "    \"with open('builtin.ipynb') as file:\\n\",\n",
      "    \"    print(file.read())\"\n",
      "   ]\n",
      "  }\n",
      " ],\n",
      " \"metadata\": {\n",
      "  \"kernelspec\": {\n",
      "   \"display_name\": \"Python 3\",\n",
      "   \"language\": \"python\",\n",
      "   \"name\": \"python3\"\n",
      "  },\n",
      "  \"language_info\": {\n",
      "   \"codemirror_mode\": {\n",
      "    \"name\": \"ipython\",\n",
      "    \"version\": 3\n",
      "   },\n",
      "   \"file_extension\": \".py\",\n",
      "   \"mimetype\": \"text/x-python\",\n",
      "   \"name\": \"python\",\n",
      "   \"nbconvert_exporter\": \"python\",\n",
      "   \"pygments_lexer\": \"ipython3\",\n",
      "   \"version\": \"3.11.5\"\n",
      "  }\n",
      " },\n",
      " \"nbformat\": 4,\n",
      " \"nbformat_minor\": 2\n",
      "}\n",
      "\n"
     ]
    }
   ],
   "source": [
    "with open('builtin.ipynb') as file:\n",
    "    print(file.read())"
   ]
  },
  {
   "cell_type": "code",
   "execution_count": 22,
   "metadata": {},
   "outputs": [
    {
     "name": "stdout",
     "output_type": "stream",
     "text": [
      "['this', 'is', 'a', 'dummy', 'file']\n"
     ]
    }
   ],
   "source": [
    "with open('../dummy.txt') as file:\n",
    "    content= file.read()\n",
    "print(content.split())"
   ]
  },
  {
   "cell_type": "code",
   "execution_count": 24,
   "metadata": {},
   "outputs": [
    {
     "name": "stdout",
     "output_type": "stream",
     "text": [
      ",ksndklvnsld\n"
     ]
    }
   ],
   "source": [
    "path = 'C:\\\\Users\\\\Natasha\\\\Desktop\\\\abcd.txt'\n",
    "with open (path) as f:\n",
    "    print(f.read())"
   ]
  },
  {
   "cell_type": "code",
   "execution_count": 25,
   "metadata": {},
   "outputs": [
    {
     "name": "stdout",
     "output_type": "stream",
     "text": [
      ",ksndklvnsld\n"
     ]
    }
   ],
   "source": [
    "path = 'C:/Users/Natasha/Desktop/abcd.txt'\n",
    "with open (path) as f:\n",
    "    print(f.read())"
   ]
  },
  {
   "cell_type": "code",
   "execution_count": null,
   "metadata": {},
   "outputs": [],
   "source": [
    "path = 'C:\\\\Users\\\\Natasha\\\\Desktop\\\\abcd.txt'\n",
    "with open (path) as f:\n",
    "    print(f.read())"
   ]
  },
  {
   "cell_type": "code",
   "execution_count": 26,
   "metadata": {},
   "outputs": [
    {
     "data": {
      "text/plain": [
       "690"
      ]
     },
     "execution_count": 26,
     "metadata": {},
     "output_type": "execute_result"
    }
   ],
   "source": [
    "x=[12,13,1,632,32]\n",
    "max(x)\n",
    "min(x)\n",
    "sum(x)"
   ]
  },
  {
   "cell_type": "code",
   "execution_count": 27,
   "metadata": {},
   "outputs": [],
   "source": [
    "meri_kahani='''Once upon a time\n",
    "thera was a person,\n",
    "to be continued...\n",
    "'''\n",
    "with open('kanani.txt','w') as f:\n",
    "    f.write(meri_kahani)"
   ]
  },
  {
   "cell_type": "code",
   "execution_count": 30,
   "metadata": {},
   "outputs": [
    {
     "name": "stdout",
     "output_type": "stream",
     "text": [
      "file saved\n"
     ]
    }
   ],
   "source": [
    "dusri_kahani ='''Ek samay ki baat hai,\n",
    "bahut dur desh me, ek pahad tha,jahan par\n",
    "pahtar the'''\n",
    "addr=r'C:\\Users\\Natasha\\Desktop\\dusri_kahani.txt'\n",
    "with open(addr,'w') as f:\n",
    "    f.write(dusri_kahani)\n",
    "    print('file saved')"
   ]
  },
  {
   "cell_type": "code",
   "execution_count": 34,
   "metadata": {},
   "outputs": [
    {
     "name": "stdout",
     "output_type": "stream",
     "text": [
      "file saved\n"
     ]
    }
   ],
   "source": [
    "user_ka_data= input('Enter your story:')\n",
    "addr=r'C:\\Users\\Natasha\\Desktop\\dusri_kahani.txt'\n",
    "with open(addr,'a') as f:\n",
    "    f.write('\\n'+user_ka_data)\n",
    "    print('file saved')\n"
   ]
  },
  {
   "cell_type": "code",
   "execution_count": 35,
   "metadata": {},
   "outputs": [
    {
     "name": "stdout",
     "output_type": "stream",
     "text": [
      "Ek samay ki baat hai,\n",
      "bahut dur desh me, ek pahad tha,jahan par\n",
      "pahtar the\n",
      "Ek samay ki baat hai,\n",
      "bahut dur desh me, ek pahad tha,jahan par\n",
      "pahtar the\n",
      "my name is natasha\n"
     ]
    }
   ],
   "source": [
    "with open(addr) as f:\n",
    "    print(f.read())"
   ]
  },
  {
   "cell_type": "code",
   "execution_count": null,
   "metadata": {},
   "outputs": [],
   "source": []
  }
 ],
 "metadata": {
  "kernelspec": {
   "display_name": "Python 3",
   "language": "python",
   "name": "python3"
  },
  "language_info": {
   "codemirror_mode": {
    "name": "ipython",
    "version": 3
   },
   "file_extension": ".py",
   "mimetype": "text/x-python",
   "name": "python",
   "nbconvert_exporter": "python",
   "pygments_lexer": "ipython3",
   "version": "3.11.5"
  }
 },
 "nbformat": 4,
 "nbformat_minor": 2
}
