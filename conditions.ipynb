{
 "cells": [
  {
   "cell_type": "markdown",
   "metadata": {},
   "source": [
    "### conditions\n",
    "- if condition\n",
    "- if-else condition\n",
    "- if-elif- else ladder\n",
    "- nested conditions\n",
    "- match case\n",
    "\n",
    "### condtional operators\n",
    "  '>,<,>=,<=,==,!='\n",
    "### logical opreators\n",
    "  'and or not'"
   ]
  },
  {
   "cell_type": "code",
   "execution_count": 1,
   "metadata": {},
   "outputs": [
    {
     "name": "stdout",
     "output_type": "stream",
     "text": [
      "yes\n",
      "hello\n",
      "end\n"
     ]
    }
   ],
   "source": [
    "x = 10\n",
    "if x > 5:\n",
    "    print('yes')\n",
    "    print('hello')\n",
    "print('end')    "
   ]
  },
  {
   "cell_type": "code",
   "execution_count": 6,
   "metadata": {},
   "outputs": [
    {
     "name": "stdout",
     "output_type": "stream",
     "text": [
      "simple interest :200.0\n"
     ]
    }
   ],
   "source": [
    "principle= int(input(\"Enter principle: \"))\n",
    "rate = int(input(\"Enter rate: \"))\n",
    "time = int(input(\"Enter time: \" ))\n",
    "si= (principle*rate*time)/100\n",
    "print(f'simple interest :{si}')"
   ]
  },
  {
   "cell_type": "code",
   "execution_count": null,
   "metadata": {},
   "outputs": [],
   "source": [
    "p= int(input(\"Enter principle: \"))\n",
    "r = int(input(\"Enter rate: \"))\n",
    "if p>=15000:\n",
    "    r=3\n",
    "else:\n",
    "    r=4\n",
    "        "
   ]
  }
 ],
 "metadata": {
  "kernelspec": {
   "display_name": "Python 3",
   "language": "python",
   "name": "python3"
  },
  "language_info": {
   "codemirror_mode": {
    "name": "ipython",
    "version": 3
   },
   "file_extension": ".py",
   "mimetype": "text/x-python",
   "name": "python",
   "nbconvert_exporter": "python",
   "pygments_lexer": "ipython3",
   "version": "3.11.5"
  }
 },
 "nbformat": 4,
 "nbformat_minor": 2
}
