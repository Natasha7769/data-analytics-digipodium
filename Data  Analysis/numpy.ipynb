{
 "cells": [
  {
   "cell_type": "code",
   "execution_count": 1,
   "metadata": {},
   "outputs": [],
   "source": [
    "import numpy as  np"
   ]
  },
  {
   "cell_type": "code",
   "execution_count": 2,
   "metadata": {},
   "outputs": [
    {
     "name": "stdout",
     "output_type": "stream",
     "text": [
      "[ 0  1  2  3  4  5  6  7  8  9 10 11 12 13 14]\n",
      "[[ 0  1  2  3  4]\n",
      " [ 5  6  7  8  9]\n",
      " [10 11 12 13 14]]\n"
     ]
    }
   ],
   "source": [
    "# creating array with arange function of numpy\n",
    "a= np.arange(15) #single dimensional\n",
    "print(a)\n",
    "a= np.arange(15).reshape(3,5) #multidimentional array\n",
    "print(a)"
   ]
  },
  {
   "cell_type": "markdown",
   "metadata": {},
   "source": [
    "## Numpy array properties"
   ]
  },
  {
   "cell_type": "code",
   "execution_count": 3,
   "metadata": {},
   "outputs": [
    {
     "data": {
      "text/plain": [
       "15"
      ]
     },
     "execution_count": 3,
     "metadata": {},
     "output_type": "execute_result"
    }
   ],
   "source": [
    "# size of array\n",
    "a.size"
   ]
  },
  {
   "cell_type": "code",
   "execution_count": 4,
   "metadata": {},
   "outputs": [
    {
     "data": {
      "text/plain": [
       "2"
      ]
     },
     "execution_count": 4,
     "metadata": {},
     "output_type": "execute_result"
    }
   ],
   "source": [
    "# dimensions of array\n",
    "a.ndim"
   ]
  },
  {
   "cell_type": "code",
   "execution_count": 6,
   "metadata": {},
   "outputs": [
    {
     "name": "stdout",
     "output_type": "stream",
     "text": [
      "[1 3 4 5 6]\n"
     ]
    }
   ],
   "source": [
    "x=np.array([1,3,4,5,6])\n",
    "print(x)"
   ]
  },
  {
   "cell_type": "code",
   "execution_count": 7,
   "metadata": {},
   "outputs": [
    {
     "name": "stdout",
     "output_type": "stream",
     "text": [
      "[[1 2 3]\n",
      " [2 3 4]]\n"
     ]
    }
   ],
   "source": [
    "y= np.array([[1,2,3],[2,3,4]])\n",
    "print(y)"
   ]
  },
  {
   "cell_type": "code",
   "execution_count": 9,
   "metadata": {},
   "outputs": [
    {
     "name": "stdout",
     "output_type": "stream",
     "text": [
      "shape (5,)\n",
      "num of dimension: 1\n",
      "type of data: int32\n",
      "Y\n",
      "shape: (2, 3)\n",
      "num of dimensions: 2\n",
      "type of data: int32\n"
     ]
    }
   ],
   "source": [
    "print('shape',x.shape)\n",
    "print('num of dimension:',x.ndim)\n",
    "print('type of data:',x.dtype)\n",
    "print('Y')\n",
    "print('shape:',y.shape)\n",
    "print('num of dimensions:',y.ndim)\n",
    "print('type of data:',y.dtype)"
   ]
  },
  {
   "cell_type": "markdown",
   "metadata": {},
   "source": [
    "- arange\n",
    "- linspace\n",
    "- random.*\n",
    "- eye\n",
    "- ones\n",
    "- zeros\n"
   ]
  },
  {
   "cell_type": "code",
   "execution_count": 12,
   "metadata": {},
   "outputs": [
    {
     "name": "stdout",
     "output_type": "stream",
     "text": [
      "[-10.    -8.75  -7.5   -6.25  -5.    -3.75  -2.5   -1.25   0.     1.25\n",
      "   2.5    3.75   5.     6.25   7.5    8.75]\n"
     ]
    }
   ],
   "source": [
    "a= np.arange(-10,10,1.25) #last value excluded\n",
    "print(a)"
   ]
  },
  {
   "cell_type": "code",
   "execution_count": 13,
   "metadata": {},
   "outputs": [
    {
     "name": "stdout",
     "output_type": "stream",
     "text": [
      "[0.         0.11111111 0.22222222 0.33333333 0.44444444 0.55555556\n",
      " 0.66666667 0.77777778 0.88888889 1.        ]\n"
     ]
    }
   ],
   "source": [
    "b= np.linspace(0,1,10) #last value included\n",
    "print(b)"
   ]
  },
  {
   "cell_type": "code",
   "execution_count": 17,
   "metadata": {},
   "outputs": [
    {
     "data": {
      "text/plain": [
       "array([[0.54316737, 0.53228784, 0.7722473 ],\n",
       "       [0.75536363, 0.48996587, 0.61281138],\n",
       "       [0.11486366, 0.80346745, 0.437965  ]])"
      ]
     },
     "execution_count": 17,
     "metadata": {},
     "output_type": "execute_result"
    }
   ],
   "source": [
    "np.random.random((3,3)) #random values b/w zero to one"
   ]
  },
  {
   "cell_type": "code",
   "execution_count": 16,
   "metadata": {},
   "outputs": [
    {
     "data": {
      "text/plain": [
       "array([[957, 863, 947],\n",
       "       [675, 857, 354],\n",
       "       [115, 644, 114]])"
      ]
     },
     "execution_count": 16,
     "metadata": {},
     "output_type": "execute_result"
    }
   ],
   "source": [
    "np.random.randint(1,1000,(3,3)) # random values b/w start and end"
   ]
  },
  {
   "cell_type": "code",
   "execution_count": 18,
   "metadata": {},
   "outputs": [
    {
     "data": {
      "text/plain": [
       "array([[1, 1, 1, 1, 1],\n",
       "       [1, 1, 1, 1, 1],\n",
       "       [1, 1, 1, 1, 1],\n",
       "       [1, 1, 1, 1, 1],\n",
       "       [1, 1, 1, 1, 1]])"
      ]
     },
     "execution_count": 18,
     "metadata": {},
     "output_type": "execute_result"
    }
   ],
   "source": [
    "np.eye(5,dtype=int) #identity matrix\n"
   ]
  },
  {
   "cell_type": "code",
   "execution_count": 21,
   "metadata": {},
   "outputs": [
    {
     "data": {
      "text/plain": [
       "array([[1, 1, 1, 1, 1],\n",
       "       [1, 1, 1, 1, 1],\n",
       "       [1, 1, 1, 1, 1],\n",
       "       [1, 1, 1, 1, 1],\n",
       "       [1, 1, 1, 1, 1]])"
      ]
     },
     "execution_count": 21,
     "metadata": {},
     "output_type": "execute_result"
    }
   ],
   "source": [
    "np.ones((5,5),dtype=int)"
   ]
  },
  {
   "cell_type": "code",
   "execution_count": 20,
   "metadata": {},
   "outputs": [
    {
     "data": {
      "text/plain": [
       "array([[0, 0, 0, 0, 0],\n",
       "       [0, 0, 0, 0, 0],\n",
       "       [0, 0, 0, 0, 0],\n",
       "       [0, 0, 0, 0, 0],\n",
       "       [0, 0, 0, 0, 0]])"
      ]
     },
     "execution_count": 20,
     "metadata": {},
     "output_type": "execute_result"
    }
   ],
   "source": [
    "np.zeros((5,5),dtype=int)"
   ]
  },
  {
   "cell_type": "markdown",
   "metadata": {},
   "source": [
    "# operations\n",
    "- arithmetic\n",
    "- statistical\n",
    "- trignometric\n",
    "- logical\n",
    "- slicing\n",
    "- filtering\n",
    "- sorting"
   ]
  },
  {
   "cell_type": "code",
   "execution_count": 22,
   "metadata": {},
   "outputs": [
    {
     "name": "stdout",
     "output_type": "stream",
     "text": [
      "[[14  3  9]\n",
      " [10 19 13]]\n",
      "[[ 4  6]\n",
      " [ 9 23]\n",
      " [ 1 24]]\n"
     ]
    }
   ],
   "source": [
    "x= np.random.randint(1,25,(2,3))\n",
    "y= np.random.randint(1,25,(3,2))\n",
    "print(x)\n",
    "print(y)"
   ]
  },
  {
   "cell_type": "code",
   "execution_count": 23,
   "metadata": {},
   "outputs": [
    {
     "data": {
      "text/plain": [
       "array([[ 4,  9,  1],\n",
       "       [ 6, 23, 24]])"
      ]
     },
     "execution_count": 23,
     "metadata": {},
     "output_type": "execute_result"
    }
   ],
   "source": [
    "y.T"
   ]
  },
  {
   "cell_type": "code",
   "execution_count": 24,
   "metadata": {},
   "outputs": [
    {
     "name": "stdout",
     "output_type": "stream",
     "text": [
      "x+y transposed\n",
      "[[18 12 10]\n",
      " [16 42 37]]\n",
      "x transposed + y\n",
      "[[18 16]\n",
      " [12 42]\n",
      " [10 37]]\n"
     ]
    }
   ],
   "source": [
    "print('x+y transposed')\n",
    "print(x + y.T)\n",
    "print('x transposed + y')\n",
    "print(x.T+y)"
   ]
  },
  {
   "cell_type": "code",
   "execution_count": 25,
   "metadata": {},
   "outputs": [
    {
     "name": "stdout",
     "output_type": "stream",
     "text": [
      "x+y transposed\n",
      "[[ 10  -6   8]\n",
      " [  4  -4 -11]]\n",
      "x transposed + y\n",
      "[[ 10   4]\n",
      " [ -6  -4]\n",
      " [  8 -11]]\n"
     ]
    }
   ],
   "source": [
    "print('x+y transposed')\n",
    "print(x - y.T)\n",
    "print('x transposed + y')\n",
    "print(x.T-y)"
   ]
  },
  {
   "cell_type": "code",
   "execution_count": 26,
   "metadata": {},
   "outputs": [
    {
     "name": "stdout",
     "output_type": "stream",
     "text": [
      "matix multiplication elemetwise\n",
      "[[ 56  27   9]\n",
      " [ 60 437 312]]\n",
      "matix multiplicaton\n",
      "[[ 92 369]\n",
      " [224 809]]\n"
     ]
    }
   ],
   "source": [
    "print('matix multiplication elemetwise')\n",
    "print(x * y.T)\n",
    "print('matix multiplicaton')\n",
    "print(x @ y)\n"
   ]
  },
  {
   "cell_type": "code",
   "execution_count": 27,
   "metadata": {},
   "outputs": [
    {
     "data": {
      "text/plain": [
       "array([[14,  3,  9, 14,  3,  9, 14,  3,  9, 14,  3,  9, 14,  3,  9],\n",
       "       [10, 19, 13, 10, 19, 13, 10, 19, 13, 10, 19, 13, 10, 19, 13]])"
      ]
     },
     "execution_count": 27,
     "metadata": {},
     "output_type": "execute_result"
    }
   ],
   "source": [
    "np.hstack((x,x,x,x,x))"
   ]
  },
  {
   "cell_type": "code",
   "execution_count": 28,
   "metadata": {},
   "outputs": [
    {
     "data": {
      "text/plain": [
       "array([[14,  3,  9, 14,  3,  9,  4,  9,  1],\n",
       "       [10, 19, 13, 10, 19, 13,  6, 23, 24]])"
      ]
     },
     "execution_count": 28,
     "metadata": {},
     "output_type": "execute_result"
    }
   ],
   "source": [
    "np.hstack((x,x,y.T))"
   ]
  },
  {
   "cell_type": "code",
   "execution_count": 30,
   "metadata": {},
   "outputs": [
    {
     "name": "stdout",
     "output_type": "stream",
     "text": [
      "[[14  3  9]\n",
      " [10 19 13]]\n",
      "sum of all elements: 68\n",
      "sum of all elements row wise: [26 42]\n",
      "sum of all elements col  wise: [24 22 22]\n",
      "average of all elements : [12. 11. 11.]\n",
      "median of all elements : 11.5\n",
      "min of all elements : 3\n",
      "max of all elements : 19\n",
      "std of all elements : 4.921607686744467\n",
      "variance of all elements : 24.222222222222225\n",
      "any item is non-zero True\n",
      "all item are non-zero True\n"
     ]
    }
   ],
   "source": [
    "print(x)\n",
    "print('sum of all elements:',x.sum())\n",
    "print('sum of all elements row wise:',x.sum(axis=1))\n",
    "print('sum of all elements col  wise:',x.sum(axis=0))\n",
    "print('average of all elements :',x.mean(axis=0))\n",
    "print('median of all elements :',np.median(x))\n",
    "print('min of all elements :',x.min())\n",
    "print('max of all elements :',x.max())\n",
    "print('std of all elements :',x.std())\n",
    "print('variance of all elements :',x.var())\n",
    "print('any item is non-zero',x.any())\n",
    "print('all item are non-zero',x.all())\n"
   ]
  },
  {
   "cell_type": "code",
   "execution_count": 31,
   "metadata": {},
   "outputs": [
    {
     "name": "stdout",
     "output_type": "stream",
     "text": [
      "3.141592653589793\n",
      "nan\n",
      "inf\n",
      "2.718281828459045\n"
     ]
    }
   ],
   "source": [
    "print(np.pi)\n",
    "print(np.nan)\n",
    "print(np.inf)\n",
    "print(np.e)"
   ]
  },
  {
   "cell_type": "code",
   "execution_count": 32,
   "metadata": {},
   "outputs": [
    {
     "name": "stdout",
     "output_type": "stream",
     "text": [
      "[[ 0.99060736  0.14112001  0.41211849]\n",
      " [-0.54402111  0.14987721  0.42016704]]\n",
      "[[ 0.13673722 -0.9899925  -0.91113026]\n",
      " [-0.83907153  0.98870462  0.90744678]]\n",
      "[[ 7.24460662 -0.14254654 -0.45231566]\n",
      " [ 0.64836083  0.15158947  0.46302113]]\n"
     ]
    }
   ],
   "source": [
    "print(np.sin(x))\n",
    "print(np.cos(x))\n",
    "print(np.tan(x))"
   ]
  },
  {
   "cell_type": "code",
   "execution_count": null,
   "metadata": {},
   "outputs": [],
   "source": []
  }
 ],
 "metadata": {
  "kernelspec": {
   "display_name": "base",
   "language": "python",
   "name": "python3"
  },
  "language_info": {
   "codemirror_mode": {
    "name": "ipython",
    "version": 3
   },
   "file_extension": ".py",
   "mimetype": "text/x-python",
   "name": "python",
   "nbconvert_exporter": "python",
   "pygments_lexer": "ipython3",
   "version": "3.11.5"
  }
 },
 "nbformat": 4,
 "nbformat_minor": 2
}
