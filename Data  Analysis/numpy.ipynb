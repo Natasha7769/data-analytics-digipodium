{
 "cells": [
  {
   "cell_type": "markdown",
   "metadata": {},
   "source": [
    "## Creating one dimensional array"
   ]
  },
  {
   "cell_type": "code",
   "execution_count": 2,
   "metadata": {},
   "outputs": [
    {
     "name": "stdout",
     "output_type": "stream",
     "text": [
      "[1 2 3 4 5]\n",
      "<class 'numpy.ndarray'>\n"
     ]
    }
   ],
   "source": [
    "import numpy as np\n",
    "a=[1,2,3,4,5]\n",
    "myarray=np.array(a)\n",
    "print(myarray)\n",
    "print(type(myarray))\n"
   ]
  },
  {
   "cell_type": "code",
   "execution_count": 3,
   "metadata": {},
   "outputs": [
    {
     "data": {
      "text/plain": [
       "array([1, 2, 3, 4, 5, 6])"
      ]
     },
     "execution_count": 3,
     "metadata": {},
     "output_type": "execute_result"
    }
   ],
   "source": [
    "import numpy as np\n",
    "arr=np.array([1,2,3,4,5,6])\n",
    "arr"
   ]
  },
  {
   "cell_type": "code",
   "execution_count": 4,
   "metadata": {},
   "outputs": [
    {
     "data": {
      "text/plain": [
       "array([1, 1, 2, 3, 4])"
      ]
     },
     "execution_count": 4,
     "metadata": {},
     "output_type": "execute_result"
    }
   ],
   "source": [
    "a=[]\n",
    "n=int(input('Enter size of array'))\n",
    "for i in range(n):\n",
    "    val=int(input('enter number'))\n",
    "    a.append(val)\n",
    "arr1=np.array(a)    \n",
    "arr1\n",
    "\n"
   ]
  },
  {
   "cell_type": "markdown",
   "metadata": {},
   "source": [
    "## Creating two dimensional array"
   ]
  },
  {
   "cell_type": "code",
   "execution_count": 5,
   "metadata": {},
   "outputs": [
    {
     "data": {
      "text/plain": [
       "array([[1, 2, 3],\n",
       "       [4, 5, 6],\n",
       "       [7, 8, 9]])"
      ]
     },
     "execution_count": 5,
     "metadata": {},
     "output_type": "execute_result"
    }
   ],
   "source": [
    "import numpy as np                         #a=[[1,2,3],[4,5,6],[7,8,9]]\n",
    "arr2=np.array([[1,2,3],[4,5,6],[7,8,9]])      #arr2=np.array(a)\n",
    "arr2                                          #arr2"
   ]
  },
  {
   "cell_type": "code",
   "execution_count": 6,
   "metadata": {},
   "outputs": [
    {
     "name": "stdout",
     "output_type": "stream",
     "text": [
      "Total dimensions- 2\n",
      "Shape of array- (3, 3)\n"
     ]
    }
   ],
   "source": [
    "# Printing dimension and shape of array\n",
    "print('Total dimensions-',arr2.ndim)\n",
    "print('Shape of array-',arr2.shape)"
   ]
  },
  {
   "cell_type": "code",
   "execution_count": 7,
   "metadata": {},
   "outputs": [],
   "source": [
    "import numpy as  np"
   ]
  },
  {
   "cell_type": "code",
   "execution_count": 8,
   "metadata": {},
   "outputs": [
    {
     "name": "stdout",
     "output_type": "stream",
     "text": [
      "[ 0  1  2  3  4  5  6  7  8  9 10 11 12 13 14]\n",
      "[[ 0  1  2  3  4]\n",
      " [ 5  6  7  8  9]\n",
      " [10 11 12 13 14]]\n"
     ]
    }
   ],
   "source": [
    "# creating array with arange function of numpy\n",
    "a= np.arange(15) #single dimensional\n",
    "print(a)\n",
    "a= np.arange(15).reshape(3,5) #multidimentional array\n",
    "print(a)"
   ]
  },
  {
   "cell_type": "markdown",
   "metadata": {},
   "source": [
    "## Numpy array properties"
   ]
  },
  {
   "cell_type": "code",
   "execution_count": 9,
   "metadata": {},
   "outputs": [
    {
     "data": {
      "text/plain": [
       "15"
      ]
     },
     "execution_count": 9,
     "metadata": {},
     "output_type": "execute_result"
    }
   ],
   "source": [
    "# size of array\n",
    "a.size"
   ]
  },
  {
   "cell_type": "code",
   "execution_count": 10,
   "metadata": {},
   "outputs": [
    {
     "data": {
      "text/plain": [
       "2"
      ]
     },
     "execution_count": 10,
     "metadata": {},
     "output_type": "execute_result"
    }
   ],
   "source": [
    "# dimensions of array\n",
    "a.ndim"
   ]
  },
  {
   "cell_type": "code",
   "execution_count": 11,
   "metadata": {},
   "outputs": [
    {
     "name": "stdout",
     "output_type": "stream",
     "text": [
      "[1 3 4 5 6]\n"
     ]
    }
   ],
   "source": [
    "x=np.array([1,3,4,5,6])\n",
    "print(x)"
   ]
  },
  {
   "cell_type": "code",
   "execution_count": 12,
   "metadata": {},
   "outputs": [
    {
     "name": "stdout",
     "output_type": "stream",
     "text": [
      "[[1 2 3]\n",
      " [2 3 4]]\n"
     ]
    }
   ],
   "source": [
    "y= np.array([[1,2,3],[2,3,4]])\n",
    "print(y)"
   ]
  },
  {
   "cell_type": "code",
   "execution_count": 13,
   "metadata": {},
   "outputs": [
    {
     "name": "stdout",
     "output_type": "stream",
     "text": [
      "shape (5,)\n",
      "num of dimension: 1\n",
      "type of data: int32\n",
      "Y\n",
      "shape: (2, 3)\n",
      "num of dimensions: 2\n",
      "type of data: int32\n"
     ]
    }
   ],
   "source": [
    "print('shape',x.shape)\n",
    "print('num of dimension:',x.ndim)\n",
    "print('type of data:',x.dtype)\n",
    "print('Y')\n",
    "print('shape:',y.shape)\n",
    "print('num of dimensions:',y.ndim)\n",
    "print('type of data:',y.dtype)"
   ]
  },
  {
   "cell_type": "markdown",
   "metadata": {},
   "source": [
    "## Functions of array\n",
    "- arange\n",
    "- linspace\n",
    "- random.*\n",
    "- eye\n",
    "- ones\n",
    "- zeros\n",
    "- diag\n",
    "- rand\n"
   ]
  },
  {
   "cell_type": "markdown",
   "metadata": {},
   "source": [
    "## arange()"
   ]
  },
  {
   "cell_type": "code",
   "execution_count": 14,
   "metadata": {},
   "outputs": [
    {
     "name": "stdout",
     "output_type": "stream",
     "text": [
      "[1 2 3 4 5 6 7 8 9]\n",
      "[0. 1. 2.]\n",
      "[1 3 5 7 9]\n",
      "[ 0.+0.j  1.+0.j  2.+0.j  3.+0.j  4.+0.j  5.+0.j  6.+0.j  7.+0.j  8.+0.j\n",
      "  9.+0.j 10.+0.j 11.+0.j 12.+0.j 13.+0.j 14.+0.j 15.+0.j 16.+0.j 17.+0.j\n",
      " 18.+0.j 19.+0.j]\n",
      "[1. 3. 5. 7. 9.]\n"
     ]
    }
   ],
   "source": [
    "print(np.arange(1,10))\n",
    "print(np.arange(3.0))\n",
    "print(np.arange(1,10,2))\n",
    "print(np.arange(20,dtype=complex))\n",
    "print(np.arange(1,10,2,dtype=float))    #(start,end,difference)"
   ]
  },
  {
   "cell_type": "code",
   "execution_count": 15,
   "metadata": {},
   "outputs": [
    {
     "name": "stdout",
     "output_type": "stream",
     "text": [
      "[-10.    -8.75  -7.5   -6.25  -5.    -3.75  -2.5   -1.25   0.     1.25\n",
      "   2.5    3.75   5.     6.25   7.5    8.75]\n"
     ]
    }
   ],
   "source": [
    "a= np.arange(-10,10,1.25) #last value excluded\n",
    "print(a)"
   ]
  },
  {
   "cell_type": "code",
   "execution_count": 16,
   "metadata": {},
   "outputs": [
    {
     "name": "stdout",
     "output_type": "stream",
     "text": [
      "[0.         0.11111111 0.22222222 0.33333333 0.44444444 0.55555556\n",
      " 0.66666667 0.77777778 0.88888889 1.        ]\n"
     ]
    }
   ],
   "source": [
    "b= np.linspace(0,1,10) #last value included/divide values equally\n",
    "print(b)"
   ]
  },
  {
   "cell_type": "code",
   "execution_count": 17,
   "metadata": {},
   "outputs": [
    {
     "data": {
      "text/plain": [
       "array([[0.14818137, 0.9748742 , 0.39191485],\n",
       "       [0.19908263, 0.49153632, 0.6742242 ],\n",
       "       [0.87666992, 0.397634  , 0.42508521]])"
      ]
     },
     "execution_count": 17,
     "metadata": {},
     "output_type": "execute_result"
    }
   ],
   "source": [
    "np.random.random((3,3)) #random values b/w zero to one"
   ]
  },
  {
   "cell_type": "markdown",
   "metadata": {},
   "source": [
    "## randint()- this function is used to generate a random number between a given range.\n",
    "- syntax is \n",
    "- rand(min,max,total_values)\n",
    "- eg. arr=np.random.randint(1,10,3)\n",
    "- output may be any 3 no. from 1 to 9\n"
   ]
  },
  {
   "cell_type": "code",
   "execution_count": 18,
   "metadata": {},
   "outputs": [
    {
     "data": {
      "text/plain": [
       "array([1, 4, 2, 3])"
      ]
     },
     "execution_count": 18,
     "metadata": {},
     "output_type": "execute_result"
    }
   ],
   "source": [
    "arr_4=np.random.randint(1,10,4)\n",
    "arr_4"
   ]
  },
  {
   "cell_type": "code",
   "execution_count": 19,
   "metadata": {},
   "outputs": [
    {
     "data": {
      "text/plain": [
       "array([[951, 486,  80],\n",
       "       [629,  55, 787],\n",
       "       [  1, 170,   1]])"
      ]
     },
     "execution_count": 19,
     "metadata": {},
     "output_type": "execute_result"
    }
   ],
   "source": [
    "np.random.randint(1,1000,(3,3)) # random values b/w start and end/last value not included"
   ]
  },
  {
   "cell_type": "markdown",
   "metadata": {},
   "source": [
    "## rand()\n",
    "- this function is used to generate a random values between 0 to 1.\n",
    "- syntax- rand(number_of_values)\n"
   ]
  },
  {
   "cell_type": "code",
   "execution_count": 20,
   "metadata": {},
   "outputs": [
    {
     "data": {
      "text/plain": [
       "array([0.54256373, 0.78766962, 0.49245593, 0.57205613, 0.13055965])"
      ]
     },
     "execution_count": 20,
     "metadata": {},
     "output_type": "execute_result"
    }
   ],
   "source": [
    "arr_5=np.random.rand(5)\n",
    "arr_5"
   ]
  },
  {
   "cell_type": "code",
   "execution_count": 21,
   "metadata": {},
   "outputs": [
    {
     "data": {
      "text/plain": [
       "array([[0.64038589, 0.79379329, 0.63266372],\n",
       "       [0.43134496, 0.66346329, 0.37995559]])"
      ]
     },
     "execution_count": 21,
     "metadata": {},
     "output_type": "execute_result"
    }
   ],
   "source": [
    "arr_5=np.random.rand(2,3)\n",
    "arr_5"
   ]
  },
  {
   "cell_type": "markdown",
   "metadata": {},
   "source": [
    "## randn()- this function is used to generate a random values close to 0.This may return positive or negative numbers as well.\n",
    "- syntax\n",
    "- rand.(number_of_values)\n",
    "- output may be any 5 numbers from centered to 0"
   ]
  },
  {
   "cell_type": "code",
   "execution_count": 22,
   "metadata": {},
   "outputs": [
    {
     "data": {
      "text/plain": [
       "array([-1.0355872 , -0.01929446, -0.7580268 , -0.99427522,  1.38328424])"
      ]
     },
     "execution_count": 22,
     "metadata": {},
     "output_type": "execute_result"
    }
   ],
   "source": [
    "arr_6=np.random.randn(5)\n",
    "arr_6"
   ]
  },
  {
   "cell_type": "code",
   "execution_count": 23,
   "metadata": {},
   "outputs": [
    {
     "data": {
      "text/plain": [
       "array([[ 2.58109037,  0.06751768,  0.88425547],\n",
       "       [-0.71206746,  0.12243041, -2.56188896],\n",
       "       [ 0.19055889,  0.95042655, -1.15293562]])"
      ]
     },
     "execution_count": 23,
     "metadata": {},
     "output_type": "execute_result"
    }
   ],
   "source": [
    "arr_6=np.random.randn(3,3)\n",
    "arr_6"
   ]
  },
  {
   "cell_type": "markdown",
   "metadata": {},
   "source": [
    "## eye()\n",
    "- This function creates an array with all the diagonal elements as 1 and rest as 0 (in a square matrix). In case of a non-square matrix the values are still 1 for diagonal (upto which it can draw diagonal) and rest are zero"
   ]
  },
  {
   "cell_type": "code",
   "execution_count": 24,
   "metadata": {},
   "outputs": [
    {
     "data": {
      "text/plain": [
       "array([[1., 0., 0.],\n",
       "       [0., 1., 0.],\n",
       "       [0., 0., 1.]])"
      ]
     },
     "execution_count": 24,
     "metadata": {},
     "output_type": "execute_result"
    }
   ],
   "source": [
    "arr_1=np.eye(3)\n",
    "arr_1"
   ]
  },
  {
   "cell_type": "code",
   "execution_count": 25,
   "metadata": {},
   "outputs": [
    {
     "data": {
      "text/plain": [
       "array([[1., 0., 0., 0., 0.],\n",
       "       [0., 1., 0., 0., 0.],\n",
       "       [0., 0., 1., 0., 0.]])"
      ]
     },
     "execution_count": 25,
     "metadata": {},
     "output_type": "execute_result"
    }
   ],
   "source": [
    "arr_1=np.eye(3,5)\n",
    "arr_1"
   ]
  },
  {
   "cell_type": "code",
   "execution_count": 26,
   "metadata": {},
   "outputs": [
    {
     "data": {
      "text/plain": [
       "array([[1, 0, 0, 0, 0],\n",
       "       [0, 1, 0, 0, 0],\n",
       "       [0, 0, 1, 0, 0],\n",
       "       [0, 0, 0, 1, 0],\n",
       "       [0, 0, 0, 0, 1]])"
      ]
     },
     "execution_count": 26,
     "metadata": {},
     "output_type": "execute_result"
    }
   ],
   "source": [
    "np.eye(5,dtype=int) #identity matrix"
   ]
  },
  {
   "cell_type": "markdown",
   "metadata": {},
   "source": [
    "## Ones()"
   ]
  },
  {
   "cell_type": "code",
   "execution_count": 27,
   "metadata": {},
   "outputs": [
    {
     "data": {
      "text/plain": [
       "array([1., 1., 1., 1.])"
      ]
     },
     "execution_count": 27,
     "metadata": {},
     "output_type": "execute_result"
    }
   ],
   "source": [
    "arr4=np.ones(4)\n",
    "arr4"
   ]
  },
  {
   "cell_type": "code",
   "execution_count": 28,
   "metadata": {},
   "outputs": [
    {
     "data": {
      "text/plain": [
       "array([[1., 1., 1., 1.],\n",
       "       [1., 1., 1., 1.]])"
      ]
     },
     "execution_count": 28,
     "metadata": {},
     "output_type": "execute_result"
    }
   ],
   "source": [
    "import numpy as np\n",
    "arr5=np.ones((2,4))\n",
    "arr5"
   ]
  },
  {
   "cell_type": "code",
   "execution_count": 29,
   "metadata": {},
   "outputs": [
    {
     "data": {
      "text/plain": [
       "array([[1, 1, 1, 1, 1],\n",
       "       [1, 1, 1, 1, 1],\n",
       "       [1, 1, 1, 1, 1],\n",
       "       [1, 1, 1, 1, 1],\n",
       "       [1, 1, 1, 1, 1]])"
      ]
     },
     "execution_count": 29,
     "metadata": {},
     "output_type": "execute_result"
    }
   ],
   "source": [
    "np.ones((5,5),dtype=int)"
   ]
  },
  {
   "cell_type": "markdown",
   "metadata": {},
   "source": [
    "## Zeros()"
   ]
  },
  {
   "cell_type": "code",
   "execution_count": 30,
   "metadata": {},
   "outputs": [
    {
     "data": {
      "text/plain": [
       "array([0., 0., 0., 0., 0.])"
      ]
     },
     "execution_count": 30,
     "metadata": {},
     "output_type": "execute_result"
    }
   ],
   "source": [
    "import numpy as np\n",
    "arr3=np.zeros(5)\n",
    "arr3"
   ]
  },
  {
   "cell_type": "code",
   "execution_count": 31,
   "metadata": {},
   "outputs": [
    {
     "data": {
      "text/plain": [
       "array([[0., 0., 0.],\n",
       "       [0., 0., 0.]])"
      ]
     },
     "execution_count": 31,
     "metadata": {},
     "output_type": "execute_result"
    }
   ],
   "source": [
    "import numpy as np\n",
    "arr3=np.zeros((2,3))\n",
    "arr3"
   ]
  },
  {
   "cell_type": "code",
   "execution_count": 32,
   "metadata": {},
   "outputs": [
    {
     "data": {
      "text/plain": [
       "array([[0, 0, 0, 0, 0],\n",
       "       [0, 0, 0, 0, 0],\n",
       "       [0, 0, 0, 0, 0],\n",
       "       [0, 0, 0, 0, 0],\n",
       "       [0, 0, 0, 0, 0]])"
      ]
     },
     "execution_count": 32,
     "metadata": {},
     "output_type": "execute_result"
    }
   ],
   "source": [
    "np.zeros((5,5),dtype=int)"
   ]
  },
  {
   "cell_type": "markdown",
   "metadata": {},
   "source": [
    "## diag()\n",
    "- This function creates a two dimensional array with all the diagonal elements as the given value and rest as 0 (in a square matrix)"
   ]
  },
  {
   "cell_type": "code",
   "execution_count": 33,
   "metadata": {},
   "outputs": [
    {
     "data": {
      "text/plain": [
       "array([[1, 0, 0, 0, 0],\n",
       "       [0, 2, 0, 0, 0],\n",
       "       [0, 0, 3, 0, 0],\n",
       "       [0, 0, 0, 5, 0],\n",
       "       [0, 0, 0, 0, 6]])"
      ]
     },
     "execution_count": 33,
     "metadata": {},
     "output_type": "execute_result"
    }
   ],
   "source": [
    "arr_2=np.diag([1,2,3,5,6])\n",
    "arr_2"
   ]
  },
  {
   "cell_type": "markdown",
   "metadata": {},
   "source": [
    "## To get the diagonal elements in a two dimensional array we use diag as a function"
   ]
  },
  {
   "cell_type": "code",
   "execution_count": 34,
   "metadata": {},
   "outputs": [
    {
     "name": "stdout",
     "output_type": "stream",
     "text": [
      "[[1 0 0 0]\n",
      " [0 2 0 0]\n",
      " [0 0 3 0]\n",
      " [0 0 0 4]]\n"
     ]
    },
    {
     "data": {
      "text/plain": [
       "array([1, 2, 3, 4])"
      ]
     },
     "execution_count": 34,
     "metadata": {},
     "output_type": "execute_result"
    }
   ],
   "source": [
    "arr_3=np.diag([1,2,3,4])\n",
    "print(arr_3)\n",
    "np.diag(arr_3)"
   ]
  },
  {
   "cell_type": "markdown",
   "metadata": {},
   "source": [
    "# operations\n",
    "- arithmetic\n",
    "- statistical\n",
    "- trignometric\n",
    "- logical\n",
    "- slicing\n",
    "- filtering\n",
    "- sorting"
   ]
  },
  {
   "cell_type": "code",
   "execution_count": 35,
   "metadata": {},
   "outputs": [
    {
     "name": "stdout",
     "output_type": "stream",
     "text": [
      "[[24 10  9]\n",
      " [21 13 17]]\n",
      "[[17  3]\n",
      " [ 2  7]\n",
      " [ 9 22]]\n"
     ]
    }
   ],
   "source": [
    "x= np.random.randint(1,25,(2,3))\n",
    "y= np.random.randint(1,25,(3,2))\n",
    "print(x)\n",
    "print(y)"
   ]
  },
  {
   "cell_type": "code",
   "execution_count": 36,
   "metadata": {},
   "outputs": [
    {
     "data": {
      "text/plain": [
       "array([[17,  2,  9],\n",
       "       [ 3,  7, 22]])"
      ]
     },
     "execution_count": 36,
     "metadata": {},
     "output_type": "execute_result"
    }
   ],
   "source": [
    "y.T"
   ]
  },
  {
   "cell_type": "code",
   "execution_count": 37,
   "metadata": {},
   "outputs": [
    {
     "name": "stdout",
     "output_type": "stream",
     "text": [
      "x+y transposed\n",
      "[[41 12 18]\n",
      " [24 20 39]]\n",
      "x transposed + y\n",
      "[[41 24]\n",
      " [12 20]\n",
      " [18 39]]\n"
     ]
    }
   ],
   "source": [
    "print('x+y transposed')\n",
    "print(x + y.T)\n",
    "print('x transposed + y')\n",
    "print(x.T+y)"
   ]
  },
  {
   "cell_type": "code",
   "execution_count": 38,
   "metadata": {},
   "outputs": [
    {
     "name": "stdout",
     "output_type": "stream",
     "text": [
      "x+y transposed\n",
      "[[ 7  8  0]\n",
      " [18  6 -5]]\n",
      "x transposed + y\n",
      "[[ 7 18]\n",
      " [ 8  6]\n",
      " [ 0 -5]]\n"
     ]
    }
   ],
   "source": [
    "print('x+y transposed')\n",
    "print(x - y.T)\n",
    "print('x transposed + y')\n",
    "print(x.T-y)"
   ]
  },
  {
   "cell_type": "code",
   "execution_count": 39,
   "metadata": {},
   "outputs": [
    {
     "name": "stdout",
     "output_type": "stream",
     "text": [
      "matix multiplication elemetwise\n",
      "[[408  20  81]\n",
      " [ 63  91 374]]\n",
      "matix multiplicaton\n",
      "[[509 340]\n",
      " [536 528]]\n"
     ]
    }
   ],
   "source": [
    "print('matix multiplication elemetwise')\n",
    "print(x * y.T)\n",
    "print('matix multiplicaton')\n",
    "print(x @ y)\n"
   ]
  },
  {
   "cell_type": "code",
   "execution_count": 40,
   "metadata": {},
   "outputs": [
    {
     "data": {
      "text/plain": [
       "array([[24, 10,  9, 24, 10,  9, 24, 10,  9, 24, 10,  9, 24, 10,  9],\n",
       "       [21, 13, 17, 21, 13, 17, 21, 13, 17, 21, 13, 17, 21, 13, 17]])"
      ]
     },
     "execution_count": 40,
     "metadata": {},
     "output_type": "execute_result"
    }
   ],
   "source": [
    "np.hstack((x,x,x,x,x))"
   ]
  },
  {
   "cell_type": "code",
   "execution_count": 41,
   "metadata": {},
   "outputs": [
    {
     "data": {
      "text/plain": [
       "array([[24, 10,  9, 24, 10,  9, 17,  2,  9],\n",
       "       [21, 13, 17, 21, 13, 17,  3,  7, 22]])"
      ]
     },
     "execution_count": 41,
     "metadata": {},
     "output_type": "execute_result"
    }
   ],
   "source": [
    "np.hstack((x,x,y.T))"
   ]
  },
  {
   "cell_type": "code",
   "execution_count": 42,
   "metadata": {},
   "outputs": [
    {
     "name": "stdout",
     "output_type": "stream",
     "text": [
      "[[24 10  9]\n",
      " [21 13 17]]\n",
      "sum of all elements: 94\n",
      "sum of all elements row wise: [43 51]\n",
      "sum of all elements col  wise: [45 23 26]\n",
      "average of all elements : [22.5 11.5 13. ]\n",
      "median of all elements : 15.0\n",
      "min of all elements : 9\n",
      "max of all elements : 24\n",
      "std of all elements : 5.527707983925667\n",
      "variance of all elements : 30.555555555555557\n",
      "any item is non-zero True\n",
      "all item are non-zero True\n"
     ]
    }
   ],
   "source": [
    "print(x)\n",
    "print('sum of all elements:',x.sum())\n",
    "print('sum of all elements row wise:',x.sum(axis=1))\n",
    "print('sum of all elements col  wise:',x.sum(axis=0))\n",
    "print('average of all elements :',x.mean(axis=0))\n",
    "print('median of all elements :',np.median(x))\n",
    "print('min of all elements :',x.min())\n",
    "print('max of all elements :',x.max())\n",
    "print('std of all elements :',x.std())\n",
    "print('variance of all elements :',x.var())\n",
    "print('any item is non-zero',x.any())\n",
    "print('all item are non-zero',x.all())\n"
   ]
  },
  {
   "cell_type": "code",
   "execution_count": 43,
   "metadata": {},
   "outputs": [
    {
     "name": "stdout",
     "output_type": "stream",
     "text": [
      "3.141592653589793\n",
      "nan\n",
      "inf\n",
      "2.718281828459045\n"
     ]
    }
   ],
   "source": [
    "print(np.pi)\n",
    "print(np.nan)\n",
    "print(np.inf)\n",
    "print(np.e)"
   ]
  },
  {
   "cell_type": "code",
   "execution_count": 44,
   "metadata": {},
   "outputs": [
    {
     "name": "stdout",
     "output_type": "stream",
     "text": [
      "[[-0.90557836 -0.54402111  0.41211849]\n",
      " [ 0.83665564  0.42016704 -0.96139749]]\n",
      "[[ 0.42417901 -0.83907153 -0.91113026]\n",
      " [-0.54772926  0.90744678 -0.27516334]]\n",
      "[[-2.1348967   0.64836083 -0.45231566]\n",
      " [-1.52749853  0.46302113  3.49391565]]\n"
     ]
    }
   ],
   "source": [
    "print(np.sin(x))\n",
    "print(np.cos(x))\n",
    "print(np.tan(x))"
   ]
  },
  {
   "cell_type": "markdown",
   "metadata": {},
   "source": [
    "## Filtering"
   ]
  },
  {
   "cell_type": "code",
   "execution_count": 45,
   "metadata": {},
   "outputs": [
    {
     "data": {
      "text/plain": [
       "array([[24, 10,  9],\n",
       "       [21, 13, 17]])"
      ]
     },
     "execution_count": 45,
     "metadata": {},
     "output_type": "execute_result"
    }
   ],
   "source": [
    "x"
   ]
  },
  {
   "cell_type": "code",
   "execution_count": 46,
   "metadata": {},
   "outputs": [
    {
     "data": {
      "text/plain": [
       "array([24, 10,  9, 21, 13, 17])"
      ]
     },
     "execution_count": 46,
     "metadata": {},
     "output_type": "execute_result"
    }
   ],
   "source": [
    "x[x>5]"
   ]
  },
  {
   "cell_type": "code",
   "execution_count": 47,
   "metadata": {},
   "outputs": [
    {
     "data": {
      "text/plain": [
       "array([[-3, -2, -2,  1, -1],\n",
       "       [ 2,  1, -1,  1,  2],\n",
       "       [ 0, -1,  2, -2, -3],\n",
       "       [ 2, -3, -2, -3,  2],\n",
       "       [-3, -1,  0, -2, -1]])"
      ]
     },
     "execution_count": 47,
     "metadata": {},
     "output_type": "execute_result"
    }
   ],
   "source": [
    "x=np.random.randint(-3,3,(5,5))\n",
    "x"
   ]
  },
  {
   "cell_type": "code",
   "execution_count": 48,
   "metadata": {},
   "outputs": [
    {
     "data": {
      "text/plain": [
       "array([ 1, -1,  1, -1,  1,  0, -1, -1,  0, -1])"
      ]
     },
     "execution_count": 48,
     "metadata": {},
     "output_type": "execute_result"
    }
   ],
   "source": [
    "x[(x>-2) & (x<2)]  #AND-&   #OR-|\n"
   ]
  },
  {
   "cell_type": "code",
   "execution_count": 49,
   "metadata": {},
   "outputs": [
    {
     "data": {
      "text/plain": [
       "array([[ 2,  1,  2,  0,  0],\n",
       "       [ 0, -1,  2,  0,  2],\n",
       "       [ 0, -2, -2,  0,  1],\n",
       "       [ 1, -2, -2, -3,  0],\n",
       "       [-2, -1, -2,  2, -1]])"
      ]
     },
     "execution_count": 49,
     "metadata": {},
     "output_type": "execute_result"
    }
   ],
   "source": [
    "x=np.random.randint(-3,3,(5,5))\n",
    "x\n"
   ]
  },
  {
   "cell_type": "markdown",
   "metadata": {},
   "source": [
    "### Indexing and Slicing\n",
    "- syntax for slicing in 1d: [start:stop:step]\n",
    "- syntax for slicing in 2d:[rstart : rstop : rstep, cstart : cstop : cstep]\n",
    "- axes 1 - row\n",
    "- axes 2- col"
   ]
  },
  {
   "cell_type": "markdown",
   "metadata": {},
   "source": [
    "## indexing in 1d array"
   ]
  },
  {
   "cell_type": "code",
   "execution_count": 50,
   "metadata": {},
   "outputs": [
    {
     "name": "stdout",
     "output_type": "stream",
     "text": [
      "[1 2 3 4]\n",
      "4\n",
      "3\n",
      "1\n"
     ]
    }
   ],
   "source": [
    "import numpy as np\n",
    "s=np.array([1,2,3,4])\n",
    "print(s)\n",
    "print(s[3])\n",
    "print(s[-2])\n",
    "print(s[0])"
   ]
  },
  {
   "cell_type": "markdown",
   "metadata": {},
   "source": [
    "## indexing in 2d array"
   ]
  },
  {
   "cell_type": "code",
   "execution_count": 51,
   "metadata": {},
   "outputs": [
    {
     "name": "stdout",
     "output_type": "stream",
     "text": [
      "[[-3 -2  2 -1  2]\n",
      " [ 2  1 -3 -2 -2]\n",
      " [ 0 -3 -3 -2 -1]\n",
      " [ 2 -1 -1  1  2]\n",
      " [ 2 -3 -3  0  2]]\n",
      "-3\n"
     ]
    }
   ],
   "source": [
    "x=np.random.randint(-3,3,(5,5))\n",
    "print(x)\n",
    "print(x[0,0])"
   ]
  },
  {
   "cell_type": "code",
   "execution_count": 52,
   "metadata": {},
   "outputs": [
    {
     "data": {
      "text/plain": [
       "1"
      ]
     },
     "execution_count": 52,
     "metadata": {},
     "output_type": "execute_result"
    }
   ],
   "source": [
    "x[3,3]"
   ]
  },
  {
   "cell_type": "code",
   "execution_count": 53,
   "metadata": {},
   "outputs": [
    {
     "data": {
      "text/plain": [
       "array([-3, -2,  2, -1,  2])"
      ]
     },
     "execution_count": 53,
     "metadata": {},
     "output_type": "execute_result"
    }
   ],
   "source": [
    "x[0]  #first row"
   ]
  },
  {
   "cell_type": "code",
   "execution_count": 54,
   "metadata": {},
   "outputs": [
    {
     "data": {
      "text/plain": [
       "array([ 2, -3, -3,  0,  2])"
      ]
     },
     "execution_count": 54,
     "metadata": {},
     "output_type": "execute_result"
    }
   ],
   "source": [
    "x[-1]  #last row"
   ]
  },
  {
   "cell_type": "markdown",
   "metadata": {},
   "source": [
    "## Slicing"
   ]
  },
  {
   "cell_type": "markdown",
   "metadata": {},
   "source": [
    "- syntax for slicing in 1d: [start : stop : step]   (inclusive,exclusive,difference)\n",
    "- syntax for slicing in 2d:[rstart : rstop : rstep, cstart : cstop : cstep]"
   ]
  },
  {
   "cell_type": "markdown",
   "metadata": {},
   "source": [
    "## slicing in 1d array"
   ]
  },
  {
   "cell_type": "code",
   "execution_count": 55,
   "metadata": {},
   "outputs": [
    {
     "name": "stdout",
     "output_type": "stream",
     "text": [
      "[2 3 4]\n",
      "[1 2 3 4 5]\n",
      "[2 4]\n",
      "[1 2 3]\n"
     ]
    }
   ],
   "source": [
    "a1=np.array([1,2,3,4,5])\n",
    "print(a1[1:4])\n",
    "print(a1[:])\n",
    "print(a1[1::2])\n",
    "print(a1[:3])\n",
    "\n"
   ]
  },
  {
   "cell_type": "markdown",
   "metadata": {},
   "source": [
    "## slicing in 2d array"
   ]
  },
  {
   "cell_type": "code",
   "execution_count": 69,
   "metadata": {},
   "outputs": [
    {
     "name": "stdout",
     "output_type": "stream",
     "text": [
      "[[-2  2  1  0 -2]\n",
      " [-2  0 -3 -2 -3]\n",
      " [ 0 -2 -2  0  2]\n",
      " [ 0  0  2  2 -3]\n",
      " [-1 -2 -2  0  1]]\n",
      "[-2  2  1]\n"
     ]
    }
   ],
   "source": [
    "x=np.random.randint(-3,3,(5,5))\n",
    "print(x)\n",
    "print(x[0,:3]) #first row first three elements"
   ]
  },
  {
   "cell_type": "code",
   "execution_count": 70,
   "metadata": {},
   "outputs": [
    {
     "name": "stdout",
     "output_type": "stream",
     "text": [
      "[-2 -2  0  2]\n"
     ]
    }
   ],
   "source": [
    "print(x[2,-4:])"
   ]
  },
  {
   "cell_type": "code",
   "execution_count": 71,
   "metadata": {},
   "outputs": [
    {
     "name": "stdout",
     "output_type": "stream",
     "text": [
      "[-2 -2  0  0 -1]\n",
      "[-2 -3  2 -3  1]\n",
      "[[-2  2]\n",
      " [-2  0]\n",
      " [ 0 -2]\n",
      " [ 0  0]\n",
      " [-1 -2]]\n",
      "[[ 2  0]\n",
      " [ 0 -2]\n",
      " [-2  0]\n",
      " [ 0  2]\n",
      " [-2  0]]\n",
      "[[ 1 -2  2  0]\n",
      " [-3 -3  0 -2]\n",
      " [-2  2 -2  0]\n",
      " [ 2 -3  0  2]\n",
      " [-2  1 -2  0]]\n"
     ]
    }
   ],
   "source": [
    "print(x[:,0]) # first col.                                    \n",
    "print(x[:,-1]) # last col.\n",
    "print(x[:,:2]) # first two col.\n",
    "print(x[:,[1,3]]) # first index and third index column  ##extract the elements in the odd-numbered columns of a 2D array.\n",
    "print(x[:,[2,4,1,3]]) #2,4,1,3 index column"
   ]
  },
  {
   "cell_type": "markdown",
   "metadata": {},
   "source": [
    "## extract the elements in the odd-numbered columns of a 2D array."
   ]
  },
  {
   "cell_type": "code",
   "execution_count": 72,
   "metadata": {},
   "outputs": [
    {
     "name": "stdout",
     "output_type": "stream",
     "text": [
      "[[44 40 51 85 63]\n",
      " [31 74  4 23 99]\n",
      " [80 96 35 57 38]\n",
      " [97 55 91 59 96]\n",
      " [22 35 47 51 96]]\n",
      "[[40 85]\n",
      " [74 23]\n",
      " [96 57]\n",
      " [55 59]\n",
      " [35 51]]\n"
     ]
    }
   ],
   "source": [
    "array = np.random.randint(1,100, (5, 5))\n",
    "print(array)\n",
    "print(array[:, 1::2])"
   ]
  },
  {
   "cell_type": "code",
   "execution_count": 59,
   "metadata": {},
   "outputs": [
    {
     "data": {
      "text/plain": [
       "array([[ 2,  0,  1,  1, -1],\n",
       "       [ 2, -2,  0,  2,  0],\n",
       "       [ 2,  1, -1, -1,  2],\n",
       "       [ 1, -2,  1, -3, -1],\n",
       "       [-1, -2,  0,  2, -1]])"
      ]
     },
     "execution_count": 59,
     "metadata": {},
     "output_type": "execute_result"
    }
   ],
   "source": [
    "x"
   ]
  },
  {
   "cell_type": "code",
   "execution_count": 60,
   "metadata": {},
   "outputs": [
    {
     "data": {
      "text/plain": [
       "array([[ 2,  2,  1],\n",
       "       [ 6, 50,  6],\n",
       "       [ 7,  7,  9]])"
      ]
     },
     "execution_count": 60,
     "metadata": {},
     "output_type": "execute_result"
    }
   ],
   "source": [
    "x=np.array([[2,2,1],[6,50,6],[7,7,9]])\n",
    "x"
   ]
  },
  {
   "cell_type": "code",
   "execution_count": 61,
   "metadata": {},
   "outputs": [
    {
     "data": {
      "text/plain": [
       "array([[ 1,  2,  2],\n",
       "       [ 6,  6, 50],\n",
       "       [ 7,  7,  9]])"
      ]
     },
     "execution_count": 61,
     "metadata": {},
     "output_type": "execute_result"
    }
   ],
   "source": [
    "x.sort(axis=1)\n",
    "x"
   ]
  },
  {
   "cell_type": "code",
   "execution_count": 62,
   "metadata": {},
   "outputs": [
    {
     "data": {
      "text/plain": [
       "array([[ 1,  2,  2],\n",
       "       [ 6,  6,  9],\n",
       "       [ 7,  7, 50]])"
      ]
     },
     "execution_count": 62,
     "metadata": {},
     "output_type": "execute_result"
    }
   ],
   "source": [
    "x.sort(axis=0)\n",
    "x"
   ]
  },
  {
   "cell_type": "code",
   "execution_count": 63,
   "metadata": {},
   "outputs": [
    {
     "data": {
      "text/plain": [
       "array([[ 1,  2,  2],\n",
       "       [ 6,  6,  9],\n",
       "       [ 7,  7, 50]])"
      ]
     },
     "execution_count": 63,
     "metadata": {},
     "output_type": "execute_result"
    }
   ],
   "source": [
    "x"
   ]
  },
  {
   "cell_type": "code",
   "execution_count": 64,
   "metadata": {},
   "outputs": [
    {
     "data": {
      "text/plain": [
       "50"
      ]
     },
     "execution_count": 64,
     "metadata": {},
     "output_type": "execute_result"
    }
   ],
   "source": [
    "x.max()"
   ]
  },
  {
   "cell_type": "code",
   "execution_count": 65,
   "metadata": {},
   "outputs": [
    {
     "data": {
      "text/plain": [
       "8"
      ]
     },
     "execution_count": 65,
     "metadata": {},
     "output_type": "execute_result"
    }
   ],
   "source": [
    "x.argmax()  #return index of min element"
   ]
  },
  {
   "cell_type": "code",
   "execution_count": 66,
   "metadata": {},
   "outputs": [
    {
     "data": {
      "text/plain": [
       "0"
      ]
     },
     "execution_count": 66,
     "metadata": {},
     "output_type": "execute_result"
    }
   ],
   "source": [
    "x.argmin()   # returns index of min elemen"
   ]
  },
  {
   "cell_type": "code",
   "execution_count": null,
   "metadata": {},
   "outputs": [],
   "source": []
  }
 ],
 "metadata": {
  "kernelspec": {
   "display_name": "base",
   "language": "python",
   "name": "python3"
  },
  "language_info": {
   "codemirror_mode": {
    "name": "ipython",
    "version": 3
   },
   "file_extension": ".py",
   "mimetype": "text/x-python",
   "name": "python",
   "nbconvert_exporter": "python",
   "pygments_lexer": "ipython3",
   "version": "3.11.5"
  }
 },
 "nbformat": 4,
 "nbformat_minor": 2
}
