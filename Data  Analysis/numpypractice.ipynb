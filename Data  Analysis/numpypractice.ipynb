{
 "cells": [
  {
   "cell_type": "code",
   "execution_count": 9,
   "metadata": {},
   "outputs": [],
   "source": [
    "import numpy as np"
   ]
  },
  {
   "cell_type": "markdown",
   "metadata": {},
   "source": [
    "## Write a NumPy program to create an array of 10 zeros."
   ]
  },
  {
   "cell_type": "code",
   "execution_count": 3,
   "metadata": {},
   "outputs": [
    {
     "name": "stdout",
     "output_type": "stream",
     "text": [
      "[0. 0. 0. 0. 0. 0. 0. 0. 0. 0.]\n"
     ]
    }
   ],
   "source": [
    "arr = np.zeros(10)\n",
    "print(arr)"
   ]
  },
  {
   "cell_type": "markdown",
   "metadata": {},
   "source": [
    "## Write a NumPy program to create an array of 10 ones."
   ]
  },
  {
   "cell_type": "code",
   "execution_count": 4,
   "metadata": {},
   "outputs": [
    {
     "name": "stdout",
     "output_type": "stream",
     "text": [
      "[1. 1. 1. 1. 1. 1. 1. 1. 1. 1.]\n"
     ]
    }
   ],
   "source": [
    "arr1 = np.ones(10)\n",
    "print(arr1)"
   ]
  },
  {
   "cell_type": "markdown",
   "metadata": {},
   "source": [
    "## Write a NumPy program to create a 3x3 matrix with values ranging from 0 to 8."
   ]
  },
  {
   "cell_type": "code",
   "execution_count": 5,
   "metadata": {},
   "outputs": [
    {
     "name": "stdout",
     "output_type": "stream",
     "text": [
      "[[0 1 2]\n",
      " [3 4 5]\n",
      " [6 7 8]]\n"
     ]
    }
   ],
   "source": [
    "arr2 = np.arange(9).reshape(3,3)\n",
    "print(arr2)\n"
   ]
  },
  {
   "cell_type": "markdown",
   "metadata": {},
   "source": [
    "## Write a NumPy program to reverse an array (first element becomes the last)."
   ]
  },
  {
   "cell_type": "code",
   "execution_count": 6,
   "metadata": {},
   "outputs": [
    {
     "name": "stdout",
     "output_type": "stream",
     "text": [
      "[[1 2 3 4]\n",
      " [5 6 7 8]]\n",
      "\n",
      "[[8 7 6 5]\n",
      " [4 3 2 1]]\n"
     ]
    }
   ],
   "source": [
    "a= np.array([[1,2,3,4],[5,6,7,8]])\n",
    "print(a)\n",
    "b= np.flip(a)\n",
    "print()\n",
    "print(b)"
   ]
  },
  {
   "cell_type": "markdown",
   "metadata": {},
   "source": [
    "## Write a NumPy program to extract all odd numbers from an array."
   ]
  },
  {
   "cell_type": "code",
   "execution_count": null,
   "metadata": {},
   "outputs": [],
   "source": []
  },
  {
   "cell_type": "markdown",
   "metadata": {},
   "source": [
    "## Write a NumPy program to compute the sum of all elements, mean, and standard deviation of a given array."
   ]
  },
  {
   "cell_type": "code",
   "execution_count": 16,
   "metadata": {},
   "outputs": [
    {
     "name": "stdout",
     "output_type": "stream",
     "text": [
      "[[ 9 60  9]\n",
      " [22 84 75]\n",
      " [86 68 83]]\n",
      "sum: 496\n",
      "mean: 55.111111111111114\n",
      "standard deviation: 30.733421707915035\n"
     ]
    }
   ],
   "source": [
    "num =np.random.randint(1,100,(3,3))\n",
    "print(num)\n",
    "print('sum:',np.sum(num))\n",
    "print('mean:',np.mean(num))\n",
    "print('standard deviation:',np.std(num))\n"
   ]
  },
  {
   "cell_type": "markdown",
   "metadata": {},
   "source": [
    "## Write a NumPy program to create a 5x5 matrix with random values and find the minimum and maximum values."
   ]
  },
  {
   "cell_type": "code",
   "execution_count": 13,
   "metadata": {},
   "outputs": [
    {
     "name": "stdout",
     "output_type": "stream",
     "text": [
      "[[39 42 29 26 11]\n",
      " [39 35 25 16 30]\n",
      " [48 44 22 23 42]\n",
      " [45 19 26 49 16]\n",
      " [30 23 27 31 32]]\n",
      "max value: 49\n",
      "min value: 11\n"
     ]
    }
   ],
   "source": [
    "ranval = np.random.randint(1,50,(5,5))\n",
    "print(ranval)\n",
    "print('max value:',np.max(ranval))\n",
    "print('min value:',np.min(ranval))"
   ]
  },
  {
   "cell_type": "markdown",
   "metadata": {},
   "source": [
    "## Write a NumPy program to create a 2D array with 1 on the border and 0 inside."
   ]
  },
  {
   "cell_type": "code",
   "execution_count": null,
   "metadata": {},
   "outputs": [],
   "source": []
  },
  {
   "cell_type": "markdown",
   "metadata": {},
   "source": [
    "## Write a NumPy program to multiply two given matrices."
   ]
  },
  {
   "cell_type": "code",
   "execution_count": null,
   "metadata": {},
   "outputs": [
    {
     "name": "stdout",
     "output_type": "stream",
     "text": [
      "[[ 6 16  3  8]\n",
      " [20 36 49 64]]\n"
     ]
    }
   ],
   "source": [
    "a= np.array([[1,2,3,4],[5,6,7,8]])\n",
    "c = np.array([[6,8,1,2],[4,6,7,8]])\n",
    "m = np.multiply(a,c)\n",
    "print(m)"
   ]
  },
  {
   "cell_type": "code",
   "execution_count": null,
   "metadata": {},
   "outputs": [
    {
     "name": "stdout",
     "output_type": "stream",
     "text": [
      "[[ 783 2755 1794]\n",
      " [1914  455   52]]\n"
     ]
    }
   ],
   "source": [
    "x_1= np.random.randint(1,100,(2,3))\n",
    "x_2= np.random.randint(1,100,(2,3))\n",
    "\n",
    "x_3 = np.multiply(x_1,x_2)\n",
    "print(x_3)"
   ]
  },
  {
   "cell_type": "markdown",
   "metadata": {},
   "source": [
    "## Write a NumPy program to find the unique elements of an array."
   ]
  },
  {
   "cell_type": "code",
   "execution_count": null,
   "metadata": {},
   "outputs": [
    {
     "data": {
      "text/plain": [
       "array([ 1,  2,  3,  4,  6,  7,  9, 52, 75])"
      ]
     },
     "execution_count": 14,
     "metadata": {},
     "output_type": "execute_result"
    }
   ],
   "source": [
    "array = [1,2,52,1,6,1,75,7,4,6,4,7,4,7,9,3,6]\n",
    "np.unique(array)"
   ]
  },
  {
   "cell_type": "markdown",
   "metadata": {},
   "source": [
    "## Write a NumPy program to extract the elements in the odd-numbered columns of a 2D array."
   ]
  },
  {
   "cell_type": "code",
   "execution_count": 20,
   "metadata": {},
   "outputs": [
    {
     "name": "stdout",
     "output_type": "stream",
     "text": [
      "[[ 8 41 46 41 44]\n",
      " [10 26  7 28 17]\n",
      " [26  4 23 32 24]\n",
      " [45  2  8 10  1]\n",
      " [ 6 46  9  3 21]]\n",
      "\n",
      "[[41 41]\n",
      " [26 28]\n",
      " [ 4 32]\n",
      " [ 2 10]\n",
      " [46  3]]\n"
     ]
    }
   ],
   "source": [
    "arr_1= np.random.randint(1,50,(5,5))\n",
    "print(arr_1)\n",
    "print()\n",
    "print(arr_1[:,[1,3]])"
   ]
  },
  {
   "cell_type": "markdown",
   "metadata": {},
   "source": [
    "## Write a NumPy program to extract the elements in the even-numbered rows of a 2D array."
   ]
  },
  {
   "cell_type": "code",
   "execution_count": 21,
   "metadata": {},
   "outputs": [
    {
     "name": "stdout",
     "output_type": "stream",
     "text": [
      "[[26  4 23 32 24]\n",
      " [ 6 46  9  3 21]]\n"
     ]
    }
   ],
   "source": [
    "print(arr_1[[2,4],:])"
   ]
  },
  {
   "cell_type": "markdown",
   "metadata": {},
   "source": [
    "## Write a NumPy program to extract a subarray from a given array. The subarray should include the first 3 rows and the columns from index 1 to 4 (inclusive)."
   ]
  },
  {
   "cell_type": "code",
   "execution_count": null,
   "metadata": {},
   "outputs": [],
   "source": []
  },
  {
   "cell_type": "markdown",
   "metadata": {},
   "source": [
    "## Write a NumPy program to reverse the order of elements in each column of a 2D array."
   ]
  },
  {
   "cell_type": "code",
   "execution_count": null,
   "metadata": {},
   "outputs": [],
   "source": []
  },
  {
   "cell_type": "markdown",
   "metadata": {},
   "source": [
    "## Write a NumPy program to create a diagonal matrix from a given 1D array. The elements below the diagonal should be zero, and the elements above the diagonal should be squared."
   ]
  },
  {
   "cell_type": "markdown",
   "metadata": {},
   "source": []
  }
 ],
 "metadata": {
  "kernelspec": {
   "display_name": "base",
   "language": "python",
   "name": "python3"
  },
  "language_info": {
   "codemirror_mode": {
    "name": "ipython",
    "version": 3
   },
   "file_extension": ".py",
   "mimetype": "text/x-python",
   "name": "python",
   "nbconvert_exporter": "python",
   "pygments_lexer": "ipython3",
   "version": "3.11.5"
  }
 },
 "nbformat": 4,
 "nbformat_minor": 2
}
